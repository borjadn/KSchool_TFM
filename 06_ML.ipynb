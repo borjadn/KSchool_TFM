{
 "cells": [
  {
   "cell_type": "code",
   "execution_count": 1,
   "metadata": {},
   "outputs": [],
   "source": [
    "# Basic Pack\n",
    "import pandas as pd\n",
    "import numpy as np\n",
    "import matplotlib.pyplot as plt\n",
    "import seaborn as sns\n",
    "\n",
    "# Preprocessing\n",
    "from sklearn.preprocessing import StandardScaler\n",
    "\n",
    "# Cross Validation\n",
    "from sklearn.model_selection import train_test_split\n",
    "from sklearn.model_selection import cross_val_score\n",
    "\n",
    "# Classifiers\n",
    "from sklearn.linear_model import LogisticRegression\n",
    "from sklearn.neighbors import KNeighborsClassifier\n",
    "from sklearn.tree import DecisionTreeClassifier\n",
    "from sklearn.svm import LinearSVC, SVC\n",
    "from sklearn.ensemble import RandomForestClassifier, BaggingClassifier, AdaBoostClassifier, GradientBoostingClassifier\n",
    "from xgboost import XGBClassifier\n",
    "\n",
    "## Classifier Metrics\n",
    "from sklearn.metrics import  f1_score, accuracy_score, confusion_matrix, roc_auc_score, recall_score, precision_score\n",
    "\n",
    "# Regressors\n",
    "from sklearn.linear_model import LinearRegression, Ridge, Lasso, ElasticNet\n",
    "from sklearn.neighbors import KNeighborsRegressor\n",
    "from sklearn.tree import DecisionTreeRegressor\n",
    "from sklearn.svm import LinearSVR, SVR\n",
    "from sklearn.ensemble import RandomForestRegressor, BaggingRegressor, AdaBoostRegressor, GradientBoostingRegressor\n",
    "from xgboost import XGBRegressor\n",
    "\n",
    "## Regressor Metrics\n",
    "from sklearn.metrics import mean_squared_error, mean_absolute_error, explained_variance_score, r2_score\n",
    "\n",
    "# Hyperparameter Optimization\n",
    "from sklearn.model_selection import GridSearchCV\n",
    "\n",
    "# Synthetic Minority Over-sampling Technique\n",
    "from imblearn.over_sampling import SMOTE\n",
    "\n",
    "# Turn off warnings to ease reading\n",
    "import warnings\n",
    "warnings.filterwarnings('ignore')"
   ]
  },
  {
   "cell_type": "markdown",
   "metadata": {},
   "source": [
    "---\n",
    "# 0. Loading the data"
   ]
  },
  {
   "cell_type": "code",
   "execution_count": 2,
   "metadata": {},
   "outputs": [
    {
     "data": {
      "text/html": [
       "<div>\n",
       "<style scoped>\n",
       "    .dataframe tbody tr th:only-of-type {\n",
       "        vertical-align: middle;\n",
       "    }\n",
       "\n",
       "    .dataframe tbody tr th {\n",
       "        vertical-align: top;\n",
       "    }\n",
       "\n",
       "    .dataframe thead th {\n",
       "        text-align: right;\n",
       "    }\n",
       "</style>\n",
       "<table border=\"1\" class=\"dataframe\">\n",
       "  <thead>\n",
       "    <tr style=\"text-align: right;\">\n",
       "      <th></th>\n",
       "      <th>Title</th>\n",
       "      <th>Publisher</th>\n",
       "      <th>Developer</th>\n",
       "      <th>Hit</th>\n",
       "      <th>Sales_total</th>\n",
       "      <th>Suggest_count</th>\n",
       "      <th>P_MicroSoft</th>\n",
       "      <th>P_Nintendo</th>\n",
       "      <th>P_Other</th>\n",
       "      <th>P_PC</th>\n",
       "      <th>...</th>\n",
       "      <th>T_Sci_fi</th>\n",
       "      <th>T_Open_World</th>\n",
       "      <th>T_1st_Person</th>\n",
       "      <th>T_3rd_Person</th>\n",
       "      <th>T_Fantasy</th>\n",
       "      <th>T_Fem_Protag</th>\n",
       "      <th>T_Hard</th>\n",
       "      <th>T_FPS</th>\n",
       "      <th>Release_Y</th>\n",
       "      <th>Release_M</th>\n",
       "    </tr>\n",
       "  </thead>\n",
       "  <tbody>\n",
       "    <tr>\n",
       "      <th>0</th>\n",
       "      <td>\"Nuke It\"</td>\n",
       "      <td>CrystalVision</td>\n",
       "      <td>CrystalVision</td>\n",
       "      <td>0.0</td>\n",
       "      <td>0.060714</td>\n",
       "      <td>NaN</td>\n",
       "      <td>0</td>\n",
       "      <td>0</td>\n",
       "      <td>0</td>\n",
       "      <td>1</td>\n",
       "      <td>...</td>\n",
       "      <td>0</td>\n",
       "      <td>0</td>\n",
       "      <td>0</td>\n",
       "      <td>0</td>\n",
       "      <td>0</td>\n",
       "      <td>0</td>\n",
       "      <td>0</td>\n",
       "      <td>0</td>\n",
       "      <td>1998</td>\n",
       "      <td>1</td>\n",
       "    </tr>\n",
       "    <tr>\n",
       "      <th>1</th>\n",
       "      <td>#IDARB</td>\n",
       "      <td>Other Ocean Interactive</td>\n",
       "      <td>Other Ocean Interactive</td>\n",
       "      <td>0.0</td>\n",
       "      <td>0.085000</td>\n",
       "      <td>182.0</td>\n",
       "      <td>1</td>\n",
       "      <td>0</td>\n",
       "      <td>0</td>\n",
       "      <td>0</td>\n",
       "      <td>...</td>\n",
       "      <td>0</td>\n",
       "      <td>0</td>\n",
       "      <td>0</td>\n",
       "      <td>0</td>\n",
       "      <td>0</td>\n",
       "      <td>0</td>\n",
       "      <td>0</td>\n",
       "      <td>0</td>\n",
       "      <td>2015</td>\n",
       "      <td>1</td>\n",
       "    </tr>\n",
       "    <tr>\n",
       "      <th>2</th>\n",
       "      <td>#killallzombies</td>\n",
       "      <td>Beatshapers</td>\n",
       "      <td>Beatshapers</td>\n",
       "      <td>0.0</td>\n",
       "      <td>0.085000</td>\n",
       "      <td>NaN</td>\n",
       "      <td>0</td>\n",
       "      <td>0</td>\n",
       "      <td>0</td>\n",
       "      <td>0</td>\n",
       "      <td>...</td>\n",
       "      <td>0</td>\n",
       "      <td>0</td>\n",
       "      <td>0</td>\n",
       "      <td>0</td>\n",
       "      <td>0</td>\n",
       "      <td>0</td>\n",
       "      <td>0</td>\n",
       "      <td>0</td>\n",
       "      <td>2015</td>\n",
       "      <td>1</td>\n",
       "    </tr>\n",
       "    <tr>\n",
       "      <th>3</th>\n",
       "      <td>'70s Robot Anime: Geppy-X</td>\n",
       "      <td>Aroma</td>\n",
       "      <td>Aroma</td>\n",
       "      <td>0.0</td>\n",
       "      <td>0.060714</td>\n",
       "      <td>NaN</td>\n",
       "      <td>0</td>\n",
       "      <td>0</td>\n",
       "      <td>0</td>\n",
       "      <td>0</td>\n",
       "      <td>...</td>\n",
       "      <td>0</td>\n",
       "      <td>0</td>\n",
       "      <td>0</td>\n",
       "      <td>0</td>\n",
       "      <td>0</td>\n",
       "      <td>0</td>\n",
       "      <td>0</td>\n",
       "      <td>0</td>\n",
       "      <td>1999</td>\n",
       "      <td>5</td>\n",
       "    </tr>\n",
       "    <tr>\n",
       "      <th>4</th>\n",
       "      <td>'98 Koshien</td>\n",
       "      <td>Magical Company</td>\n",
       "      <td>Magical Company</td>\n",
       "      <td>0.0</td>\n",
       "      <td>0.146429</td>\n",
       "      <td>NaN</td>\n",
       "      <td>0</td>\n",
       "      <td>0</td>\n",
       "      <td>0</td>\n",
       "      <td>0</td>\n",
       "      <td>...</td>\n",
       "      <td>0</td>\n",
       "      <td>0</td>\n",
       "      <td>0</td>\n",
       "      <td>0</td>\n",
       "      <td>0</td>\n",
       "      <td>0</td>\n",
       "      <td>0</td>\n",
       "      <td>0</td>\n",
       "      <td>1998</td>\n",
       "      <td>6</td>\n",
       "    </tr>\n",
       "  </tbody>\n",
       "</table>\n",
       "<p>5 rows × 73 columns</p>\n",
       "</div>"
      ],
      "text/plain": [
       "                       Title                Publisher  \\\n",
       "0                  \"Nuke It\"            CrystalVision   \n",
       "1                     #IDARB  Other Ocean Interactive   \n",
       "2            #killallzombies              Beatshapers   \n",
       "3  '70s Robot Anime: Geppy-X                    Aroma   \n",
       "4                '98 Koshien          Magical Company   \n",
       "\n",
       "                 Developer  Hit  Sales_total  Suggest_count  P_MicroSoft  \\\n",
       "0            CrystalVision  0.0     0.060714            NaN            0   \n",
       "1  Other Ocean Interactive  0.0     0.085000          182.0            1   \n",
       "2              Beatshapers  0.0     0.085000            NaN            0   \n",
       "3                    Aroma  0.0     0.060714            NaN            0   \n",
       "4          Magical Company  0.0     0.146429            NaN            0   \n",
       "\n",
       "   P_Nintendo  P_Other  P_PC  ...  T_Sci_fi  T_Open_World  T_1st_Person  \\\n",
       "0           0        0     1  ...         0             0             0   \n",
       "1           0        0     0  ...         0             0             0   \n",
       "2           0        0     0  ...         0             0             0   \n",
       "3           0        0     0  ...         0             0             0   \n",
       "4           0        0     0  ...         0             0             0   \n",
       "\n",
       "   T_3rd_Person  T_Fantasy  T_Fem_Protag  T_Hard  T_FPS  Release_Y  Release_M  \n",
       "0             0          0             0       0      0       1998          1  \n",
       "1             0          0             0       0      0       2015          1  \n",
       "2             0          0             0       0      0       2015          1  \n",
       "3             0          0             0       0      0       1999          5  \n",
       "4             0          0             0       0      0       1998          6  \n",
       "\n",
       "[5 rows x 73 columns]"
      ]
     },
     "execution_count": 2,
     "metadata": {},
     "output_type": "execute_result"
    }
   ],
   "source": [
    "data = pd.read_csv('05_encoded.csv')\n",
    "data.head()"
   ]
  },
  {
   "cell_type": "markdown",
   "metadata": {},
   "source": [
    "---\n",
    "## 0.1. Target Encoding\n",
    "\n",
    "We want to Target Encode `Publisher` and `Developer`. However, before doing that, we should check for redundant values.\n",
    "\n",
    "In case we find a redundant value, we have to transform them into another non-redundant value.\n",
    "\n",
    "We also only want the top 30 values for each column, offsetting the rest of values to `Other`."
   ]
  },
  {
   "cell_type": "code",
   "execution_count": 3,
   "metadata": {},
   "outputs": [],
   "source": [
    "top_pub = pd.Series(data.Publisher.value_counts()[:50].index)\n",
    "top_dev = pd.Series(data.Developer.value_counts()[:50].index)"
   ]
  },
  {
   "cell_type": "code",
   "execution_count": 4,
   "metadata": {},
   "outputs": [
    {
     "data": {
      "text/html": [
       "<div>\n",
       "<style scoped>\n",
       "    .dataframe tbody tr th:only-of-type {\n",
       "        vertical-align: middle;\n",
       "    }\n",
       "\n",
       "    .dataframe tbody tr th {\n",
       "        vertical-align: top;\n",
       "    }\n",
       "\n",
       "    .dataframe thead th {\n",
       "        text-align: right;\n",
       "    }\n",
       "</style>\n",
       "<table border=\"1\" class=\"dataframe\">\n",
       "  <thead>\n",
       "    <tr style=\"text-align: right;\">\n",
       "      <th></th>\n",
       "      <th>Develpers</th>\n",
       "      <th>Publishers</th>\n",
       "    </tr>\n",
       "  </thead>\n",
       "  <tbody>\n",
       "    <tr>\n",
       "      <th>0</th>\n",
       "      <td>Unknown</td>\n",
       "      <td>Unknown</td>\n",
       "    </tr>\n",
       "    <tr>\n",
       "      <th>1</th>\n",
       "      <td>Konami</td>\n",
       "      <td>Sega</td>\n",
       "    </tr>\n",
       "    <tr>\n",
       "      <th>2</th>\n",
       "      <td>Sega</td>\n",
       "      <td>Microsoft</td>\n",
       "    </tr>\n",
       "    <tr>\n",
       "      <th>3</th>\n",
       "      <td>Capcom</td>\n",
       "      <td>Konami</td>\n",
       "    </tr>\n",
       "    <tr>\n",
       "      <th>4</th>\n",
       "      <td>Namco</td>\n",
       "      <td>Nintendo</td>\n",
       "    </tr>\n",
       "    <tr>\n",
       "      <th>5</th>\n",
       "      <td>Bandai</td>\n",
       "      <td>Sony Computer Entertainment</td>\n",
       "    </tr>\n",
       "    <tr>\n",
       "      <th>6</th>\n",
       "      <td>Hudson Soft</td>\n",
       "      <td>Ubisoft</td>\n",
       "    </tr>\n",
       "    <tr>\n",
       "      <th>7</th>\n",
       "      <td>Bandai Namco Games</td>\n",
       "      <td>Electronic Arts</td>\n",
       "    </tr>\n",
       "    <tr>\n",
       "      <th>8</th>\n",
       "      <td>SNK Corporation</td>\n",
       "      <td>Activision</td>\n",
       "    </tr>\n",
       "    <tr>\n",
       "      <th>9</th>\n",
       "      <td>Ubisoft</td>\n",
       "      <td>Capcom</td>\n",
       "    </tr>\n",
       "    <tr>\n",
       "      <th>10</th>\n",
       "      <td>Square Enix</td>\n",
       "      <td>Bandai</td>\n",
       "    </tr>\n",
       "    <tr>\n",
       "      <th>11</th>\n",
       "      <td>Taito Corporation</td>\n",
       "      <td>THQ</td>\n",
       "    </tr>\n",
       "    <tr>\n",
       "      <th>12</th>\n",
       "      <td>Idea Factory</td>\n",
       "      <td>Atari</td>\n",
       "    </tr>\n",
       "    <tr>\n",
       "      <th>13</th>\n",
       "      <td>Koei</td>\n",
       "      <td>Namco Bandai</td>\n",
       "    </tr>\n",
       "    <tr>\n",
       "      <th>14</th>\n",
       "      <td>Nintendo</td>\n",
       "      <td>D3 Publisher</td>\n",
       "    </tr>\n",
       "    <tr>\n",
       "      <th>15</th>\n",
       "      <td>Atari</td>\n",
       "      <td>Hudson Soft</td>\n",
       "    </tr>\n",
       "    <tr>\n",
       "      <th>16</th>\n",
       "      <td>Namco Bandai Games</td>\n",
       "      <td>Namco</td>\n",
       "    </tr>\n",
       "    <tr>\n",
       "      <th>17</th>\n",
       "      <td>Banpresto</td>\n",
       "      <td>Square Enix</td>\n",
       "    </tr>\n",
       "    <tr>\n",
       "      <th>18</th>\n",
       "      <td>EA Canada</td>\n",
       "      <td>Atlus</td>\n",
       "    </tr>\n",
       "    <tr>\n",
       "      <th>19</th>\n",
       "      <td>Activision</td>\n",
       "      <td>Namco Bandai Games</td>\n",
       "    </tr>\n",
       "    <tr>\n",
       "      <th>20</th>\n",
       "      <td>Arc System Works</td>\n",
       "      <td>KOEI</td>\n",
       "    </tr>\n",
       "    <tr>\n",
       "      <th>21</th>\n",
       "      <td>Nippon Ichi Software</td>\n",
       "      <td>Idea Factory</td>\n",
       "    </tr>\n",
       "    <tr>\n",
       "      <th>22</th>\n",
       "      <td>Omega Force</td>\n",
       "      <td>EA Sports</td>\n",
       "    </tr>\n",
       "    <tr>\n",
       "      <th>23</th>\n",
       "      <td>SCEE London Studio</td>\n",
       "      <td>Acclaim Entertainment</td>\n",
       "    </tr>\n",
       "    <tr>\n",
       "      <th>24</th>\n",
       "      <td>SunSoft</td>\n",
       "      <td>Majesco</td>\n",
       "    </tr>\n",
       "    <tr>\n",
       "      <th>25</th>\n",
       "      <td>Success</td>\n",
       "      <td>Sierra Entertainment</td>\n",
       "    </tr>\n",
       "    <tr>\n",
       "      <th>26</th>\n",
       "      <td>Electronic Arts</td>\n",
       "      <td>Midway Games</td>\n",
       "    </tr>\n",
       "    <tr>\n",
       "      <th>27</th>\n",
       "      <td>Rare Ltd.</td>\n",
       "      <td>Taito</td>\n",
       "    </tr>\n",
       "    <tr>\n",
       "      <th>28</th>\n",
       "      <td>From Software</td>\n",
       "      <td>Eidos Interactive</td>\n",
       "    </tr>\n",
       "    <tr>\n",
       "      <th>29</th>\n",
       "      <td>Nintendo EAD</td>\n",
       "      <td>Banpresto</td>\n",
       "    </tr>\n",
       "    <tr>\n",
       "      <th>30</th>\n",
       "      <td>Culture Brain</td>\n",
       "      <td>Microsoft Game Studios</td>\n",
       "    </tr>\n",
       "    <tr>\n",
       "      <th>31</th>\n",
       "      <td>Atlus Co.</td>\n",
       "      <td>505 Games</td>\n",
       "    </tr>\n",
       "    <tr>\n",
       "      <th>32</th>\n",
       "      <td>Data East</td>\n",
       "      <td>Interplay</td>\n",
       "    </tr>\n",
       "    <tr>\n",
       "      <th>33</th>\n",
       "      <td>Ubisoft Montreal</td>\n",
       "      <td>Hamster Corporation</td>\n",
       "    </tr>\n",
       "    <tr>\n",
       "      <th>34</th>\n",
       "      <td>EA Tiburon</td>\n",
       "      <td>DreamCatcher Interactive</td>\n",
       "    </tr>\n",
       "    <tr>\n",
       "      <th>35</th>\n",
       "      <td>Jaleco Entertainment</td>\n",
       "      <td>SNK</td>\n",
       "    </tr>\n",
       "    <tr>\n",
       "      <th>36</th>\n",
       "      <td>Marvelous Interactive</td>\n",
       "      <td>Paradox Interactive</td>\n",
       "    </tr>\n",
       "    <tr>\n",
       "      <th>37</th>\n",
       "      <td>Natsume</td>\n",
       "      <td>Disney Interactive Studios</td>\n",
       "    </tr>\n",
       "    <tr>\n",
       "      <th>38</th>\n",
       "      <td>Tecmo</td>\n",
       "      <td>Codemasters</td>\n",
       "    </tr>\n",
       "    <tr>\n",
       "      <th>39</th>\n",
       "      <td>Irem Software Engineering</td>\n",
       "      <td>NIS America</td>\n",
       "    </tr>\n",
       "    <tr>\n",
       "      <th>40</th>\n",
       "      <td>MTO</td>\n",
       "      <td>Sunsoft</td>\n",
       "    </tr>\n",
       "    <tr>\n",
       "      <th>41</th>\n",
       "      <td>Takara</td>\n",
       "      <td>Natsume</td>\n",
       "    </tr>\n",
       "    <tr>\n",
       "      <th>42</th>\n",
       "      <td>Codemasters</td>\n",
       "      <td>Tecmo Koei</td>\n",
       "    </tr>\n",
       "    <tr>\n",
       "      <th>43</th>\n",
       "      <td>Nihon Falcom Corporation</td>\n",
       "      <td>Jaleco</td>\n",
       "    </tr>\n",
       "    <tr>\n",
       "      <th>44</th>\n",
       "      <td>Level 5</td>\n",
       "      <td>Aksys Games</td>\n",
       "    </tr>\n",
       "    <tr>\n",
       "      <th>45</th>\n",
       "      <td>Digital Eclipse</td>\n",
       "      <td>LucasArts</td>\n",
       "    </tr>\n",
       "    <tr>\n",
       "      <th>46</th>\n",
       "      <td>HAL Laboratory</td>\n",
       "      <td>Crave Entertainment</td>\n",
       "    </tr>\n",
       "    <tr>\n",
       "      <th>47</th>\n",
       "      <td>Intelligent Systems</td>\n",
       "      <td>Tecmo</td>\n",
       "    </tr>\n",
       "    <tr>\n",
       "      <th>48</th>\n",
       "      <td>Compile Heart</td>\n",
       "      <td>Infogrames</td>\n",
       "    </tr>\n",
       "    <tr>\n",
       "      <th>49</th>\n",
       "      <td>THQ</td>\n",
       "      <td>2K Games</td>\n",
       "    </tr>\n",
       "  </tbody>\n",
       "</table>\n",
       "</div>"
      ],
      "text/plain": [
       "                    Develpers                   Publishers\n",
       "0                     Unknown                      Unknown\n",
       "1                      Konami                         Sega\n",
       "2                        Sega                    Microsoft\n",
       "3                      Capcom                       Konami\n",
       "4                       Namco                     Nintendo\n",
       "5                      Bandai  Sony Computer Entertainment\n",
       "6                 Hudson Soft                      Ubisoft\n",
       "7          Bandai Namco Games              Electronic Arts\n",
       "8             SNK Corporation                   Activision\n",
       "9                     Ubisoft                       Capcom\n",
       "10                Square Enix                       Bandai\n",
       "11          Taito Corporation                          THQ\n",
       "12               Idea Factory                        Atari\n",
       "13                       Koei                 Namco Bandai\n",
       "14                   Nintendo                 D3 Publisher\n",
       "15                      Atari                  Hudson Soft\n",
       "16         Namco Bandai Games                        Namco\n",
       "17                  Banpresto                  Square Enix\n",
       "18                  EA Canada                        Atlus\n",
       "19                 Activision           Namco Bandai Games\n",
       "20           Arc System Works                         KOEI\n",
       "21       Nippon Ichi Software                 Idea Factory\n",
       "22                Omega Force                    EA Sports\n",
       "23         SCEE London Studio        Acclaim Entertainment\n",
       "24                    SunSoft                      Majesco\n",
       "25                    Success         Sierra Entertainment\n",
       "26            Electronic Arts                 Midway Games\n",
       "27                  Rare Ltd.                        Taito\n",
       "28              From Software            Eidos Interactive\n",
       "29               Nintendo EAD                    Banpresto\n",
       "30              Culture Brain       Microsoft Game Studios\n",
       "31                  Atlus Co.                    505 Games\n",
       "32                  Data East                    Interplay\n",
       "33           Ubisoft Montreal          Hamster Corporation\n",
       "34                 EA Tiburon     DreamCatcher Interactive\n",
       "35       Jaleco Entertainment                          SNK\n",
       "36      Marvelous Interactive          Paradox Interactive\n",
       "37                    Natsume   Disney Interactive Studios\n",
       "38                      Tecmo                  Codemasters\n",
       "39  Irem Software Engineering                  NIS America\n",
       "40                        MTO                      Sunsoft\n",
       "41                     Takara                      Natsume\n",
       "42                Codemasters                   Tecmo Koei\n",
       "43   Nihon Falcom Corporation                       Jaleco\n",
       "44                    Level 5                  Aksys Games\n",
       "45            Digital Eclipse                    LucasArts\n",
       "46             HAL Laboratory          Crave Entertainment\n",
       "47        Intelligent Systems                        Tecmo\n",
       "48              Compile Heart                   Infogrames\n",
       "49                        THQ                     2K Games"
      ]
     },
     "execution_count": 4,
     "metadata": {},
     "output_type": "execute_result"
    }
   ],
   "source": [
    "pd.DataFrame({'Develpers': top_dev,'Publishers': top_pub})"
   ]
  },
  {
   "cell_type": "markdown",
   "metadata": {},
   "source": [
    "#### Developers\n",
    "\n",
    "- There are several **Electronic Ars** studios with names 'EA \\*****' > Transform into `Electronic Arts`.\n",
    "\n",
    "- **Nintendo**: idem > Transform into `Nintendo`.\n",
    "\n",
    "- **Ubisoft**: idem > Transform into `Ubisoft`.\n",
    "\n",
    "- **Konami**: idem > Transform into `Konami`.\n",
    "\n",
    "- **Sony**: has both developers containing `SCE` (Sony Computer Entertainment), `SIE` (Sony Interactive Entertainment) and `Sony` > Transform into `Sony Interactive Entertainment`.\n",
    "\n",
    "- There are several combinations of **Bandai** and **Namco**. Now they are **Bandai Namco** > Transform into `Bandai Namco`.\n",
    "\n",
    "- **Takara** & **Tomy**: idem > Transform into `Takara Tomy`.\n",
    "\n",
    "- **SquareSoft**, **Square** & **Enix** > Transform into `Square Enix`.\n",
    "\n",
    "\n",
    "#### Publishers\n",
    "\n",
    "- **Ubisoft**: same as in `Developers`.\n",
    "\n",
    "- **Bandai** & **Namco**: idem.\n",
    "\n",
    "- **Sony**: similar to what happened in `Developers`, but `SIE` doesn't affect.\n",
    "\n",
    "- **Square** & **Enix**: same as in `Developers`.\n",
    "\n",
    "- **Electronic Arts**: When looking for `EA`, only variants of `EA Sports` appear. > Unify them under `EA Sports`.\n",
    "\n",
    "- **Takara** & **Tomy**: same as in `Developers`."
   ]
  },
  {
   "cell_type": "code",
   "execution_count": 5,
   "metadata": {},
   "outputs": [],
   "source": [
    "# Lists of redundant developers\n",
    "\n",
    "dev_electronic_arts = list(data.Developer.value_counts().filter(regex='^EA\\s').index)\n",
    "dev_nintendo = list(data.Developer.value_counts().filter(like='Nintendo').index)\n",
    "dev_ubi = list(data.Developer.value_counts().filter(like='Ubisoft').index)\n",
    "\n",
    "dev_bandai_namco = list(data.Developer.value_counts().filter(like='Bandai').index) +\\\n",
    "                   list(data.Developer.value_counts().filter(like='Namco').index)\n",
    "\n",
    "dev_konami = list(data.Developer.value_counts().filter(like='Konami').index)\n",
    "\n",
    "dev_t_tomy = list(data.Developer.value_counts().filter(like='Takara').index) +\\\n",
    "             list(data.Developer.value_counts().filter(like='Tomy').index)\n",
    "\n",
    "dev_sie = list(data.Developer.value_counts().filter(like='SCE').index) +\\\n",
    "           list(data.Developer.value_counts().filter(regex='^SIE\\s').index) +\\\n",
    "           list(data.Developer.value_counts().filter(like='Sony').index)\n",
    "\n",
    "dev_square_e = list(data.Developer.value_counts().filter(like='SquareSoft').index) +\\\n",
    "               list(data.Developer.value_counts().filter(regex='^Square\\s').index) +\\\n",
    "               list(data.Developer.value_counts().filter(like='Enix').index)\n",
    "\n",
    "# Dictionaries of redundant developers with the correction as values\n",
    "\n",
    "dev_electronic_arts = dict.fromkeys(dev_electronic_arts, 'Electronic Arts')\n",
    "dev_nintendo = dict.fromkeys(dev_nintendo, 'Nintendo')\n",
    "dev_ubi = dict.fromkeys(dev_ubi, 'Ubisoft')\n",
    "dev_bandai_namco = dict.fromkeys(dev_bandai_namco, 'Bandai Namco')\n",
    "dev_konami = dict.fromkeys(dev_konami, 'Konami')\n",
    "dev_t_tomy = dict.fromkeys(dev_t_tomy, 'Takara Tomy')\n",
    "dev_sie = dict.fromkeys(dev_sie, 'Sony Interactive Entertainment')\n",
    "dev_square_e = dict.fromkeys(dev_square_e, 'Square Enix')"
   ]
  },
  {
   "cell_type": "code",
   "execution_count": 6,
   "metadata": {},
   "outputs": [],
   "source": [
    "# Lists of redundant publishers\n",
    "\n",
    "pub_ubi = list(data.Publisher.value_counts().filter(like='Ubisoft').index)\n",
    "pub_bandai_namco = list(data.Publisher.value_counts().filter(like='Bandai').index) +\\\n",
    "                   list(data.Publisher.value_counts().filter(like='Namco').index)\n",
    "\n",
    "pub_sie = list(data.Publisher.value_counts().filter(like='Sony').index) +\\\n",
    "          list(data.Publisher.value_counts().filter(like='SCE').index)\n",
    "\n",
    "pub_square_e = list(data.Publisher.value_counts().filter(like='Square').index) +\\\n",
    "               list(data.Publisher.value_counts().filter(like='Enix').index)\n",
    "\n",
    "pub_ea_sports = list(data.Publisher.value_counts().filter(regex='^EA\\s').index)\n",
    "\n",
    "pub_t_tomy = list(data.Publisher.value_counts().filter(like='Takara').index) +\\\n",
    "             list(data.Publisher.value_counts().filter(like='Tomy').index)\n",
    "\n",
    "\n",
    "# Dictionaries of redundant publishers with the correction as values\n",
    "\n",
    "pub_ubi = dict.fromkeys(pub_ubi, 'Ubisoft')\n",
    "pub_bandai_namco = dict.fromkeys(pub_bandai_namco, 'Bandai Namco')\n",
    "pub_sie = dict.fromkeys(pub_sie, 'Sony Interactive Entertainment')\n",
    "pub_square_e = dict.fromkeys(pub_square_e, 'Square Enix')\n",
    "pub_ea_sports = dict.fromkeys(pub_ea_sports, 'EA Sports')\n",
    "pub_t_tomy = dict.fromkeys(pub_t_tomy, 'Takara Tomy')"
   ]
  },
  {
   "cell_type": "markdown",
   "metadata": {},
   "source": [
    "### 0.1.1. Functions"
   ]
  },
  {
   "cell_type": "code",
   "execution_count": 7,
   "metadata": {},
   "outputs": [],
   "source": [
    "# Functions we are going to use\n",
    "\n",
    "def merge_dicts(*dict_args):\n",
    "    \"\"\"\n",
    "    Given any number of dictionaries, merge them into a new dictionaty.\n",
    "    \"\"\"\n",
    "    result = {}\n",
    "    \n",
    "    for dictionary in dict_args:\n",
    "        result.update(dictionary)\n",
    "        \n",
    "    return result\n",
    "\n",
    "#------------------------------------------------------------------------------------------------------------------------------------------------------------------------------------------------\n",
    "\n",
    "def combine_redundant(x, **kwargs):\n",
    "    \n",
    "    '''\n",
    "    Combines redundant columns using a dictionary (for Developers and Publishers in this case).\n",
    "    '''\n",
    "    \n",
    "    a_dict = kwargs['kwargs']\n",
    "    result = x\n",
    "    value = a_dict.get(x)\n",
    "    \n",
    "    if value != None:      \n",
    "        result = value \n",
    "    \n",
    "    return result\n",
    "\n",
    "#------------------------------------------------------------------------------------------------------------------------------------------------------------------------------------------------\n",
    "\n",
    "def convert_other(x, top_vals, to_drop):\n",
    "    \n",
    "    '''\n",
    "    Converts non-top_vals values for x to 'Other'.\n",
    "    '''\n",
    "    \n",
    "    result = x\n",
    "    top_vals = top_vals.copy()\n",
    "    top_vals.remove(to_drop)\n",
    "    \n",
    "    if x not in top_vals:\n",
    "        result = 'Other'\n",
    "    \n",
    "    return result"
   ]
  },
  {
   "cell_type": "markdown",
   "metadata": {},
   "source": [
    "### 0.1.2. Merging dictionaries and Transformation of values"
   ]
  },
  {
   "cell_type": "code",
   "execution_count": 8,
   "metadata": {},
   "outputs": [],
   "source": [
    "# Merging the different dictionaries into one single dictionary\n",
    "devs = merge_dicts(dev_electronic_arts, dev_nintendo, dev_ubi, dev_bandai_namco,\n",
    "                   dev_konami, dev_t_tomy, dev_sie, dev_square_e)\n",
    "\n",
    "pubs = merge_dicts(pub_ubi, pub_bandai_namco, pub_sie,\n",
    "                   pub_square_e, pub_ea_sports, pub_t_tomy)"
   ]
  },
  {
   "cell_type": "code",
   "execution_count": 9,
   "metadata": {},
   "outputs": [],
   "source": [
    "# Transforming redundant values\n",
    "\n",
    "data.Developer = data.Developer.apply(combine_redundant, kwargs=devs)\n",
    "data.Publisher = data.Publisher.apply(combine_redundant, kwargs=pubs)\n",
    "\n",
    "# We are going to use only the top 30 values of each category\n",
    "top_vals_dev = list(data.Developer.value_counts()[:30].index)\n",
    "top_vals_pub = list(data.Publisher.value_counts()[:30].index)\n",
    "\n",
    "#--------------------------------------------------------------------------------------------------\n",
    "\n",
    "data.Developer = data.Developer.apply(convert_other, top_vals = top_vals_dev, to_drop = 'Unknown')\n",
    "data.Publisher = data.Publisher.apply(convert_other, top_vals = top_vals_pub, to_drop = 'Unknown')"
   ]
  },
  {
   "cell_type": "markdown",
   "metadata": {},
   "source": [
    "### 0.1.3. Target Encoding the columns\n",
    "\n",
    "We are not dropping the original columns so that whenever we give them an input we can assign the correct encoded value."
   ]
  },
  {
   "cell_type": "code",
   "execution_count": 10,
   "metadata": {},
   "outputs": [],
   "source": [
    "from category_encoders import TargetEncoder\n",
    "\n",
    "te_dev = TargetEncoder()\n",
    "data['Developer_enc'] = te_dev.fit_transform(data['Developer'], data['Sales_total'])\n",
    "\n",
    "#-----------------------------------------------------------------------------------\n",
    "\n",
    "te_pub = TargetEncoder()\n",
    "data['Publisher_enc'] = te_pub.fit_transform(data['Publisher'], data['Sales_total'])"
   ]
  },
  {
   "cell_type": "code",
   "execution_count": 11,
   "metadata": {},
   "outputs": [
    {
     "data": {
      "text/html": [
       "<div>\n",
       "<style scoped>\n",
       "    .dataframe tbody tr th:only-of-type {\n",
       "        vertical-align: middle;\n",
       "    }\n",
       "\n",
       "    .dataframe tbody tr th {\n",
       "        vertical-align: top;\n",
       "    }\n",
       "\n",
       "    .dataframe thead th {\n",
       "        text-align: right;\n",
       "    }\n",
       "</style>\n",
       "<table border=\"1\" class=\"dataframe\">\n",
       "  <thead>\n",
       "    <tr style=\"text-align: right;\">\n",
       "      <th></th>\n",
       "      <th>Title</th>\n",
       "      <th>Publisher</th>\n",
       "      <th>Developer</th>\n",
       "      <th>Hit</th>\n",
       "      <th>Sales_total</th>\n",
       "      <th>Suggest_count</th>\n",
       "      <th>P_MicroSoft</th>\n",
       "      <th>P_Nintendo</th>\n",
       "      <th>P_Other</th>\n",
       "      <th>P_PC</th>\n",
       "      <th>...</th>\n",
       "      <th>T_1st_Person</th>\n",
       "      <th>T_3rd_Person</th>\n",
       "      <th>T_Fantasy</th>\n",
       "      <th>T_Fem_Protag</th>\n",
       "      <th>T_Hard</th>\n",
       "      <th>T_FPS</th>\n",
       "      <th>Release_Y</th>\n",
       "      <th>Release_M</th>\n",
       "      <th>Developer_enc</th>\n",
       "      <th>Publisher_enc</th>\n",
       "    </tr>\n",
       "  </thead>\n",
       "  <tbody>\n",
       "    <tr>\n",
       "      <th>0</th>\n",
       "      <td>\"Nuke It\"</td>\n",
       "      <td>Other</td>\n",
       "      <td>Other</td>\n",
       "      <td>0.0</td>\n",
       "      <td>0.060714</td>\n",
       "      <td>NaN</td>\n",
       "      <td>0</td>\n",
       "      <td>0</td>\n",
       "      <td>0</td>\n",
       "      <td>1</td>\n",
       "      <td>...</td>\n",
       "      <td>0</td>\n",
       "      <td>0</td>\n",
       "      <td>0</td>\n",
       "      <td>0</td>\n",
       "      <td>0</td>\n",
       "      <td>0</td>\n",
       "      <td>1998</td>\n",
       "      <td>1</td>\n",
       "      <td>0.169040</td>\n",
       "      <td>0.136709</td>\n",
       "    </tr>\n",
       "    <tr>\n",
       "      <th>1</th>\n",
       "      <td>#IDARB</td>\n",
       "      <td>Other</td>\n",
       "      <td>Other</td>\n",
       "      <td>0.0</td>\n",
       "      <td>0.085000</td>\n",
       "      <td>182.0</td>\n",
       "      <td>1</td>\n",
       "      <td>0</td>\n",
       "      <td>0</td>\n",
       "      <td>0</td>\n",
       "      <td>...</td>\n",
       "      <td>0</td>\n",
       "      <td>0</td>\n",
       "      <td>0</td>\n",
       "      <td>0</td>\n",
       "      <td>0</td>\n",
       "      <td>0</td>\n",
       "      <td>2015</td>\n",
       "      <td>1</td>\n",
       "      <td>0.169040</td>\n",
       "      <td>0.136709</td>\n",
       "    </tr>\n",
       "    <tr>\n",
       "      <th>2</th>\n",
       "      <td>#killallzombies</td>\n",
       "      <td>Other</td>\n",
       "      <td>Other</td>\n",
       "      <td>0.0</td>\n",
       "      <td>0.085000</td>\n",
       "      <td>NaN</td>\n",
       "      <td>0</td>\n",
       "      <td>0</td>\n",
       "      <td>0</td>\n",
       "      <td>0</td>\n",
       "      <td>...</td>\n",
       "      <td>0</td>\n",
       "      <td>0</td>\n",
       "      <td>0</td>\n",
       "      <td>0</td>\n",
       "      <td>0</td>\n",
       "      <td>0</td>\n",
       "      <td>2015</td>\n",
       "      <td>1</td>\n",
       "      <td>0.169040</td>\n",
       "      <td>0.136709</td>\n",
       "    </tr>\n",
       "    <tr>\n",
       "      <th>3</th>\n",
       "      <td>'70s Robot Anime: Geppy-X</td>\n",
       "      <td>Other</td>\n",
       "      <td>Other</td>\n",
       "      <td>0.0</td>\n",
       "      <td>0.060714</td>\n",
       "      <td>NaN</td>\n",
       "      <td>0</td>\n",
       "      <td>0</td>\n",
       "      <td>0</td>\n",
       "      <td>0</td>\n",
       "      <td>...</td>\n",
       "      <td>0</td>\n",
       "      <td>0</td>\n",
       "      <td>0</td>\n",
       "      <td>0</td>\n",
       "      <td>0</td>\n",
       "      <td>0</td>\n",
       "      <td>1999</td>\n",
       "      <td>5</td>\n",
       "      <td>0.169040</td>\n",
       "      <td>0.136709</td>\n",
       "    </tr>\n",
       "    <tr>\n",
       "      <th>4</th>\n",
       "      <td>'98 Koshien</td>\n",
       "      <td>Other</td>\n",
       "      <td>Other</td>\n",
       "      <td>0.0</td>\n",
       "      <td>0.146429</td>\n",
       "      <td>NaN</td>\n",
       "      <td>0</td>\n",
       "      <td>0</td>\n",
       "      <td>0</td>\n",
       "      <td>0</td>\n",
       "      <td>...</td>\n",
       "      <td>0</td>\n",
       "      <td>0</td>\n",
       "      <td>0</td>\n",
       "      <td>0</td>\n",
       "      <td>0</td>\n",
       "      <td>0</td>\n",
       "      <td>1998</td>\n",
       "      <td>6</td>\n",
       "      <td>0.169040</td>\n",
       "      <td>0.136709</td>\n",
       "    </tr>\n",
       "    <tr>\n",
       "      <th>...</th>\n",
       "      <td>...</td>\n",
       "      <td>...</td>\n",
       "      <td>...</td>\n",
       "      <td>...</td>\n",
       "      <td>...</td>\n",
       "      <td>...</td>\n",
       "      <td>...</td>\n",
       "      <td>...</td>\n",
       "      <td>...</td>\n",
       "      <td>...</td>\n",
       "      <td>...</td>\n",
       "      <td>...</td>\n",
       "      <td>...</td>\n",
       "      <td>...</td>\n",
       "      <td>...</td>\n",
       "      <td>...</td>\n",
       "      <td>...</td>\n",
       "      <td>...</td>\n",
       "      <td>...</td>\n",
       "      <td>...</td>\n",
       "      <td>...</td>\n",
       "    </tr>\n",
       "    <tr>\n",
       "      <th>36171</th>\n",
       "      <td>yOm</td>\n",
       "      <td>Microsoft</td>\n",
       "      <td>Other</td>\n",
       "      <td>0.0</td>\n",
       "      <td>0.060714</td>\n",
       "      <td>NaN</td>\n",
       "      <td>1</td>\n",
       "      <td>0</td>\n",
       "      <td>0</td>\n",
       "      <td>0</td>\n",
       "      <td>...</td>\n",
       "      <td>0</td>\n",
       "      <td>0</td>\n",
       "      <td>0</td>\n",
       "      <td>0</td>\n",
       "      <td>0</td>\n",
       "      <td>0</td>\n",
       "      <td>2009</td>\n",
       "      <td>10</td>\n",
       "      <td>0.169040</td>\n",
       "      <td>0.070532</td>\n",
       "    </tr>\n",
       "    <tr>\n",
       "      <th>36172</th>\n",
       "      <td>yOm_fury</td>\n",
       "      <td>Microsoft</td>\n",
       "      <td>Other</td>\n",
       "      <td>0.0</td>\n",
       "      <td>0.060714</td>\n",
       "      <td>NaN</td>\n",
       "      <td>1</td>\n",
       "      <td>0</td>\n",
       "      <td>0</td>\n",
       "      <td>0</td>\n",
       "      <td>...</td>\n",
       "      <td>0</td>\n",
       "      <td>0</td>\n",
       "      <td>0</td>\n",
       "      <td>0</td>\n",
       "      <td>0</td>\n",
       "      <td>0</td>\n",
       "      <td>2009</td>\n",
       "      <td>12</td>\n",
       "      <td>0.169040</td>\n",
       "      <td>0.070532</td>\n",
       "    </tr>\n",
       "    <tr>\n",
       "      <th>36173</th>\n",
       "      <td>¡Shin Chan Flipa en colores!</td>\n",
       "      <td>505 Games</td>\n",
       "      <td>Other</td>\n",
       "      <td>0.0</td>\n",
       "      <td>0.050000</td>\n",
       "      <td>NaN</td>\n",
       "      <td>0</td>\n",
       "      <td>1</td>\n",
       "      <td>0</td>\n",
       "      <td>0</td>\n",
       "      <td>...</td>\n",
       "      <td>0</td>\n",
       "      <td>0</td>\n",
       "      <td>0</td>\n",
       "      <td>0</td>\n",
       "      <td>0</td>\n",
       "      <td>0</td>\n",
       "      <td>2007</td>\n",
       "      <td>11</td>\n",
       "      <td>0.169040</td>\n",
       "      <td>0.189487</td>\n",
       "    </tr>\n",
       "    <tr>\n",
       "      <th>36174</th>\n",
       "      <td>じんるいのみなさまへ</td>\n",
       "      <td>Other</td>\n",
       "      <td>Nippon Ichi Software</td>\n",
       "      <td>0.0</td>\n",
       "      <td>0.060714</td>\n",
       "      <td>NaN</td>\n",
       "      <td>0</td>\n",
       "      <td>1</td>\n",
       "      <td>0</td>\n",
       "      <td>0</td>\n",
       "      <td>...</td>\n",
       "      <td>0</td>\n",
       "      <td>0</td>\n",
       "      <td>0</td>\n",
       "      <td>0</td>\n",
       "      <td>0</td>\n",
       "      <td>0</td>\n",
       "      <td>0</td>\n",
       "      <td>0</td>\n",
       "      <td>0.071494</td>\n",
       "      <td>0.136709</td>\n",
       "    </tr>\n",
       "    <tr>\n",
       "      <th>36175</th>\n",
       "      <td>レミロア~少女と異世界と魔導書</td>\n",
       "      <td>Other</td>\n",
       "      <td>Other</td>\n",
       "      <td>0.0</td>\n",
       "      <td>0.060714</td>\n",
       "      <td>NaN</td>\n",
       "      <td>0</td>\n",
       "      <td>1</td>\n",
       "      <td>0</td>\n",
       "      <td>0</td>\n",
       "      <td>...</td>\n",
       "      <td>0</td>\n",
       "      <td>0</td>\n",
       "      <td>0</td>\n",
       "      <td>0</td>\n",
       "      <td>0</td>\n",
       "      <td>0</td>\n",
       "      <td>0</td>\n",
       "      <td>0</td>\n",
       "      <td>0.169040</td>\n",
       "      <td>0.136709</td>\n",
       "    </tr>\n",
       "  </tbody>\n",
       "</table>\n",
       "<p>36176 rows × 75 columns</p>\n",
       "</div>"
      ],
      "text/plain": [
       "                              Title  Publisher             Developer  Hit  \\\n",
       "0                         \"Nuke It\"      Other                 Other  0.0   \n",
       "1                            #IDARB      Other                 Other  0.0   \n",
       "2                   #killallzombies      Other                 Other  0.0   \n",
       "3         '70s Robot Anime: Geppy-X      Other                 Other  0.0   \n",
       "4                       '98 Koshien      Other                 Other  0.0   \n",
       "...                             ...        ...                   ...  ...   \n",
       "36171                           yOm  Microsoft                 Other  0.0   \n",
       "36172                      yOm_fury  Microsoft                 Other  0.0   \n",
       "36173  ¡Shin Chan Flipa en colores!  505 Games                 Other  0.0   \n",
       "36174                    じんるいのみなさまへ      Other  Nippon Ichi Software  0.0   \n",
       "36175               レミロア~少女と異世界と魔導書      Other                 Other  0.0   \n",
       "\n",
       "       Sales_total  Suggest_count  P_MicroSoft  P_Nintendo  P_Other  P_PC  \\\n",
       "0         0.060714            NaN            0           0        0     1   \n",
       "1         0.085000          182.0            1           0        0     0   \n",
       "2         0.085000            NaN            0           0        0     0   \n",
       "3         0.060714            NaN            0           0        0     0   \n",
       "4         0.146429            NaN            0           0        0     0   \n",
       "...            ...            ...          ...         ...      ...   ...   \n",
       "36171     0.060714            NaN            1           0        0     0   \n",
       "36172     0.060714            NaN            1           0        0     0   \n",
       "36173     0.050000            NaN            0           1        0     0   \n",
       "36174     0.060714            NaN            0           1        0     0   \n",
       "36175     0.060714            NaN            0           1        0     0   \n",
       "\n",
       "       ...  T_1st_Person  T_3rd_Person  T_Fantasy  T_Fem_Protag  T_Hard  \\\n",
       "0      ...             0             0          0             0       0   \n",
       "1      ...             0             0          0             0       0   \n",
       "2      ...             0             0          0             0       0   \n",
       "3      ...             0             0          0             0       0   \n",
       "4      ...             0             0          0             0       0   \n",
       "...    ...           ...           ...        ...           ...     ...   \n",
       "36171  ...             0             0          0             0       0   \n",
       "36172  ...             0             0          0             0       0   \n",
       "36173  ...             0             0          0             0       0   \n",
       "36174  ...             0             0          0             0       0   \n",
       "36175  ...             0             0          0             0       0   \n",
       "\n",
       "       T_FPS  Release_Y  Release_M  Developer_enc  Publisher_enc  \n",
       "0          0       1998          1       0.169040       0.136709  \n",
       "1          0       2015          1       0.169040       0.136709  \n",
       "2          0       2015          1       0.169040       0.136709  \n",
       "3          0       1999          5       0.169040       0.136709  \n",
       "4          0       1998          6       0.169040       0.136709  \n",
       "...      ...        ...        ...            ...            ...  \n",
       "36171      0       2009         10       0.169040       0.070532  \n",
       "36172      0       2009         12       0.169040       0.070532  \n",
       "36173      0       2007         11       0.169040       0.189487  \n",
       "36174      0          0          0       0.071494       0.136709  \n",
       "36175      0          0          0       0.169040       0.136709  \n",
       "\n",
       "[36176 rows x 75 columns]"
      ]
     },
     "execution_count": 11,
     "metadata": {},
     "output_type": "execute_result"
    }
   ],
   "source": [
    "data"
   ]
  },
  {
   "cell_type": "markdown",
   "metadata": {},
   "source": [
    "---\n",
    "## 0.2. Missing Values\n",
    "\n",
    "Let's see what do we do with the NaN values.\n",
    "\n",
    "### 0.2.1. Filling Strategy for Missing Values\n",
    "\n",
    "Missing values found in: `Suggestion_count`, `C_Score` and `U_Score` columns.\n",
    "\n",
    "We could do the following with the missing values:\n",
    "\n",
    "- First, separate the dataframe into 2 dataframes. One has `Sales_total` > 0 and the other, the rest.\n",
    "\n",
    "    - We want to do this as 2/3 of the dataframe has sales <= 0, which drags the different quantiles near 0.\n",
    "    - And we want relevant information in games having sales > 0.\n",
    "    - We can assign 0 to missing values where sales <= 0.\n",
    "    \n",
    "\n",
    "- We will fill `NaN`s with 0 in the dataframe with sales <= 0.\n",
    "\n",
    "- We then perform the next transformation to the dataframe with sales > 0, filling NaNs as follows:\n",
    "\n",
    "    - 10 <= `Sales_total` ---> `Suggest_count`/ `C_Score`/ `U_Score` => Max\n",
    "\n",
    "    - Quantile 75 <= `Sales_total` < 10 ---> `Suggest_count`/ `C_Score`/ `U_Score` => Quantile 75\n",
    "\n",
    "    - Median <= `Sales_total` < Quantile 75 ---> `Suggest_count`/ `C_Score`/ `U_Score` => Quantile 50\n",
    "\n",
    "    - Quantile 25 <= `Sales_total` < Median ---> `Suggest_count`/ `C_Score`/ `U_Score` => Quantile 25\n",
    "\n",
    "    - 0 <= `Sales_total` < Quantile 25 ---> `Suggest_count`/ `C_Score`/ `U_Score` => Min"
   ]
  },
  {
   "cell_type": "markdown",
   "metadata": {},
   "source": [
    "### 0.2.1.1. Splitting the Dataframe"
   ]
  },
  {
   "cell_type": "code",
   "execution_count": 12,
   "metadata": {},
   "outputs": [],
   "source": [
    "zero_sales = list(data[data['Sales_total'] <= 0].index)\n",
    "non_zero_sales = list(data[data['Sales_total'] > 0].index)\n",
    "\n",
    "data_non_zero = data.drop(index = zero_sales)\n",
    "data_zero = data.drop(index = non_zero_sales).fillna(0)"
   ]
  },
  {
   "cell_type": "markdown",
   "metadata": {},
   "source": [
    "### 0.2.1.2. Functions"
   ]
  },
  {
   "cell_type": "code",
   "execution_count": 13,
   "metadata": {},
   "outputs": [],
   "source": [
    "def binner(x, lim_1, lim_2, lim_3, val_bin1, val_bin2, val_bin3, val_bin4, val_bin5, lim_min = 0, lim_max = 10):\n",
    "    \n",
    "    '''\n",
    "    Given a numeric value x and a series of numeric values, it will return another numeric value depending on in which of the 5 bins x falls.\n",
    "    \n",
    "    x: Value we want to put into a bin.\n",
    "    -----------------------------------------------------------\n",
    "    lim_min: Lowest limit of the bins (default = 0).\n",
    "    lim_1: First limit of the bins.\n",
    "    lim_2: Second limit of the bins.\n",
    "    lim_3: Third limit of the bins.\n",
    "    lim_max: Biggest limit of the bins (default = 10).\n",
    "    -----------------------------------------------------------\n",
    "    val_bin1: Value returned when x falls in the 1st bin.\n",
    "    val_bin2: Value returned when x falls in the 2nd bin.\n",
    "    val_bin3: Value returned when x falls in the 3rd bin.\n",
    "    val_bin4: Value returned when x falls in the 4th bin.\n",
    "    val_bin5: Value returned when x falls in the 5th bin.\n",
    "    '''\n",
    "    \n",
    "    if lim_min < x < lim_1:\n",
    "        result = val_bin1\n",
    "        \n",
    "    elif lim_1 <= x < lim_2:\n",
    "        result = val_bin2\n",
    "        \n",
    "    elif lim_2 <= x < lim_3:\n",
    "        result = val_bin3\n",
    "        \n",
    "    elif lim_3 <= x < lim_max:\n",
    "        result = val_bin4\n",
    "    \n",
    "    elif 10 <= x:\n",
    "        result = val_bin5\n",
    "    \n",
    "    return result\n",
    "\n",
    "#---------------------------------------------------------------------------------------------------------------------------------------------------------------------------------\n",
    "\n",
    "def fillna_col(df, col):\n",
    "    \n",
    "    '''\n",
    "    Given a pd.DataFrame() and a column of interest, returns the same pd.DataFrame() object, which column of interest contains numeric values only on rows where there was a NaN.\n",
    "    Calls the binner() function to decide what numeric values shoud go as output.\n",
    "    \n",
    "    df: The dataframe object we want to work with.\n",
    "    col: A string with the name of the column of interest.\n",
    "    '''\n",
    "    \n",
    "    sales_q25 = df.Sales_total.quantile(0.25)\n",
    "    sales_med = df.Sales_total.median()\n",
    "    sales_q75 = df.Sales_total.quantile(0.75)\n",
    "    \n",
    "    col_min = df[col].min()\n",
    "    col_q25 = df[col].quantile(0.25)\n",
    "    col_med = df[col].median()\n",
    "    col_q75 = df[col].quantile(0.75)\n",
    "    col_max = df[col].max()\n",
    "    \n",
    "    aux_df_out = df.Sales_total.apply(binner, args = (sales_q25, sales_med, sales_q75, col_min, col_q25, col_med, col_q75, col_max))\n",
    "    aux_df_filter = df.Suggest_count.isna()\n",
    "    \n",
    "    output = aux_df_out * aux_df_filter # We filter out the values where there is already a non-NaN value\n",
    "    \n",
    "    df[col] = output + df[col].fillna(0) # fillna(0) to convert NaNs to 0 so that we can perform the addition\n",
    "    \n",
    "    return df"
   ]
  },
  {
   "cell_type": "markdown",
   "metadata": {},
   "source": [
    "### 0.2.1.3. Apllying Transformation\n",
    "\n",
    "We will merge both dataframes to recover the original dataframe."
   ]
  },
  {
   "cell_type": "code",
   "execution_count": 14,
   "metadata": {},
   "outputs": [],
   "source": [
    "data_non_zero = fillna_col(data_non_zero, 'Suggest_count')\n",
    "data_non_zero = fillna_col(data_non_zero, 'C_Score')\n",
    "data_non_zero = fillna_col(data_non_zero, 'U_Score')\n",
    "\n",
    "data = pd.concat([data_non_zero, data_zero]).fillna(0)"
   ]
  },
  {
   "cell_type": "markdown",
   "metadata": {},
   "source": [
    "### 0.2.2. Train Test Split\n",
    "\n",
    "We separate the dataframe into 2 dataframes, one containing the independent variables (features) and the other with the dependent variables (target)\n",
    "\n",
    "We have to train test split before doing the feature selection to prevent information leakage from the test set if done after."
   ]
  },
  {
   "cell_type": "code",
   "execution_count": 15,
   "metadata": {},
   "outputs": [],
   "source": [
    "features = data[data.columns[5:]].copy()\n",
    "target = data[['Hit', 'Sales_total']].copy()\n",
    "\n",
    "# Train Test Split\n",
    "x_train, x_test, y_train, y_test = train_test_split(features, target, train_size = 0.8, random_state=27)"
   ]
  },
  {
   "cell_type": "markdown",
   "metadata": {},
   "source": [
    "---\n",
    "# 1. Feature Selection\n",
    "\n",
    "We are going to check the correlation between the features to see which features should be removed."
   ]
  },
  {
   "cell_type": "code",
   "execution_count": 16,
   "metadata": {},
   "outputs": [
    {
     "data": {
      "image/png": "[encoded data removed]",
      "text/plain": [
       "<Figure size 864x720 with 2 Axes>"
      ]
     },
     "metadata": {
      "needs_background": "light"
     },
     "output_type": "display_data"
    }
   ],
   "source": [
    "plt.figure(figsize = (12,10))\n",
    "\n",
    "corr = x_train.corr()\n",
    "sns.heatmap(corr, cmap = plt.cm.CMRmap_r)\n",
    "plt.show()"
   ]
  },
  {
   "cell_type": "markdown",
   "metadata": {},
   "source": [
    "### 1.1. Checking Highly Correlated Values"
   ]
  },
  {
   "cell_type": "markdown",
   "metadata": {},
   "source": [
    "Let's check which columns have correlation greater than 0.8 an to which column/s."
   ]
  },
  {
   "cell_type": "markdown",
   "metadata": {},
   "source": [
    "### 1.1.1. Functions"
   ]
  },
  {
   "cell_type": "markdown",
   "metadata": {},
   "source": [
    "We are going to create a function to look for features getting a correlation greater than a threshold we define.\n",
    "\n",
    "We can also take negatively correlated values by doing the absolute value of the correlation."
   ]
  },
  {
   "cell_type": "code",
   "execution_count": 17,
   "metadata": {},
   "outputs": [],
   "source": [
    "def correlation(dataset, threshold, neg_corr_important = False):\n",
    "    \n",
    "    '''\n",
    "    Given a dataset and a threshold, returns the column names for those scoring a correlation greater than the threshold.\n",
    "    If neg_corr_important is set to True, it will return the absolute value of the correlations, thus taking high negative correlations into account.\n",
    "    \n",
    "    dataset: A pd.DataFrame() object.\n",
    "    threshold: The value we want the threshold to be\n",
    "    '''\n",
    "    \n",
    "    col_corr = [] # Set of all the names of correlated columns\n",
    "    corr_matrix = dataset.corr()\n",
    "    \n",
    "    for i in range(len(corr_matrix.columns)):\n",
    "        \n",
    "        for j in range(i):\n",
    "            \n",
    "            if neg_corr_important == False:\n",
    "            \n",
    "                if corr_matrix.iloc[i, j] > threshold:\n",
    "                    colname = corr_matrix.columns[i] # Getting the name of column\n",
    "                    col_corr.append(colname)\n",
    "                    \n",
    "            else:\n",
    "                \n",
    "                if abs(corr_matrix.iloc[i, j]) > threshold: # We are interested in absolute coeff value\n",
    "                    colname = corr_matrix.columns[i] # Getting the name of column\n",
    "                    col_corr.append(colname)\n",
    "        \n",
    "    return col_corr"
   ]
  },
  {
   "cell_type": "code",
   "execution_count": 18,
   "metadata": {},
   "outputs": [
    {
     "data": {
      "text/plain": [
       "['U_Score', 'T_Singleplayer']"
      ]
     },
     "execution_count": 18,
     "metadata": {},
     "output_type": "execute_result"
    }
   ],
   "source": [
    "correlation(x_train, 0.8)"
   ]
  },
  {
   "cell_type": "code",
   "execution_count": 19,
   "metadata": {},
   "outputs": [
    {
     "data": {
      "text/plain": [
       "C_Score    0.835854\n",
       "U_Score    1.000000\n",
       "Name: U_Score, dtype: float64"
      ]
     },
     "execution_count": 19,
     "metadata": {},
     "output_type": "execute_result"
    }
   ],
   "source": [
    "corr[corr['U_Score'] > 0.8].U_Score"
   ]
  },
  {
   "cell_type": "code",
   "execution_count": 20,
   "metadata": {},
   "outputs": [
    {
     "data": {
      "text/plain": [
       "S_Steam           0.816796\n",
       "T_Singleplayer    1.000000\n",
       "Name: T_Singleplayer, dtype: float64"
      ]
     },
     "execution_count": 20,
     "metadata": {},
     "output_type": "execute_result"
    }
   ],
   "source": [
    "corr[corr['T_Singleplayer'] > 0.8].T_Singleplayer"
   ]
  },
  {
   "cell_type": "markdown",
   "metadata": {},
   "source": [
    "- We can see that `U_Score` and `C_Score` are highly correlated. This is understandable as in an ideal case, both scores should be similar.\n",
    "\n",
    "    - To tackle this particular problem, we can combine these columns into a new one, with the mean of them as the new value.\n",
    "    \n",
    "\n",
    "- `T_Singleplayer` is highly correlated with `S_Steam`.\n",
    "\n",
    "    - To solve this, we should consider to remove either of them.\n",
    "    \n",
    "    - We are going to choose removing `S_Steam` as we could also consider removing the entire `S_` columns, as `S_Steam` was one of the main reasons to keep them (to know if a PC game was available on Steam).\n",
    "    \n",
    "    - Also because **Singleplayer** is much more wider than `S_Steam`."
   ]
  },
  {
   "cell_type": "markdown",
   "metadata": {},
   "source": [
    "## 1.2. Feature Removal/ Combination\n",
    "\n",
    "We proceed to apply the abovementioned changes:"
   ]
  },
  {
   "cell_type": "markdown",
   "metadata": {},
   "source": [
    "### 1.2.1. Functions"
   ]
  },
  {
   "cell_type": "code",
   "execution_count": 21,
   "metadata": {},
   "outputs": [],
   "source": [
    "# This function is to combine C_Score and U_Score\n",
    "\n",
    "def score_mean(c_score_col, u_score_col):\n",
    "    \n",
    "    '''\n",
    "    Given 2 score columns from a dataframe, returns a column with the mean of them if none of them contained a 0.\n",
    "    It will return the sum of the elements in the other case instead.\n",
    "    \n",
    "    c_score_col: The C_Score column from the dataframe.\n",
    "    u_score_col: The U_Score column from the dataframe.\n",
    "    '''\n",
    "    \n",
    "    c = (c_score_col > 0).astype(int)\n",
    "    u = (u_score_col > 0).astype(int)\n",
    "    \n",
    "    denom = (c + u).replace(0,1) # If one column has no value in it, we won't do the mean.\n",
    "    \n",
    "    scores = (c_score_col + u_score_col) / denom\n",
    "    \n",
    "    return scores"
   ]
  },
  {
   "cell_type": "markdown",
   "metadata": {},
   "source": [
    "### 1.2.2. Combining and Removing Features"
   ]
  },
  {
   "cell_type": "code",
   "execution_count": 22,
   "metadata": {},
   "outputs": [],
   "source": [
    "# Combinig and removing, part 1\n",
    "\n",
    "data['Scores'] = score_mean(data['C_Score'], data['U_Score'])\n",
    "data = data.drop(['C_Score', 'U_Score', 'S_Epic_Games', 'S_GOG', 'S_Nintendo_Store', 'S_PlayStation_Store',\n",
    "                  'S_Xbox_360_Store', 'S_Xbox_Store', 'S_itch.io', 'S_Steam'], axis = 1)"
   ]
  },
  {
   "cell_type": "markdown",
   "metadata": {},
   "source": [
    "Now that we no longer have highly correlated features, we are good to continue to the next step. However, let's check the features in case we can reduce them by combining them or removing them.\n",
    "\n",
    "We can start by checking other relatively high correlated features:"
   ]
  },
  {
   "cell_type": "code",
   "execution_count": 23,
   "metadata": {},
   "outputs": [],
   "source": [
    "# We do this again so that the recently combined/removed columns don't appear.\n",
    "\n",
    "features = data[data.columns[5:]].copy()\n",
    "target = data[['Hit', 'Sales_total']].copy()\n",
    "\n",
    "x_train, x_test, y_train, y_test = train_test_split(features, target, train_size = 0.8, random_state=27)\n",
    "corr = x_train.corr()"
   ]
  },
  {
   "cell_type": "code",
   "execution_count": 24,
   "metadata": {},
   "outputs": [
    {
     "data": {
      "text/plain": [
       "['U_Mixed']"
      ]
     },
     "execution_count": 24,
     "metadata": {},
     "output_type": "execute_result"
    }
   ],
   "source": [
    "correlation(x_train, 0.70)"
   ]
  },
  {
   "cell_type": "code",
   "execution_count": 25,
   "metadata": {},
   "outputs": [
    {
     "data": {
      "text/plain": [
       "U_Positive    0.748567\n",
       "U_Mixed       1.000000\n",
       "Name: U_Mixed, dtype: float64"
      ]
     },
     "execution_count": 25,
     "metadata": {},
     "output_type": "execute_result"
    }
   ],
   "source": [
    "corr[corr['U_Mixed'] > 0.7].U_Mixed"
   ]
  },
  {
   "cell_type": "code",
   "execution_count": 26,
   "metadata": {},
   "outputs": [
    {
     "data": {
      "text/plain": [
       "U_Negative    1.0\n",
       "Name: U_Negative, dtype: float64"
      ]
     },
     "execution_count": 26,
     "metadata": {},
     "output_type": "execute_result"
    }
   ],
   "source": [
    "corr[corr['U_Negative'] > 0.7].U_Negative"
   ]
  },
  {
   "cell_type": "markdown",
   "metadata": {},
   "source": [
    "We can see that `U_Mixed` has a relatively high correlation to `U_Positive` and `U_Negative`.\n",
    "\n",
    "What we could do here is the following:\n",
    "\n",
    "- Remove both `U_Mixed` and `C_Mixed`, as there is no point in keeping one if we are removing the other.\n",
    "\n",
    "- Combine `U_Positive` and `C_Positive` to get the total positives.\n",
    "\n",
    "- In the same way, combine `U_Negative` and `C_Negative`."
   ]
  },
  {
   "cell_type": "code",
   "execution_count": 27,
   "metadata": {},
   "outputs": [],
   "source": [
    "# Combining and removing, part 2\n",
    "\n",
    "data['Positives'] = data['C_Positive'] + data['U_Positive']\n",
    "data['Negatives'] = data['C_Negative'] + data['U_Negative']\n",
    "data = data.drop(['C_Mixed', 'U_Mixed', 'C_Positive', 'U_Positive', 'C_Negative', 'U_Negative'], axis = 1)"
   ]
  },
  {
   "cell_type": "markdown",
   "metadata": {},
   "source": [
    "Let's check that the new columns are not highly correlated to each other:"
   ]
  },
  {
   "cell_type": "code",
   "execution_count": 28,
   "metadata": {},
   "outputs": [
    {
     "data": {
      "text/plain": [
       "[]"
      ]
     },
     "execution_count": 28,
     "metadata": {},
     "output_type": "execute_result"
    }
   ],
   "source": [
    "features = data[data.columns[5:]].copy()\n",
    "target = data[['Hit', 'Sales_total']].copy()\n",
    "\n",
    "x_train, x_test, y_train, y_test = train_test_split(features, target, train_size = 0.8, random_state=27)\n",
    "corr = x_train.corr()\n",
    "\n",
    "correlation(x_train, 0.8)"
   ]
  },
  {
   "cell_type": "markdown",
   "metadata": {},
   "source": [
    "Let's check if we see other columns to combine:"
   ]
  },
  {
   "cell_type": "code",
   "execution_count": 29,
   "metadata": {},
   "outputs": [
    {
     "data": {
      "text/plain": [
       "Index(['Title', 'Publisher', 'Developer', 'Hit', 'Sales_total',\n",
       "       'Suggest_count', 'P_MicroSoft', 'P_Nintendo', 'P_Other', 'P_PC',\n",
       "       'P_Sony', 'G_Action', 'G_Adventure', 'G_Arcade', 'G_Board_Games',\n",
       "       'G_Card', 'G_Casual', 'G_Educational', 'G_Family', 'G_Fighting',\n",
       "       'G_Indie', 'G_Massively_Multiplayer', 'G_Platformer', 'G_Puzzle',\n",
       "       'G_RPG', 'G_Racing', 'G_Shooter', 'G_Simulation', 'G_Sports',\n",
       "       'G_Strategy', 'ESRB_All', 'ESRB_10+', 'ESRB_Teen', 'ESRB_17+',\n",
       "       'ESRB_18+', 'T_Singleplayer', 'T_Multiplayer', 'T_Co_Op', 'T_Online',\n",
       "       'T_Great_OST', 'T_Atmospheric', 'T_Violent', 'T_Story_Rich', 'T_2D',\n",
       "       'T_Funny', 'T_Horror', 'T_Retro', 'T_Sci_fi', 'T_Open_World',\n",
       "       'T_1st_Person', 'T_3rd_Person', 'T_Fantasy', 'T_Fem_Protag', 'T_Hard',\n",
       "       'T_FPS', 'Release_Y', 'Release_M', 'Developer_enc', 'Publisher_enc',\n",
       "       'Scores', 'Positives', 'Negatives'],\n",
       "      dtype='object')"
      ]
     },
     "execution_count": 29,
     "metadata": {},
     "output_type": "execute_result"
    }
   ],
   "source": [
    "data.columns"
   ]
  },
  {
   "cell_type": "markdown",
   "metadata": {},
   "source": [
    "We could unify `G_Educational`, `G_Board_Games` and `G_Card` under the `G_Other` column.\n",
    "\n",
    "To do that, we would sum the 3 columns and convert any value > 1 to 1."
   ]
  },
  {
   "cell_type": "code",
   "execution_count": 30,
   "metadata": {},
   "outputs": [],
   "source": [
    "data['G_Other'] = data[['G_Educational', 'G_Board_Games', 'G_Card']].sum(axis = 1)\\\n",
    "                                                                    .apply(lambda x: 1 if x >= 1 else 0)\n",
    "\n",
    "data = data.drop(['G_Educational', 'G_Board_Games', 'G_Card'], axis = 1)"
   ]
  },
  {
   "cell_type": "code",
   "execution_count": 31,
   "metadata": {},
   "outputs": [],
   "source": [
    "# We reorder the columns so that G_Other is where the other gender columns are\n",
    "\n",
    "data = data[['Title', 'Publisher', 'Developer', 'Hit', 'Sales_total', 'Suggest_count', 'P_MicroSoft', 'P_Nintendo', 'P_Other', 'P_PC',\n",
    "             'P_Sony', 'G_Action', 'G_Adventure', 'G_Arcade', 'G_Casual', 'G_Family', 'G_Fighting', 'G_Indie', 'G_Massively_Multiplayer',\n",
    "             'G_Platformer', 'G_Puzzle', 'G_RPG', 'G_Racing', 'G_Shooter', 'G_Simulation', 'G_Sports', 'G_Strategy', 'G_Other', 'ESRB_All',\n",
    "             'ESRB_10+', 'ESRB_Teen', 'ESRB_17+', 'ESRB_18+', 'T_Singleplayer', 'T_Multiplayer', 'T_Co_Op', 'T_Online', 'T_Great_OST',\n",
    "             'T_Atmospheric', 'T_Violent', 'T_Story_Rich', 'T_2D', 'T_Funny', 'T_Horror', 'T_Retro', 'T_Sci_fi', 'T_Open_World',\n",
    "             'T_1st_Person', 'T_3rd_Person', 'T_Fantasy', 'T_Fem_Protag', 'T_Hard', 'T_FPS', 'Release_Y', 'Release_M', 'Developer_enc',\n",
    "             'Publisher_enc', 'Scores', 'Positives', 'Negatives']]"
   ]
  },
  {
   "cell_type": "markdown",
   "metadata": {},
   "source": [
    "Let's check for correlations again."
   ]
  },
  {
   "cell_type": "code",
   "execution_count": 32,
   "metadata": {},
   "outputs": [
    {
     "data": {
      "text/plain": [
       "[]"
      ]
     },
     "execution_count": 32,
     "metadata": {},
     "output_type": "execute_result"
    }
   ],
   "source": [
    "features = data[data.columns[5:]].copy()\n",
    "target = data[['Hit', 'Sales_total']].copy()\n",
    "\n",
    "x_train, x_test, y_train, y_test = train_test_split(features, target, train_size = 0.8, random_state=27)\n",
    "corr = x_train.corr()\n",
    "\n",
    "correlation(x_train, 0.8)"
   ]
  },
  {
   "cell_type": "markdown",
   "metadata": {},
   "source": [
    "No columns above the threshold, thus we can continue with the next step after saving the dataset into a `.csv` file to use in the next notebook.\n",
    "\n",
    "The following steps will be ML algorithms testing and hyperparameter optimization (very time-consuming) and they do not modify the dataset, thus the saving now."
   ]
  },
  {
   "cell_type": "code",
   "execution_count": 33,
   "metadata": {},
   "outputs": [],
   "source": [
    "data.to_csv(\"06_ML_testing.csv\", encoding='utf-8', index=False)"
   ]
  },
  {
   "cell_type": "markdown",
   "metadata": {},
   "source": [
    "---\n",
    "# 2. Testing ML Algorithms - Cross Validation\n",
    "\n",
    "We are going to test and try different ML algorithms to decide wich one we are going to use (one for regression and one for classification).\n",
    "\n",
    "To evaluate how good every model is, we are going to use K-Fold Cross Validation and a variety of metrics."
   ]
  },
  {
   "cell_type": "markdown",
   "metadata": {},
   "source": [
    "### 2.0.1. Functions"
   ]
  },
  {
   "cell_type": "code",
   "execution_count": 34,
   "metadata": {},
   "outputs": [],
   "source": [
    "def evaluate(model, x_train, x_test, y_train, y_test, X, Y, classification = True, k = 5):\n",
    "    \n",
    "    '''\n",
    "    Given an estimator and the dataset to train the estimator on, it makes a fit of the model on the data, calculates metrics for the prediction and also a K-Fold cross validation on them.\n",
    "    \n",
    "    model: The estimator/ model we want to fit on the data.\n",
    "    x_train: The train partitioned features dataset.\n",
    "    x_test: The test partitioned features dataset.\n",
    "    y_train: The train partitioned target dataset.\n",
    "    y_test: The test partitioned target dataset.\n",
    "    X: The full features dataset.\n",
    "    Y: The full target dataset.\n",
    "    classification: Whether the problem to solve is classification or regression. (Default = True)\n",
    "    k: The k of K-Fold cross validation. How many folds we want. (Default = 5)\n",
    "    '''\n",
    "\n",
    "    model.fit(x_train, y_train)\n",
    "    y_hat = model.predict(x_test)\n",
    "    \n",
    "    if classification:\n",
    "        \n",
    "        acc = accuracy_score(y_test, y_hat)\n",
    "        prec = precision_score(y_test, y_hat)\n",
    "        rec = recall_score(y_test, y_hat)\n",
    "        f1 = f1_score(y_test, y_hat)\n",
    "        auc = roc_auc_score(y_test, y_hat)\n",
    "        confusion = confusion_matrix(y_test, y_hat)\n",
    "\n",
    "        # K-Fold Cross Validation\n",
    "\n",
    "        acc_cv = cross_val_score(model, X, Y, cv = k, scoring = 'accuracy')\n",
    "        prec_cv = cross_val_score(model, X, Y, cv = k, scoring = 'precision')\n",
    "        rec_cv = cross_val_score(model, X, Y, cv = k, scoring = 'recall') \n",
    "        f1_cv = cross_val_score(model, X, Y, cv = k, scoring = 'f1') \n",
    "        auc_cv = cross_val_score(model, X, Y, cv = k, scoring = 'roc_auc') \n",
    "\n",
    "        print('========================================================================')\n",
    "        print(type(model).__name__)\n",
    "        print('========================================================================')\n",
    "        print('    Accuracy : %f   |  CV : %f (avg) [%f, %f]' % (acc, np.mean(acc_cv), min(acc_cv), max(acc_cv)))\n",
    "        print('   Precision : %f   |  CV : %f (avg) [%f, %f]' % (prec, np.mean(prec_cv), min(prec_cv), max(prec_cv)))\n",
    "        print('      Recall : %f   |  CV : %f (avg) [%f, %f]' % (rec, np.mean(rec_cv), min(rec_cv), max(rec_cv))) \n",
    "        print('    F1 Score : %f   |  CV : %f (avg) [%f, %f]' % (f1, np.mean(f1_cv), min(f1_cv), max(f1_cv)))      \n",
    "        print('     ROC AUC : %f   |  CV : %f (avg) [%f, %f] \\n' % (auc, np.mean(auc_cv), min(auc_cv), max(auc_cv))) \n",
    "    \n",
    "    \n",
    "    # Regression\n",
    "    \n",
    "    else:\n",
    "        \n",
    "        mse = mean_squared_error(y_test, y_hat)\n",
    "        rmse = mean_squared_error(y_test, y_hat, squared = False)\n",
    "        mae = mean_absolute_error(y_test, y_hat)\n",
    "        mape = np.mean(np.abs(y_test - y_hat) / y_hat)\n",
    "        r2 = r2_score(y_test, y_hat)\n",
    "        ev = explained_variance_score(y_test, y_hat)\n",
    "\n",
    "        # K-Fold Cross Validation\n",
    "\n",
    "        mse_cv = cross_val_score(model, X, Y, cv = k, scoring = 'neg_mean_squared_error') # Values are inverted!\n",
    "        rmse_cv = cross_val_score(model, X, Y, cv = k, scoring = 'neg_root_mean_squared_error') # Values are inverted!\n",
    "        mae_cv = cross_val_score(model, X, Y, cv = k, scoring = 'neg_mean_absolute_error') # Values are inverted!\n",
    "        r2_cv = cross_val_score(model, X, Y, cv = k, scoring = 'r2')\n",
    "        ev_cv = cross_val_score(model, X, Y, cv = k, scoring = 'explained_variance')\n",
    "\n",
    "        print('=================================================================')\n",
    "        print(type(model).__name__)\n",
    "        print('=================================================================')\n",
    "        print('     MSE : %f   |  CV : %f (avg) [%f, %f]' % (mse, np.mean(abs(mse_cv)), abs(max(mse_cv)), abs(min(mse_cv))))\n",
    "        print('    RMSE : %f   |  CV : %f (avg) [%f, %f]' % (rmse, np.mean(abs(rmse_cv)), abs(max(rmse_cv)), abs(min(rmse_cv))))\n",
    "        print('     MAE : %f   |  CV : %f (avg) [%f, %f]' % (mae, np.mean(abs(mae_cv)), abs(max(mae_cv)), abs(min(mae_cv))))\n",
    "        print('    MAPE : %f   |------------------------------------------' % (mape))\n",
    "        print('      R2 : %f   |  CV : %f (avg) [%f, %f]' % (r2, np.mean(r2_cv), min(r2_cv), max(r2_cv)))\n",
    "        print('      EV : %f   |  CV : %f (avg) [%f, %f] \\n' % (ev, np.mean(ev_cv), min(ev_cv), max(ev_cv)))"
   ]
  },
  {
   "cell_type": "markdown",
   "metadata": {},
   "source": [
    "### 2.0.2. Train Test Split"
   ]
  },
  {
   "cell_type": "code",
   "execution_count": 35,
   "metadata": {},
   "outputs": [],
   "source": [
    "y_clf = target['Hit']\n",
    "y_reg = target['Sales_total']\n",
    "\n",
    "x_train_clf, x_test_clf, y_train_clf, y_test_clf = train_test_split(features, y_clf, train_size = 0.8, random_state=27)\n",
    "x_train_reg, x_test_reg, y_train_reg, y_test_reg = train_test_split(features, y_reg, train_size = 0.8, random_state=27)"
   ]
  },
  {
   "cell_type": "markdown",
   "metadata": {},
   "source": [
    "### 2.0.3. Standardization with StandardScaler()"
   ]
  },
  {
   "cell_type": "code",
   "execution_count": 36,
   "metadata": {},
   "outputs": [],
   "source": [
    "scaler_clf = StandardScaler().fit(x_train_clf)\n",
    "scaler_reg = StandardScaler().fit(x_train_reg)\n",
    "\n",
    "x_train_clf = scaler_clf.transform(x_train_clf)\n",
    "x_test_clf = scaler_clf.transform(x_test_clf)\n",
    "\n",
    "x_train_reg = scaler_reg.transform(x_train_reg)\n",
    "x_test_reg = scaler_reg.transform(x_test_reg)"
   ]
  },
  {
   "cell_type": "markdown",
   "metadata": {},
   "source": [
    "## 2.1. Classification\n",
    "\n",
    "We want to know if, given a data point (a game), whether the product will be a hit or not (= will achieve at least 1M sales in the first year after the release)"
   ]
  },
  {
   "cell_type": "markdown",
   "metadata": {},
   "source": [
    "### 2.1.1. Model Training"
   ]
  },
  {
   "cell_type": "code",
   "execution_count": 37,
   "metadata": {},
   "outputs": [],
   "source": [
    "log_r = LogisticRegression()\n",
    "knc = KNeighborsClassifier()\n",
    "tree_c = DecisionTreeClassifier()\n",
    "lin_svc = LinearSVC()\n",
    "svc = SVC(kernel = 'rbf')\n",
    "rfc = RandomForestClassifier()\n",
    "bagc = BaggingClassifier()\n",
    "abc = AdaBoostClassifier()\n",
    "gbc = GradientBoostingClassifier()\n",
    "xgbc = XGBClassifier(eval_metric = 'logloss')\n",
    "\n",
    "models = [log_r, knc, tree_c, lin_svc, rfc, bagc, abc, gbc, xgbc]"
   ]
  },
  {
   "cell_type": "code",
   "execution_count": 38,
   "metadata": {},
   "outputs": [
    {
     "name": "stdout",
     "output_type": "stream",
     "text": [
      "========================================================================\n",
      "LogisticRegression\n",
      "========================================================================\n",
      "    Accuracy : 0.978579   |  CV : 0.974707 (avg) [0.972909, 0.975677]\n",
      "   Precision : 0.720588   |  CV : 0.637874 (avg) [0.533333, 0.738095]\n",
      "      Recall : 0.264865   |  CV : 0.202000 (avg) [0.155000, 0.265000]\n",
      "    F1 Score : 0.387352   |  CV : 0.303958 (avg) [0.246154, 0.375887]\n",
      "     ROC AUC : 0.631085   |  CV : 0.872711 (avg) [0.807026, 0.915776] \n",
      "\n",
      "========================================================================\n",
      "KNeighborsClassifier\n",
      "========================================================================\n",
      "    Accuracy : 0.975263   |  CV : 0.973491 (avg) [0.972080, 0.975539]\n",
      "   Precision : 0.540541   |  CV : 0.560473 (avg) [0.488372, 0.638554]\n",
      "      Recall : 0.216216   |  CV : 0.207000 (avg) [0.165000, 0.265000]\n",
      "    F1 Score : 0.308880   |  CV : 0.300002 (avg) [0.256809, 0.374558]\n",
      "     ROC AUC : 0.605697   |  CV : 0.752290 (avg) [0.738393, 0.787298] \n",
      "\n",
      "========================================================================\n",
      "DecisionTreeClassifier\n",
      "========================================================================\n",
      "    Accuracy : 0.964760   |  CV : 0.962213 (avg) [0.960608, 0.963787]\n",
      "   Precision : 0.333333   |  CV : 0.322795 (avg) [0.287805, 0.346154]\n",
      "      Recall : 0.378378   |  CV : 0.310000 (avg) [0.280000, 0.340000]\n",
      "    F1 Score : 0.354430   |  CV : 0.312324 (avg) [0.294574, 0.324742]\n",
      "     ROC AUC : 0.679262   |  CV : 0.653589 (avg) [0.638732, 0.681774] \n",
      "\n",
      "========================================================================\n",
      "LinearSVC\n",
      "========================================================================\n",
      "    Accuracy : 0.977888   |  CV : 0.974900 (avg) [0.972771, 0.977612]\n",
      "   Precision : 0.962963   |  CV : 0.587246 (avg) [0.000000, 0.857143]\n",
      "      Recall : 0.140541   |  CV : 0.277000 (avg) [0.055000, 0.710000]\n",
      "    F1 Score : 0.245283   |  CV : 0.151108 (avg) [0.000000, 0.293878]\n",
      "     ROC AUC : 0.570199   |  CV : 0.695956 (avg) [0.580317, 0.766529] \n",
      "\n",
      "========================================================================\n",
      "RandomForestClassifier\n",
      "========================================================================\n",
      "    Accuracy : 0.977888   |  CV : 0.975122 (avg) [0.974015, 0.977750]\n",
      "   Precision : 0.628866   |  CV : 0.629719 (avg) [0.571429, 0.712644]\n",
      "      Recall : 0.329730   |  CV : 0.234000 (avg) [0.195000, 0.315000]\n",
      "    F1 Score : 0.432624   |  CV : 0.342703 (avg) [0.316981, 0.415771]\n",
      "     ROC AUC : 0.662312   |  CV : 0.921300 (avg) [0.899805, 0.936009] \n",
      "\n",
      "========================================================================\n",
      "BaggingClassifier\n",
      "========================================================================\n",
      "    Accuracy : 0.976368   |  CV : 0.973463 (avg) [0.972633, 0.975263]\n",
      "   Precision : 0.562500   |  CV : 0.554107 (avg) [0.528736, 0.606383]\n",
      "      Recall : 0.340541   |  CV : 0.252000 (avg) [0.225000, 0.315000]\n",
      "    F1 Score : 0.424242   |  CV : 0.347894 (avg) [0.316832, 0.398693]\n",
      "     ROC AUC : 0.666796   |  CV : 0.835731 (avg) [0.811167, 0.864002] \n",
      "\n",
      "========================================================================\n",
      "AdaBoostClassifier\n",
      "========================================================================\n",
      "    Accuracy : 0.974157   |  CV : 0.974431 (avg) [0.972909, 0.975536]\n",
      "   Precision : 0.488636   |  CV : 0.594992 (avg) [0.522222, 0.666667]\n",
      "      Recall : 0.232432   |  CV : 0.246000 (avg) [0.200000, 0.335000]\n",
      "    F1 Score : 0.315018   |  CV : 0.344885 (avg) [0.300752, 0.425397]\n",
      "     ROC AUC : 0.613025   |  CV : 0.945284 (avg) [0.933115, 0.952613] \n",
      "\n",
      "========================================================================\n",
      "GradientBoostingClassifier\n",
      "========================================================================\n",
      "    Accuracy : 0.978579   |  CV : 0.976172 (avg) [0.975397, 0.977474]\n",
      "   Precision : 0.702703   |  CV : 0.669068 (avg) [0.634146, 0.707865]\n",
      "      Recall : 0.281081   |  CV : 0.270000 (avg) [0.235000, 0.315000]\n",
      "    F1 Score : 0.401544   |  CV : 0.384330 (avg) [0.346863, 0.435986]\n",
      "     ROC AUC : 0.638980   |  CV : 0.945812 (avg) [0.937983, 0.951697] \n",
      "\n",
      "========================================================================\n",
      "XGBClassifier\n",
      "========================================================================\n",
      "    Accuracy : 0.979409   |  CV : 0.975978 (avg) [0.974706, 0.978994]\n",
      "   Precision : 0.683673   |  CV : 0.641412 (avg) [0.589474, 0.760870]\n",
      "      Recall : 0.362162   |  CV : 0.298000 (avg) [0.255000, 0.350000]\n",
      "    F1 Score : 0.473498   |  CV : 0.406603 (avg) [0.360424, 0.479452]\n",
      "     ROC AUC : 0.678883   |  CV : 0.949775 (avg) [0.943574, 0.954615] \n",
      "\n"
     ]
    }
   ],
   "source": [
    "for model in models:\n",
    "    \n",
    "    evaluate(model, x_train_clf, x_test_clf, y_train_clf, y_test_clf, features, y_clf)"
   ]
  },
  {
   "cell_type": "markdown",
   "metadata": {},
   "source": [
    "### 2.1.2. Conclusion\n",
    "\n",
    "Comparing the metrics (min and max value for each of them in the K-fold cross validation), we can see that XGBoost is the best performing, as it has:\n",
    "\n",
    "- Has high values in every metric among all the models we tried.\n",
    "\n",
    "- Has the **highest average F1 score and ROC AUC**.\n",
    "\n",
    "    - In the Precision-Recall trade-off, we will choose ***Precision*** over recall. This is due to the nature of video games needing funds in advance to get developed.\n",
    "    \n",
    "    - Investors (if there are any) and/or publishers  risk losing money by funding them.\n",
    "    \n",
    "    - Let's imagine 2 possible scenarios:\n",
    "    \n",
    "        - **Scenario 1**: We prioritize Recall, so we will get a lot of False Positives for the sake of getting the most True Positives possible.\n",
    "        \n",
    "            - If we predict a game as a success and it results in it not being a hit, the cost is huge for the investors, publishers and developers.\n",
    "            - Prioritizing recall reduces precision, so this is something very likely to happen.\n",
    "            \n",
    "        - **Scenario 2**: We prioritize Precision, so we will get a lot of False Negatives for the sake of not getting  many False Positives.\n",
    "        \n",
    "            - If we predict a games as a non-success and it end up being a hit, the cost is much less than the first scenario.\n",
    "            - It would have been harder for the developers to find funding, but a hit is a hit.\n",
    "            - Moreover, if developers cancelled the project due to the prediction, at least they wouldn't have spent the money.\n",
    "            \n",
    "    - Thus, maximizing precision is more important.\n",
    "\n",
    "- Has high Accuracy, but this happens due to **this dataset being imbalanced** (it's skewed towards the non-hits)."
   ]
  },
  {
   "cell_type": "markdown",
   "metadata": {},
   "source": [
    "## 2.2. Regression\n",
    "\n",
    "We want to know, given a video game product, it's estimated sales in the first year after release."
   ]
  },
  {
   "cell_type": "markdown",
   "metadata": {},
   "source": [
    "### 2.2.1. Model Training"
   ]
  },
  {
   "cell_type": "code",
   "execution_count": 39,
   "metadata": {},
   "outputs": [],
   "source": [
    "lr = LinearRegression()\n",
    "rr = Ridge()\n",
    "lasso = Lasso()\n",
    "elast = ElasticNet()\n",
    "knr = KNeighborsRegressor()\n",
    "tree = DecisionTreeRegressor()\n",
    "lin_svc = LinearSVR()\n",
    "svr = SVR(kernel = 'rbf')\n",
    "rfr = RandomForestRegressor()\n",
    "bagr = BaggingRegressor()\n",
    "adar = AdaBoostRegressor()\n",
    "gbr = GradientBoostingRegressor()\n",
    "xgbr = XGBRegressor()\n",
    "\n",
    "models = [lr, rr, lasso, elast, knr, tree,  lin_svc, svr, rfr, bagr, adar, gbr, xgbr]"
   ]
  },
  {
   "cell_type": "code",
   "execution_count": 40,
   "metadata": {},
   "outputs": [
    {
     "name": "stdout",
     "output_type": "stream",
     "text": [
      "=================================================================\n",
      "LinearRegression\n",
      "=================================================================\n",
      "     MSE : 0.269794   |  CV : 0.349239 (avg) [0.278029, 0.420068]\n",
      "    RMSE : 0.519417   |  CV : 0.589126 (avg) [0.527284, 0.648126]\n",
      "     MAE : 0.160680   |  CV : 0.159687 (avg) [0.152082, 0.167778]\n",
      "    MAPE : 0.133503   |------------------------------------------\n",
      "      R2 : 0.304396   |  CV : 0.239413 (avg) [0.108635, 0.305940]\n",
      "      EV : 0.304514   |  CV : 0.239746 (avg) [0.109508, 0.306066] \n",
      "\n",
      "=================================================================\n",
      "Ridge\n",
      "=================================================================\n",
      "     MSE : 0.269793   |  CV : 0.349221 (avg) [0.278031, 0.420054]\n",
      "    RMSE : 0.519416   |  CV : 0.589111 (avg) [0.527287, 0.648116]\n",
      "     MAE : 0.160678   |  CV : 0.159633 (avg) [0.152034, 0.167718]\n",
      "    MAPE : 0.084298   |------------------------------------------\n",
      "      R2 : 0.304396   |  CV : 0.239452 (avg) [0.108663, 0.306001]\n",
      "      EV : 0.304515   |  CV : 0.239785 (avg) [0.109537, 0.306127] \n",
      "\n",
      "=================================================================\n",
      "Lasso\n",
      "=================================================================\n",
      "     MSE : 0.387883   |  CV : 0.389454 (avg) [0.325704, 0.477438]\n",
      "    RMSE : 0.622802   |  CV : 0.622294 (avg) [0.570705, 0.690969]\n",
      "     MAE : 0.197248   |  CV : 0.169080 (avg) [0.160848, 0.179405]\n",
      "    MAPE : 1.038338   |------------------------------------------\n",
      "      R2 : -0.000071   |  CV : 0.151261 (avg) [0.031787, 0.245278]\n",
      "      EV : 0.000000   |  CV : 0.152232 (avg) [0.034070, 0.245302] \n",
      "\n",
      "=================================================================\n",
      "ElasticNet\n",
      "=================================================================\n",
      "     MSE : 0.387883   |  CV : 0.388539 (avg) [0.325382, 0.474363]\n",
      "    RMSE : 0.622802   |  CV : 0.621612 (avg) [0.570423, 0.688740]\n",
      "     MAE : 0.197248   |  CV : 0.167788 (avg) [0.159884, 0.176393]\n",
      "    MAPE : 1.038338   |------------------------------------------\n",
      "      R2 : -0.000071   |  CV : 0.153071 (avg) [0.033907, 0.245983]\n",
      "      EV : 0.000000   |  CV : 0.154076 (avg) [0.036233, 0.246008] \n",
      "\n",
      "=================================================================\n",
      "KNeighborsRegressor\n",
      "=================================================================\n",
      "     MSE : 0.299269   |  CV : 0.395988 (avg) [0.298441, 0.471041]\n",
      "    RMSE : 0.547055   |  CV : 0.627480 (avg) [0.546297, 0.686324]\n",
      "     MAE : 0.121249   |  CV : 0.140736 (avg) [0.133281, 0.148774]\n",
      "    MAPE : inf   |------------------------------------------\n",
      "      R2 : 0.228400   |  CV : 0.135317 (avg) [-0.032892, 0.238418]\n",
      "      EV : 0.229005   |  CV : 0.136370 (avg) [-0.032617, 0.239976] \n",
      "\n",
      "=================================================================\n",
      "DecisionTreeRegressor\n",
      "=================================================================\n",
      "     MSE : 0.657572   |  CV : 0.506266 (avg) [0.415120, 0.559957]\n",
      "    RMSE : 0.810908   |  CV : 0.731082 (avg) [0.654034, 0.829425]\n",
      "     MAE : 0.141567   |  CV : 0.144963 (avg) [0.135274, 0.161674]\n",
      "    MAPE : inf   |------------------------------------------\n",
      "      R2 : -0.695407   |  CV : -0.296681 (avg) [-0.624911, 0.006708]\n",
      "      EV : -0.694436   |  CV : -0.180115 (avg) [-0.201155, -0.155862] \n",
      "\n",
      "=================================================================\n",
      "LinearSVR\n",
      "=================================================================\n",
      "     MSE : 0.300215   |  CV : 0.687663 (avg) [0.324568, 1.009105]\n",
      "    RMSE : 0.547918   |  CV : 1.055739 (avg) [0.591188, 1.761934]\n",
      "     MAE : 0.113907   |  CV : 0.184159 (avg) [0.130341, 0.214992]\n",
      "    MAPE : -0.164511   |------------------------------------------\n",
      "      R2 : 0.225962   |  CV : -0.714490 (avg) [-1.649574, 0.159204]\n",
      "      EV : 0.242282   |  CV : -0.209687 (avg) [-0.965569, 0.285916] \n",
      "\n",
      "=================================================================\n",
      "SVR\n",
      "=================================================================\n",
      "     MSE : 0.328030   |  CV : 0.395695 (avg) [0.348805, 0.475658]\n",
      "    RMSE : 0.572739   |  CV : 0.628151 (avg) [0.590597, 0.689679]\n",
      "     MAE : 0.151982   |  CV : 0.164568 (avg) [0.146520, 0.178298]\n",
      "    MAPE : 0.743956   |------------------------------------------\n",
      "      R2 : 0.154247   |  CV : 0.135580 (avg) [0.109895, 0.176116]\n",
      "      EV : 0.154308   |  CV : 0.136499 (avg) [0.111181, 0.176870] \n",
      "\n",
      "=================================================================\n",
      "RandomForestRegressor\n",
      "=================================================================\n",
      "     MSE : 0.212404   |  CV : 0.328423 (avg) [0.224983, 0.383569]\n",
      "    RMSE : 0.460873   |  CV : 0.571553 (avg) [0.475916, 0.624871]\n",
      "     MAE : 0.110502   |  CV : 0.118067 (avg) [0.108673, 0.129343]\n",
      "    MAPE : 0.432926   |------------------------------------------\n",
      "      R2 : 0.452361   |  CV : 0.280475 (avg) [0.161897, 0.402072]\n",
      "      EV : 0.452767   |  CV : 0.286426 (avg) [0.174283, 0.413359] \n",
      "\n",
      "=================================================================\n",
      "BaggingRegressor\n",
      "=================================================================\n",
      "     MSE : 0.242335   |  CV : 0.355247 (avg) [0.263813, 0.411460]\n",
      "    RMSE : 0.492276   |  CV : 0.585959 (avg) [0.517724, 0.632327]\n",
      "     MAE : 0.114651   |  CV : 0.121804 (avg) [0.113682, 0.136152]\n",
      "    MAPE : inf   |------------------------------------------\n",
      "      R2 : 0.375191   |  CV : 0.248207 (avg) [0.130595, 0.372864]\n",
      "      EV : 0.375642   |  CV : 0.262603 (avg) [0.190027, 0.370088] \n",
      "\n",
      "=================================================================\n",
      "AdaBoostRegressor\n",
      "=================================================================\n",
      "     MSE : 0.584950   |  CV : 5.981078 (avg) [2.559851, 11.788861]\n",
      "    RMSE : 0.764820   |  CV : 2.197274 (avg) [0.868621, 3.560383]\n",
      "     MAE : 0.576656   |  CV : 2.469654 (avg) [1.062132, 3.513479]\n",
      "    MAPE : 0.849103   |------------------------------------------\n",
      "      R2 : -0.508166   |  CV : -13.539936 (avg) [-26.136261, -5.539476]\n",
      "      EV : 0.144594   |  CV : -0.470463 (avg) [-1.911279, 0.193035] \n",
      "\n",
      "=================================================================\n",
      "GradientBoostingRegressor\n",
      "=================================================================\n",
      "     MSE : 0.210888   |  CV : 0.327161 (avg) [0.241382, 0.416065]\n",
      "    RMSE : 0.459225   |  CV : 0.564851 (avg) [0.489660, 0.626837]\n",
      "     MAE : 0.125177   |  CV : 0.126208 (avg) [0.120916, 0.130872]\n",
      "    MAPE : 0.573852   |------------------------------------------\n",
      "      R2 : 0.456271   |  CV : 0.290034 (avg) [0.103758, 0.384884]\n",
      "      EV : 0.456506   |  CV : 0.293998 (avg) [0.124188, 0.389073] \n",
      "\n",
      "=================================================================\n",
      "XGBRegressor\n",
      "=================================================================\n",
      "     MSE : 0.238759   |  CV : 0.326500 (avg) [0.244449, 0.402350]\n",
      "    RMSE : 0.488630   |  CV : 0.569655 (avg) [0.494418, 0.634311]\n",
      "     MAE : 0.115085   |  CV : 0.121188 (avg) [0.108826, 0.133818]\n",
      "    MAPE : 1.790913   |------------------------------------------\n",
      "      R2 : 0.384411   |  CV : 0.289750 (avg) [0.214464, 0.376198]\n",
      "      EV : 0.384451   |  CV : 0.289913 (avg) [0.214470, 0.376367] \n",
      "\n"
     ]
    }
   ],
   "source": [
    "for model in models:\n",
    "    \n",
    "    evaluate(model, x_train_reg, x_test_reg, y_train_reg, y_test_reg, features, y_reg, classification = False)"
   ]
  },
  {
   "cell_type": "markdown",
   "metadata": {},
   "source": [
    "### 2.2.2. Conclusion\n",
    "\n",
    "Looking at the metrics, we conclude that GradientBoost and XGBoost are the best performing overall (even though they perform very poorly).\n",
    "\n",
    "We are going to choose XGBoostRegressor() for the hyperparameter optimization, as the differences between this estimator and GradientBoostingRegressor() is very small."
   ]
  },
  {
   "cell_type": "markdown",
   "metadata": {},
   "source": [
    "---\n",
    "# 3. Hyperparameter Optimization"
   ]
  },
  {
   "cell_type": "markdown",
   "metadata": {},
   "source": [
    "We don't need to apply `StandardScaler()` on the split data, as ensemble methods are insensitive to monotonic transformations.\n",
    "\n",
    "We used it before due to having methods based on distances, which are sensitive to monotonic transformations of their data."
   ]
  },
  {
   "cell_type": "markdown",
   "metadata": {},
   "source": [
    "### 3.0.1. Train Test Split"
   ]
  },
  {
   "cell_type": "code",
   "execution_count": 41,
   "metadata": {},
   "outputs": [],
   "source": [
    "y_clf = target['Hit']\n",
    "y_reg = target['Sales_total']\n",
    "\n",
    "x_train_clf, x_test_clf, y_train_clf, y_test_clf = train_test_split(features, y_clf, train_size = 0.8, random_state=27)\n",
    "x_train_reg, x_test_reg, y_train_reg, y_test_reg = train_test_split(features, y_reg, train_size = 0.8, random_state=27)"
   ]
  },
  {
   "cell_type": "markdown",
   "metadata": {},
   "source": [
    "## 3.1 Classification\n",
    "\n",
    "We are going to use `GridSearchCV()` to see the best parameters for the `XGBoostClassificator()` estimator."
   ]
  },
  {
   "cell_type": "markdown",
   "metadata": {},
   "source": [
    "### 3.1.1. The Imbalanced Dataset Problem in Classification\n",
    "\n",
    "One thing we have to take into account is that this **dataset is imbalanced**, as the proportion of hits versus non-hits is logically very small.\n",
    "\n",
    "Let's see what is this proportion:"
   ]
  },
  {
   "cell_type": "code",
   "execution_count": 42,
   "metadata": {},
   "outputs": [
    {
     "data": {
      "text/plain": [
       "0.0    35176\n",
       "1.0     1000\n",
       "Name: Hit, dtype: int64"
      ]
     },
     "execution_count": 42,
     "metadata": {},
     "output_type": "execute_result"
    }
   ],
   "source": [
    "y_clf.value_counts()"
   ]
  },
  {
   "cell_type": "code",
   "execution_count": 43,
   "metadata": {},
   "outputs": [
    {
     "data": {
      "text/plain": [
       "35.176"
      ]
     },
     "execution_count": 43,
     "metadata": {},
     "output_type": "execute_result"
    }
   ],
   "source": [
    "estimate = (y_clf != 1).sum() / (y_clf == 1).sum()\n",
    "estimate"
   ]
  },
  {
   "cell_type": "markdown",
   "metadata": {},
   "source": [
    "As we can see, there are almost a proportion of hits:non-hits of 1:35.\n",
    "\n",
    "In order to address this problem, XGBoost has 2 main options:\n",
    "\n",
    "- Modifying the `scale_pos_weight` hyperparameter value to the proportion we have just calculated above. \n",
    "\n",
    "- Using a technique called Synthetic Minority Over-sampling Technique (SMOTE).\n",
    "\n",
    "However, these techniques increase **Recall** and **ROC AUC** at the cost of **drastically reducing Precision**.\n",
    "\n",
    "We will show how it affects, but **we are not going to use neither of them for the final model**.\n",
    "\n",
    "### 3.1.2. Hyperparameter Optimization for XGBoostClassifier()\n",
    "\n",
    "We are going to see if our estimated value for the `scale_pos_weight` hyperparameter value will be selected in the optimization."
   ]
  },
  {
   "cell_type": "markdown",
   "metadata": {},
   "source": [
    "These are the parameters we are going to try optimizing:\n",
    "\n",
    "- `learning_rate`: To make the model more rebust vs overfitting.\n",
    "\n",
    "- `max_depth`: Used to control over-fitting. The bigger this parameter, the higher the likelihood of over-fitting.\n",
    "\n",
    "- `min_child_weight`: Used to control over-fitting. Too high values can result in under-fitting.\n",
    "\n",
    "- `subsample` and `colsample_bytree`: Used to control over-fitting and to decorrelate the trees. The lower, the more conservative the model becomes (but at the risk of under-fitting).\n",
    "\n",
    "- `scale_pos_weight`: To tackle the imbalance problem. (Default = 1)\n",
    "\n",
    "We are going to put `cv = 3` so that it doesn't take too long to fihish running the code."
   ]
  },
  {
   "cell_type": "code",
   "execution_count": 44,
   "metadata": {},
   "outputs": [],
   "source": [
    "params = {\n",
    "            'learning_rate'    : [.01, .05, .1, .2],\n",
    "            'max_depth'        : [3, 5, 7],\n",
    "            'min_child_weight' : [1, 3, 5, 7],\n",
    "            'subsample'        : [.3, .5, .7],\n",
    "            'scale_pos_weight' : [1, 5, 10, estimate]\n",
    "          }"
   ]
  },
  {
   "cell_type": "raw",
   "metadata": {},
   "source": [
    "clf = XGBClassifier(eval_metric = 'logloss')\n",
    "\n",
    "grid_search_clf = GridSearchCV(clf, param_grid = params, scoring = 'precision', n_jobs = 1, cv = 3, verbose = 1)"
   ]
  },
  {
   "cell_type": "markdown",
   "metadata": {},
   "source": [
    "As we said, we want to maximize **precision**, so we are going to use precision as the scoring metric for the `GridSearchCV()`."
   ]
  },
  {
   "cell_type": "code",
   "execution_count": 45,
   "metadata": {},
   "outputs": [],
   "source": [
    "clf = XGBClassifier(eval_metric = 'logloss')\n",
    "\n",
    "grid_search_clf = GridSearchCV(clf, param_grid = params, scoring = ['precision','roc_auc'], refit = 'precision', n_jobs = 1, cv = 3, verbose = 1)"
   ]
  },
  {
   "cell_type": "code",
   "execution_count": 46,
   "metadata": {},
   "outputs": [
    {
     "name": "stdout",
     "output_type": "stream",
     "text": [
      "Fitting 3 folds for each of 576 candidates, totalling 1728 fits\n",
      "CPU times: user 4h 24min 14s, sys: 24min 28s, total: 4h 48min 42s\n",
      "Wall time: 1h 38min 44s\n"
     ]
    },
    {
     "data": {
      "text/plain": [
       "GridSearchCV(cv=3,\n",
       "             estimator=XGBClassifier(base_score=None, booster=None,\n",
       "                                     colsample_bylevel=None,\n",
       "                                     colsample_bynode=None,\n",
       "                                     colsample_bytree=None,\n",
       "                                     eval_metric='logloss', gamma=None,\n",
       "                                     gpu_id=None, importance_type='gain',\n",
       "                                     interaction_constraints=None,\n",
       "                                     learning_rate=None, max_delta_step=None,\n",
       "                                     max_depth=None, min_child_weight=None,\n",
       "                                     missing=nan, monotone_constraints=None,\n",
       "                                     n...\n",
       "                                     reg_alpha=None, reg_lambda=None,\n",
       "                                     scale_pos_weight=None, subsample=None,\n",
       "                                     tree_method=None, validate_parameters=None,\n",
       "                                     verbosity=None),\n",
       "             n_jobs=1,\n",
       "             param_grid={'learning_rate': [0.01, 0.05, 0.1, 0.2],\n",
       "                         'max_depth': [3, 5, 7],\n",
       "                         'min_child_weight': [1, 3, 5, 7],\n",
       "                         'scale_pos_weight': [1, 5, 10, 35.176],\n",
       "                         'subsample': [0.3, 0.5, 0.7]},\n",
       "             refit='precision', scoring=['precision', 'roc_auc'], verbose=1)"
      ]
     },
     "execution_count": 46,
     "metadata": {},
     "output_type": "execute_result"
    }
   ],
   "source": [
    "%%time\n",
    "\n",
    "grid_search_clf.fit(features, y_clf)"
   ]
  },
  {
   "cell_type": "code",
   "execution_count": 47,
   "metadata": {},
   "outputs": [
    {
     "data": {
      "text/plain": [
       "{'learning_rate': 0.05,\n",
       " 'max_depth': 3,\n",
       " 'min_child_weight': 1,\n",
       " 'scale_pos_weight': 1,\n",
       " 'subsample': 0.5}"
      ]
     },
     "execution_count": 47,
     "metadata": {},
     "output_type": "execute_result"
    }
   ],
   "source": [
    "grid_search_clf.best_params_"
   ]
  },
  {
   "cell_type": "code",
   "execution_count": 48,
   "metadata": {},
   "outputs": [
    {
     "data": {
      "text/plain": [
       "XGBClassifier(base_score=0.5, booster='gbtree', colsample_bylevel=1,\n",
       "              colsample_bynode=1, colsample_bytree=1, eval_metric='logloss',\n",
       "              gamma=0, gpu_id=-1, importance_type='gain',\n",
       "              interaction_constraints='', learning_rate=0.05, max_delta_step=0,\n",
       "              max_depth=3, min_child_weight=1, missing=nan,\n",
       "              monotone_constraints='()', n_estimators=100, n_jobs=3,\n",
       "              num_parallel_tree=1, random_state=0, reg_alpha=0, reg_lambda=1,\n",
       "              scale_pos_weight=1, subsample=0.5, tree_method='exact',\n",
       "              validate_parameters=1, verbosity=None)"
      ]
     },
     "execution_count": 48,
     "metadata": {},
     "output_type": "execute_result"
    }
   ],
   "source": [
    "grid_search_clf.best_estimator_"
   ]
  },
  {
   "cell_type": "code",
   "execution_count": 49,
   "metadata": {},
   "outputs": [],
   "source": [
    "xgbc_optimized = XGBClassifier(eval_metric = 'logloss').set_params(**grid_search_clf.best_params_)"
   ]
  },
  {
   "cell_type": "code",
   "execution_count": 50,
   "metadata": {},
   "outputs": [
    {
     "name": "stdout",
     "output_type": "stream",
     "text": [
      "========================================================================\n",
      "XGBClassifier\n",
      "========================================================================\n",
      "    Accuracy : 0.978718   |  CV : 0.976725 (avg) [0.975536, 0.978856]\n",
      "   Precision : 0.731343   |  CV : 0.754231 (avg) [0.676923, 0.808511]\n",
      "      Recall : 0.264865   |  CV : 0.235000 (avg) [0.190000, 0.315000]\n",
      "    F1 Score : 0.388889   |  CV : 0.356484 (avg) [0.307692, 0.451613]\n",
      "     ROC AUC : 0.631156   |  CV : 0.945466 (avg) [0.933987, 0.954775] \n",
      "\n"
     ]
    }
   ],
   "source": [
    "evaluate(xgbc_optimized, x_train_clf, x_test_clf, y_train_clf, y_test_clf, features, y_clf)"
   ]
  },
  {
   "cell_type": "markdown",
   "metadata": {},
   "source": [
    "### 3.1.3. Example of SMOTE\n",
    "\n",
    "As we said above, this technique increases Recall at the cost of reducing Precision, as we show below:"
   ]
  },
  {
   "cell_type": "code",
   "execution_count": 51,
   "metadata": {},
   "outputs": [],
   "source": [
    "sm = SMOTE(random_state = 27)\n",
    "x_train_sm, y_train_sm = sm.fit_resample(x_train_clf, y_train_clf)"
   ]
  },
  {
   "cell_type": "code",
   "execution_count": 52,
   "metadata": {},
   "outputs": [],
   "source": [
    "xgbc_optimized_sm = XGBClassifier(eval_metric = 'logloss').set_params(**grid_search_clf.best_params_)"
   ]
  },
  {
   "cell_type": "code",
   "execution_count": 53,
   "metadata": {},
   "outputs": [
    {
     "name": "stdout",
     "output_type": "stream",
     "text": [
      "========================================================================\n",
      "XGBClassifier\n",
      "========================================================================\n",
      "    Accuracy : 0.902847   |  CV : 0.976725 (avg) [0.975536, 0.978856]\n",
      "   Precision : 0.177057   |  CV : 0.754231 (avg) [0.676923, 0.808511]\n",
      "      Recall : 0.767568   |  CV : 0.235000 (avg) [0.190000, 0.315000]\n",
      "    F1 Score : 0.287741   |  CV : 0.356484 (avg) [0.307692, 0.451613]\n",
      "     ROC AUC : 0.836982   |  CV : 0.945466 (avg) [0.933987, 0.954775] \n",
      "\n"
     ]
    }
   ],
   "source": [
    "evaluate(xgbc_optimized_sm, x_train_sm, x_test_clf, y_train_sm, y_test_clf, features, y_clf)"
   ]
  },
  {
   "cell_type": "markdown",
   "metadata": {},
   "source": [
    "As we can see, recall and ROC AUC increased 20-50% at the cost of dropping precision from 73% to 17%."
   ]
  },
  {
   "cell_type": "markdown",
   "metadata": {},
   "source": [
    "### 3.1.4. Conclusion\n",
    "\n",
    "As we see, applying SMOTE improved our metrics overall. Thus, we are going to use XGBoost as out estimator, with its optimized hyperparameters over SMOTE-applied train data. "
   ]
  },
  {
   "cell_type": "markdown",
   "metadata": {},
   "source": [
    "## 3.2. Regression\n",
    "\n",
    "We are going to use `GridSearchCV()` to see the best parameters for the `XGBoostRegressor()` and `GradientBoostingRegressor()` estimators."
   ]
  },
  {
   "cell_type": "markdown",
   "metadata": {},
   "source": [
    "### 3.2.1. Hyperparameter Optimization for XGBoostRegressor() and GradientBoostingRegressor()\n",
    "\n",
    "For **XGBoostRegressor()**, we are going to use the same parameters we used for its Classification counterpart, but without the `scale_pos_weight` parameter."
   ]
  },
  {
   "cell_type": "code",
   "execution_count": 54,
   "metadata": {},
   "outputs": [],
   "source": [
    "params = {\n",
    "            'learning_rate'    : [.01, .05, .1, .2, .3],\n",
    "            'max_depth'        : [3, 5, 7],\n",
    "            'min_child_weight' : [1, 3, 5, 7],\n",
    "            'subsample'        : [.3, .5, .7],\n",
    "          }"
   ]
  },
  {
   "cell_type": "code",
   "execution_count": 55,
   "metadata": {},
   "outputs": [
    {
     "data": {
      "text/plain": [
       "(0.0, 34.152272)"
      ]
     },
     "execution_count": 55,
     "metadata": {},
     "output_type": "execute_result"
    }
   ],
   "source": [
    "(y_reg.unique().min(), y_reg.unique().max())"
   ]
  },
  {
   "cell_type": "markdown",
   "metadata": {},
   "source": [
    "Games has a very wide range of sales values (in our case, from 0 to 34.2M sales).\n",
    "\n",
    "Even though MAE is the best in terms of interpretability, it doesn't capture the great range of the output.\n",
    "\n",
    "Thus, we are going to use `RMSE` (negative in the cross validation because the smaller, the better) to find the best hyperparameters for regression."
   ]
  },
  {
   "cell_type": "code",
   "execution_count": 56,
   "metadata": {},
   "outputs": [],
   "source": [
    "reg = XGBRegressor()\n",
    "\n",
    "grid_search_reg = GridSearchCV(reg, param_grid = params, scoring = 'neg_root_mean_squared_error', n_jobs = 1, cv = 3, verbose = 1)"
   ]
  },
  {
   "cell_type": "code",
   "execution_count": 57,
   "metadata": {},
   "outputs": [
    {
     "name": "stdout",
     "output_type": "stream",
     "text": [
      "Fitting 3 folds for each of 180 candidates, totalling 540 fits\n"
     ]
    },
    {
     "data": {
      "text/plain": [
       "GridSearchCV(cv=3,\n",
       "             estimator=XGBRegressor(base_score=None, booster=None,\n",
       "                                    colsample_bylevel=None,\n",
       "                                    colsample_bynode=None,\n",
       "                                    colsample_bytree=None, gamma=None,\n",
       "                                    gpu_id=None, importance_type='gain',\n",
       "                                    interaction_constraints=None,\n",
       "                                    learning_rate=None, max_delta_step=None,\n",
       "                                    max_depth=None, min_child_weight=None,\n",
       "                                    missing=nan, monotone_constraints=None,\n",
       "                                    n_estimators=100, n_jobs=...\n",
       "                                    num_parallel_tree=None, random_state=None,\n",
       "                                    reg_alpha=None, reg_lambda=None,\n",
       "                                    scale_pos_weight=None, subsample=None,\n",
       "                                    tree_method=None, validate_parameters=None,\n",
       "                                    verbosity=None),\n",
       "             n_jobs=1,\n",
       "             param_grid={'learning_rate': [0.01, 0.05, 0.1, 0.2, 0.3],\n",
       "                         'max_depth': [3, 5, 7],\n",
       "                         'min_child_weight': [1, 3, 5, 7],\n",
       "                         'subsample': [0.3, 0.5, 0.7]},\n",
       "             scoring='neg_root_mean_squared_error', verbose=1)"
      ]
     },
     "execution_count": 57,
     "metadata": {},
     "output_type": "execute_result"
    }
   ],
   "source": [
    "grid_search_reg.fit(features, y_reg)"
   ]
  },
  {
   "cell_type": "code",
   "execution_count": 58,
   "metadata": {},
   "outputs": [
    {
     "data": {
      "text/plain": [
       "{'learning_rate': 0.05,\n",
       " 'max_depth': 7,\n",
       " 'min_child_weight': 7,\n",
       " 'subsample': 0.3}"
      ]
     },
     "execution_count": 58,
     "metadata": {},
     "output_type": "execute_result"
    }
   ],
   "source": [
    "grid_search_reg.best_params_"
   ]
  },
  {
   "cell_type": "code",
   "execution_count": 59,
   "metadata": {},
   "outputs": [
    {
     "data": {
      "text/plain": [
       "XGBRegressor(base_score=0.5, booster='gbtree', colsample_bylevel=1,\n",
       "             colsample_bynode=1, colsample_bytree=1, gamma=0, gpu_id=-1,\n",
       "             importance_type='gain', interaction_constraints='',\n",
       "             learning_rate=0.05, max_delta_step=0, max_depth=7,\n",
       "             min_child_weight=7, missing=nan, monotone_constraints='()',\n",
       "             n_estimators=100, n_jobs=3, num_parallel_tree=1, random_state=0,\n",
       "             reg_alpha=0, reg_lambda=1, scale_pos_weight=1, subsample=0.3,\n",
       "             tree_method='exact', validate_parameters=1, verbosity=None)"
      ]
     },
     "execution_count": 59,
     "metadata": {},
     "output_type": "execute_result"
    }
   ],
   "source": [
    "grid_search_reg.best_estimator_"
   ]
  },
  {
   "cell_type": "code",
   "execution_count": 60,
   "metadata": {},
   "outputs": [],
   "source": [
    "xgbr_optimized = XGBRegressor().set_params(**grid_search_reg.best_params_)"
   ]
  },
  {
   "cell_type": "code",
   "execution_count": 61,
   "metadata": {},
   "outputs": [
    {
     "name": "stdout",
     "output_type": "stream",
     "text": [
      "=================================================================\n",
      "XGBRegressor\n",
      "=================================================================\n",
      "     MSE : 0.222915   |  CV : 0.315019 (avg) [0.242596, 0.368989]\n",
      "    RMSE : 0.472139   |  CV : 0.559569 (avg) [0.492541, 0.607445]\n",
      "     MAE : 0.121983   |  CV : 0.124996 (avg) [0.115956, 0.136713]\n",
      "    MAPE : 0.475061   |------------------------------------------\n",
      "      R2 : 0.425261   |  CV : 0.313634 (avg) [0.190885, 0.380925]\n",
      "      EV : 0.425421   |  CV : 0.313922 (avg) [0.191508, 0.381190] \n",
      "\n"
     ]
    }
   ],
   "source": [
    "evaluate(xgbr_optimized, x_train_reg, x_test_reg, y_train_reg, y_test_reg, features, y_reg, classification = False)"
   ]
  },
  {
   "cell_type": "markdown",
   "metadata": {},
   "source": [
    "---\n",
    "# 4. Save Estimators \n",
    "\n",
    "We are going to use Pickle to save the classifier and regressor models so that we can use them for the deployment."
   ]
  },
  {
   "cell_type": "code",
   "execution_count": 64,
   "metadata": {},
   "outputs": [],
   "source": [
    "import pickle\n",
    "\n",
    "clf_file = 'XGBClassifier_tuned.sav'\n",
    "reg_file = 'XGBRegressor_tuned.sav'\n",
    "\n",
    "clf_out = open(clf_file, 'wb')\n",
    "reg_out = open(reg_file, 'wb')\n",
    "\n",
    "pickle.dump(xgbc_optimized, clf_out)\n",
    "pickle.dump(xgbr_optimized, reg_out)\n",
    "\n",
    "clf_out.close()\n",
    "reg_out.close()"
   ]
  }
 ],
 "metadata": {
  "kernelspec": {
   "display_name": "Python 3",
   "language": "python",
   "name": "python3"
  },
  "language_info": {
   "codemirror_mode": {
    "name": "ipython",
    "version": 3
   },
   "file_extension": ".py",
   "mimetype": "text/x-python",
   "name": "python",
   "nbconvert_exporter": "python",
   "pygments_lexer": "ipython3",
   "version": "3.7.10"
  }
 },
 "nbformat": 4,
 "nbformat_minor": 2
}
