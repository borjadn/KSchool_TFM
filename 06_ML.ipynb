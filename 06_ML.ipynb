{
 "cells": [
  {
   "cell_type": "code",
   "execution_count": 1,
   "metadata": {},
   "outputs": [],
   "source": [
    "# Basic Pack\n",
    "import pandas as pd\n",
    "import numpy as np\n",
    "import matplotlib.pyplot as plt\n",
    "import seaborn as sns\n",
    "\n",
    "# Preprocessing\n",
    "from sklearn.preprocessing import StandardScaler\n",
    "\n",
    "# Cross Validation\n",
    "from sklearn.model_selection import train_test_split\n",
    "from sklearn.model_selection import cross_val_score\n",
    "\n",
    "# Classifiers\n",
    "from sklearn.linear_model import LogisticRegression\n",
    "from sklearn.neighbors import KNeighborsClassifier\n",
    "from sklearn.tree import DecisionTreeClassifier\n",
    "from sklearn.svm import LinearSVC, SVC\n",
    "from sklearn.ensemble import RandomForestClassifier, BaggingClassifier, AdaBoostClassifier, GradientBoostingClassifier\n",
    "from xgboost import XGBClassifier\n",
    "\n",
    "## Classifier Metrics\n",
    "from sklearn.metrics import  f1_score, accuracy_score, confusion_matrix, roc_auc_score, recall_score, precision_score\n",
    "\n",
    "# Regressors\n",
    "from sklearn.linear_model import LinearRegression, Ridge, Lasso, ElasticNet\n",
    "from sklearn.neighbors import KNeighborsRegressor\n",
    "from sklearn.tree import DecisionTreeRegressor\n",
    "from sklearn.svm import LinearSVR, SVR\n",
    "from sklearn.ensemble import RandomForestRegressor, BaggingRegressor, AdaBoostRegressor, GradientBoostingRegressor\n",
    "from xgboost import XGBRegressor\n",
    "\n",
    "## Regressor Metrics\n",
    "from sklearn.metrics import mean_squared_error, mean_absolute_error, explained_variance_score, r2_score\n",
    "\n",
    "# Hyperparameter Optimization\n",
    "from sklearn.model_selection import GridSearchCV\n",
    "\n",
    "# Synthetic Minority Over-sampling Technique\n",
    "from imblearn.over_sampling import SMOTE\n",
    "\n",
    "# Turn off warnings to ease reading\n",
    "import warnings\n",
    "warnings.filterwarnings('ignore')"
   ]
  },
  {
   "cell_type": "markdown",
   "metadata": {},
   "source": [
    "# 0. Loading Dataset"
   ]
  },
  {
   "cell_type": "code",
   "execution_count": 2,
   "metadata": {},
   "outputs": [
    {
     "data": {
      "text/html": [
       "<div>\n",
       "<style scoped>\n",
       "    .dataframe tbody tr th:only-of-type {\n",
       "        vertical-align: middle;\n",
       "    }\n",
       "\n",
       "    .dataframe tbody tr th {\n",
       "        vertical-align: top;\n",
       "    }\n",
       "\n",
       "    .dataframe thead th {\n",
       "        text-align: right;\n",
       "    }\n",
       "</style>\n",
       "<table border=\"1\" class=\"dataframe\">\n",
       "  <thead>\n",
       "    <tr style=\"text-align: right;\">\n",
       "      <th></th>\n",
       "      <th>Title</th>\n",
       "      <th>Publisher</th>\n",
       "      <th>Developer</th>\n",
       "      <th>Hit</th>\n",
       "      <th>Sales_total</th>\n",
       "      <th>Suggest_count</th>\n",
       "      <th>P_Microsoft</th>\n",
       "      <th>P_Nintendo</th>\n",
       "      <th>P_Other</th>\n",
       "      <th>P_PC</th>\n",
       "      <th>...</th>\n",
       "      <th>T_Sci_fi</th>\n",
       "      <th>T_Open_World</th>\n",
       "      <th>T_1st_Person</th>\n",
       "      <th>T_3rd_Person</th>\n",
       "      <th>T_Fantasy</th>\n",
       "      <th>T_Female_Protagonist</th>\n",
       "      <th>T_Hard</th>\n",
       "      <th>T_Pixel_Graphics</th>\n",
       "      <th>Release_Y</th>\n",
       "      <th>Release_M</th>\n",
       "    </tr>\n",
       "  </thead>\n",
       "  <tbody>\n",
       "    <tr>\n",
       "      <th>0</th>\n",
       "      <td>\"Nuke It\"</td>\n",
       "      <td>CrystalVision</td>\n",
       "      <td>CrystalVision</td>\n",
       "      <td>0.0</td>\n",
       "      <td>0.060714</td>\n",
       "      <td>NaN</td>\n",
       "      <td>0</td>\n",
       "      <td>0</td>\n",
       "      <td>0</td>\n",
       "      <td>1</td>\n",
       "      <td>...</td>\n",
       "      <td>0</td>\n",
       "      <td>0</td>\n",
       "      <td>0</td>\n",
       "      <td>0</td>\n",
       "      <td>0</td>\n",
       "      <td>0</td>\n",
       "      <td>0</td>\n",
       "      <td>0</td>\n",
       "      <td>1998</td>\n",
       "      <td>1</td>\n",
       "    </tr>\n",
       "    <tr>\n",
       "      <th>1</th>\n",
       "      <td>#IDARB</td>\n",
       "      <td>Other Ocean Interactive</td>\n",
       "      <td>Other Ocean Interactive</td>\n",
       "      <td>0.0</td>\n",
       "      <td>0.085000</td>\n",
       "      <td>182.0</td>\n",
       "      <td>1</td>\n",
       "      <td>0</td>\n",
       "      <td>0</td>\n",
       "      <td>0</td>\n",
       "      <td>...</td>\n",
       "      <td>0</td>\n",
       "      <td>0</td>\n",
       "      <td>0</td>\n",
       "      <td>0</td>\n",
       "      <td>0</td>\n",
       "      <td>0</td>\n",
       "      <td>0</td>\n",
       "      <td>0</td>\n",
       "      <td>2015</td>\n",
       "      <td>1</td>\n",
       "    </tr>\n",
       "    <tr>\n",
       "      <th>2</th>\n",
       "      <td>#killallzombies</td>\n",
       "      <td>Beatshapers</td>\n",
       "      <td>Beatshapers</td>\n",
       "      <td>0.0</td>\n",
       "      <td>0.085000</td>\n",
       "      <td>NaN</td>\n",
       "      <td>0</td>\n",
       "      <td>0</td>\n",
       "      <td>0</td>\n",
       "      <td>0</td>\n",
       "      <td>...</td>\n",
       "      <td>0</td>\n",
       "      <td>0</td>\n",
       "      <td>0</td>\n",
       "      <td>0</td>\n",
       "      <td>0</td>\n",
       "      <td>0</td>\n",
       "      <td>0</td>\n",
       "      <td>0</td>\n",
       "      <td>2015</td>\n",
       "      <td>1</td>\n",
       "    </tr>\n",
       "    <tr>\n",
       "      <th>3</th>\n",
       "      <td>'70s Robot Anime: Geppy-X</td>\n",
       "      <td>Aroma</td>\n",
       "      <td>Aroma</td>\n",
       "      <td>0.0</td>\n",
       "      <td>0.060714</td>\n",
       "      <td>NaN</td>\n",
       "      <td>0</td>\n",
       "      <td>0</td>\n",
       "      <td>0</td>\n",
       "      <td>0</td>\n",
       "      <td>...</td>\n",
       "      <td>0</td>\n",
       "      <td>0</td>\n",
       "      <td>0</td>\n",
       "      <td>0</td>\n",
       "      <td>0</td>\n",
       "      <td>0</td>\n",
       "      <td>0</td>\n",
       "      <td>0</td>\n",
       "      <td>1999</td>\n",
       "      <td>5</td>\n",
       "    </tr>\n",
       "    <tr>\n",
       "      <th>4</th>\n",
       "      <td>'98 Koshien</td>\n",
       "      <td>Magical Company</td>\n",
       "      <td>Magical Company</td>\n",
       "      <td>0.0</td>\n",
       "      <td>0.146429</td>\n",
       "      <td>NaN</td>\n",
       "      <td>0</td>\n",
       "      <td>0</td>\n",
       "      <td>0</td>\n",
       "      <td>0</td>\n",
       "      <td>...</td>\n",
       "      <td>0</td>\n",
       "      <td>0</td>\n",
       "      <td>0</td>\n",
       "      <td>0</td>\n",
       "      <td>0</td>\n",
       "      <td>0</td>\n",
       "      <td>0</td>\n",
       "      <td>0</td>\n",
       "      <td>1998</td>\n",
       "      <td>6</td>\n",
       "    </tr>\n",
       "  </tbody>\n",
       "</table>\n",
       "<p>5 rows × 74 columns</p>\n",
       "</div>"
      ],
      "text/plain": [
       "                       Title                Publisher  \\\n",
       "0                  \"Nuke It\"            CrystalVision   \n",
       "1                     #IDARB  Other Ocean Interactive   \n",
       "2            #killallzombies              Beatshapers   \n",
       "3  '70s Robot Anime: Geppy-X                    Aroma   \n",
       "4                '98 Koshien          Magical Company   \n",
       "\n",
       "                 Developer  Hit  Sales_total  Suggest_count  P_Microsoft  \\\n",
       "0            CrystalVision  0.0     0.060714            NaN            0   \n",
       "1  Other Ocean Interactive  0.0     0.085000          182.0            1   \n",
       "2              Beatshapers  0.0     0.085000            NaN            0   \n",
       "3                    Aroma  0.0     0.060714            NaN            0   \n",
       "4          Magical Company  0.0     0.146429            NaN            0   \n",
       "\n",
       "   P_Nintendo  P_Other  P_PC  ...  T_Sci_fi  T_Open_World  T_1st_Person  \\\n",
       "0           0        0     1  ...         0             0             0   \n",
       "1           0        0     0  ...         0             0             0   \n",
       "2           0        0     0  ...         0             0             0   \n",
       "3           0        0     0  ...         0             0             0   \n",
       "4           0        0     0  ...         0             0             0   \n",
       "\n",
       "   T_3rd_Person  T_Fantasy  T_Female_Protagonist  T_Hard  T_Pixel_Graphics  \\\n",
       "0             0          0                     0       0                 0   \n",
       "1             0          0                     0       0                 0   \n",
       "2             0          0                     0       0                 0   \n",
       "3             0          0                     0       0                 0   \n",
       "4             0          0                     0       0                 0   \n",
       "\n",
       "   Release_Y  Release_M  \n",
       "0       1998          1  \n",
       "1       2015          1  \n",
       "2       2015          1  \n",
       "3       1999          5  \n",
       "4       1998          6  \n",
       "\n",
       "[5 rows x 74 columns]"
      ]
     },
     "execution_count": 2,
     "metadata": {},
     "output_type": "execute_result"
    }
   ],
   "source": [
    "data = pd.read_csv('Files/05_encoded.csv')\n",
    "data.head()"
   ]
  },
  {
   "cell_type": "code",
   "execution_count": 3,
   "metadata": {},
   "outputs": [
    {
     "data": {
      "text/plain": [
       "(37445, 74)"
      ]
     },
     "execution_count": 3,
     "metadata": {},
     "output_type": "execute_result"
    }
   ],
   "source": [
    "data.shape"
   ]
  },
  {
   "cell_type": "markdown",
   "metadata": {},
   "source": [
    "---\n",
    "## 0.1. Target Encoding\n",
    "\n",
    "We want to Target Encode `Publisher` and `Developer`. However, before doing that, we should check for redundant values.\n",
    "\n",
    "In case we find a redundant value, we have to transform them into another non-redundant value.\n",
    "\n",
    "We also only want the top 30 values for each column, offsetting the rest of values to `Other`."
   ]
  },
  {
   "cell_type": "code",
   "execution_count": 4,
   "metadata": {},
   "outputs": [],
   "source": [
    "top_pub = pd.Series(data.Publisher.value_counts()[:50].index)\n",
    "top_dev = pd.Series(data.Developer.value_counts()[:50].index)"
   ]
  },
  {
   "cell_type": "code",
   "execution_count": 5,
   "metadata": {},
   "outputs": [
    {
     "data": {
      "text/html": [
       "<div>\n",
       "<style scoped>\n",
       "    .dataframe tbody tr th:only-of-type {\n",
       "        vertical-align: middle;\n",
       "    }\n",
       "\n",
       "    .dataframe tbody tr th {\n",
       "        vertical-align: top;\n",
       "    }\n",
       "\n",
       "    .dataframe thead th {\n",
       "        text-align: right;\n",
       "    }\n",
       "</style>\n",
       "<table border=\"1\" class=\"dataframe\">\n",
       "  <thead>\n",
       "    <tr style=\"text-align: right;\">\n",
       "      <th></th>\n",
       "      <th>Develpers</th>\n",
       "      <th>Publishers</th>\n",
       "    </tr>\n",
       "  </thead>\n",
       "  <tbody>\n",
       "    <tr>\n",
       "      <th>0</th>\n",
       "      <td>Unknown</td>\n",
       "      <td>Unknown</td>\n",
       "    </tr>\n",
       "    <tr>\n",
       "      <th>1</th>\n",
       "      <td>Konami</td>\n",
       "      <td>Sega</td>\n",
       "    </tr>\n",
       "    <tr>\n",
       "      <th>2</th>\n",
       "      <td>Sega</td>\n",
       "      <td>Microsoft</td>\n",
       "    </tr>\n",
       "    <tr>\n",
       "      <th>3</th>\n",
       "      <td>Capcom</td>\n",
       "      <td>Konami</td>\n",
       "    </tr>\n",
       "    <tr>\n",
       "      <th>4</th>\n",
       "      <td>Namco</td>\n",
       "      <td>Nintendo</td>\n",
       "    </tr>\n",
       "    <tr>\n",
       "      <th>5</th>\n",
       "      <td>Bandai</td>\n",
       "      <td>Sony Computer Entertainment</td>\n",
       "    </tr>\n",
       "    <tr>\n",
       "      <th>6</th>\n",
       "      <td>Hudson Soft</td>\n",
       "      <td>Ubisoft</td>\n",
       "    </tr>\n",
       "    <tr>\n",
       "      <th>7</th>\n",
       "      <td>Bandai Namco Games</td>\n",
       "      <td>Electronic Arts</td>\n",
       "    </tr>\n",
       "    <tr>\n",
       "      <th>8</th>\n",
       "      <td>Nintendo</td>\n",
       "      <td>Activision</td>\n",
       "    </tr>\n",
       "    <tr>\n",
       "      <th>9</th>\n",
       "      <td>SNK Corporation</td>\n",
       "      <td>Capcom</td>\n",
       "    </tr>\n",
       "    <tr>\n",
       "      <th>10</th>\n",
       "      <td>Atari</td>\n",
       "      <td>Atari</td>\n",
       "    </tr>\n",
       "    <tr>\n",
       "      <th>11</th>\n",
       "      <td>Square Enix</td>\n",
       "      <td>Bandai</td>\n",
       "    </tr>\n",
       "    <tr>\n",
       "      <th>12</th>\n",
       "      <td>Ubisoft</td>\n",
       "      <td>THQ</td>\n",
       "    </tr>\n",
       "    <tr>\n",
       "      <th>13</th>\n",
       "      <td>Taito Corporation</td>\n",
       "      <td>Namco Bandai</td>\n",
       "    </tr>\n",
       "    <tr>\n",
       "      <th>14</th>\n",
       "      <td>Idea Factory</td>\n",
       "      <td>D3 Publisher</td>\n",
       "    </tr>\n",
       "    <tr>\n",
       "      <th>15</th>\n",
       "      <td>Koei</td>\n",
       "      <td>Namco</td>\n",
       "    </tr>\n",
       "    <tr>\n",
       "      <th>16</th>\n",
       "      <td>Namco Bandai Games</td>\n",
       "      <td>Hudson Soft</td>\n",
       "    </tr>\n",
       "    <tr>\n",
       "      <th>17</th>\n",
       "      <td>Banpresto</td>\n",
       "      <td>Square Enix</td>\n",
       "    </tr>\n",
       "    <tr>\n",
       "      <th>18</th>\n",
       "      <td>Activision</td>\n",
       "      <td>Atlus</td>\n",
       "    </tr>\n",
       "    <tr>\n",
       "      <th>19</th>\n",
       "      <td>EA Canada</td>\n",
       "      <td>Namco Bandai Games</td>\n",
       "    </tr>\n",
       "    <tr>\n",
       "      <th>20</th>\n",
       "      <td>Arc System Works</td>\n",
       "      <td>KOEI</td>\n",
       "    </tr>\n",
       "    <tr>\n",
       "      <th>21</th>\n",
       "      <td>Electronic Arts</td>\n",
       "      <td>Idea Factory</td>\n",
       "    </tr>\n",
       "    <tr>\n",
       "      <th>22</th>\n",
       "      <td>Nippon Ichi Software</td>\n",
       "      <td>EA Sports</td>\n",
       "    </tr>\n",
       "    <tr>\n",
       "      <th>23</th>\n",
       "      <td>Omega Force</td>\n",
       "      <td>Acclaim Entertainment</td>\n",
       "    </tr>\n",
       "    <tr>\n",
       "      <th>24</th>\n",
       "      <td>SCEE London Studio</td>\n",
       "      <td>Majesco</td>\n",
       "    </tr>\n",
       "    <tr>\n",
       "      <th>25</th>\n",
       "      <td>SunSoft</td>\n",
       "      <td>Sierra Entertainment</td>\n",
       "    </tr>\n",
       "    <tr>\n",
       "      <th>26</th>\n",
       "      <td>Success</td>\n",
       "      <td>Midway Games</td>\n",
       "    </tr>\n",
       "    <tr>\n",
       "      <th>27</th>\n",
       "      <td>Nintendo EAD</td>\n",
       "      <td>Banpresto</td>\n",
       "    </tr>\n",
       "    <tr>\n",
       "      <th>28</th>\n",
       "      <td>Rare Ltd.</td>\n",
       "      <td>Taito</td>\n",
       "    </tr>\n",
       "    <tr>\n",
       "      <th>29</th>\n",
       "      <td>From Software</td>\n",
       "      <td>Eidos Interactive</td>\n",
       "    </tr>\n",
       "    <tr>\n",
       "      <th>30</th>\n",
       "      <td>Culture Brain</td>\n",
       "      <td>Microsoft Game Studios</td>\n",
       "    </tr>\n",
       "    <tr>\n",
       "      <th>31</th>\n",
       "      <td>Atlus Co.</td>\n",
       "      <td>505 Games</td>\n",
       "    </tr>\n",
       "    <tr>\n",
       "      <th>32</th>\n",
       "      <td>Tecmo</td>\n",
       "      <td>Hamster Corporation</td>\n",
       "    </tr>\n",
       "    <tr>\n",
       "      <th>33</th>\n",
       "      <td>Ubisoft Montreal</td>\n",
       "      <td>Interplay</td>\n",
       "    </tr>\n",
       "    <tr>\n",
       "      <th>34</th>\n",
       "      <td>Marvelous Interactive</td>\n",
       "      <td>DreamCatcher Interactive</td>\n",
       "    </tr>\n",
       "    <tr>\n",
       "      <th>35</th>\n",
       "      <td>Natsume</td>\n",
       "      <td>Disney Interactive Studios</td>\n",
       "    </tr>\n",
       "    <tr>\n",
       "      <th>36</th>\n",
       "      <td>Data East</td>\n",
       "      <td>Paradox Interactive</td>\n",
       "    </tr>\n",
       "    <tr>\n",
       "      <th>37</th>\n",
       "      <td>Jaleco Entertainment</td>\n",
       "      <td>SNK</td>\n",
       "    </tr>\n",
       "    <tr>\n",
       "      <th>38</th>\n",
       "      <td>EA Tiburon</td>\n",
       "      <td>Codemasters</td>\n",
       "    </tr>\n",
       "    <tr>\n",
       "      <th>39</th>\n",
       "      <td>IE Institute</td>\n",
       "      <td>NIS America</td>\n",
       "    </tr>\n",
       "    <tr>\n",
       "      <th>40</th>\n",
       "      <td>Intelligent Systems</td>\n",
       "      <td>Sunsoft</td>\n",
       "    </tr>\n",
       "    <tr>\n",
       "      <th>41</th>\n",
       "      <td>Takara</td>\n",
       "      <td>Tecmo Koei</td>\n",
       "    </tr>\n",
       "    <tr>\n",
       "      <th>42</th>\n",
       "      <td>MTO</td>\n",
       "      <td>Tecmo</td>\n",
       "    </tr>\n",
       "    <tr>\n",
       "      <th>43</th>\n",
       "      <td>Codemasters</td>\n",
       "      <td>Natsume</td>\n",
       "    </tr>\n",
       "    <tr>\n",
       "      <th>44</th>\n",
       "      <td>TBD</td>\n",
       "      <td>Jaleco</td>\n",
       "    </tr>\n",
       "    <tr>\n",
       "      <th>45</th>\n",
       "      <td>Irem Software Engineering</td>\n",
       "      <td>Aksys Games</td>\n",
       "    </tr>\n",
       "    <tr>\n",
       "      <th>46</th>\n",
       "      <td>Nihon Falcom Corporation</td>\n",
       "      <td>LucasArts</td>\n",
       "    </tr>\n",
       "    <tr>\n",
       "      <th>47</th>\n",
       "      <td>THQ</td>\n",
       "      <td>Infogrames</td>\n",
       "    </tr>\n",
       "    <tr>\n",
       "      <th>48</th>\n",
       "      <td>Level 5</td>\n",
       "      <td>Crave Entertainment</td>\n",
       "    </tr>\n",
       "    <tr>\n",
       "      <th>49</th>\n",
       "      <td>Digital Eclipse</td>\n",
       "      <td>Agetec</td>\n",
       "    </tr>\n",
       "  </tbody>\n",
       "</table>\n",
       "</div>"
      ],
      "text/plain": [
       "                    Develpers                   Publishers\n",
       "0                     Unknown                      Unknown\n",
       "1                      Konami                         Sega\n",
       "2                        Sega                    Microsoft\n",
       "3                      Capcom                       Konami\n",
       "4                       Namco                     Nintendo\n",
       "5                      Bandai  Sony Computer Entertainment\n",
       "6                 Hudson Soft                      Ubisoft\n",
       "7          Bandai Namco Games              Electronic Arts\n",
       "8                    Nintendo                   Activision\n",
       "9             SNK Corporation                       Capcom\n",
       "10                      Atari                        Atari\n",
       "11                Square Enix                       Bandai\n",
       "12                    Ubisoft                          THQ\n",
       "13          Taito Corporation                 Namco Bandai\n",
       "14               Idea Factory                 D3 Publisher\n",
       "15                       Koei                        Namco\n",
       "16         Namco Bandai Games                  Hudson Soft\n",
       "17                  Banpresto                  Square Enix\n",
       "18                 Activision                        Atlus\n",
       "19                  EA Canada           Namco Bandai Games\n",
       "20           Arc System Works                         KOEI\n",
       "21            Electronic Arts                 Idea Factory\n",
       "22       Nippon Ichi Software                    EA Sports\n",
       "23                Omega Force        Acclaim Entertainment\n",
       "24         SCEE London Studio                      Majesco\n",
       "25                    SunSoft         Sierra Entertainment\n",
       "26                    Success                 Midway Games\n",
       "27               Nintendo EAD                    Banpresto\n",
       "28                  Rare Ltd.                        Taito\n",
       "29              From Software            Eidos Interactive\n",
       "30              Culture Brain       Microsoft Game Studios\n",
       "31                  Atlus Co.                    505 Games\n",
       "32                      Tecmo          Hamster Corporation\n",
       "33           Ubisoft Montreal                    Interplay\n",
       "34      Marvelous Interactive     DreamCatcher Interactive\n",
       "35                    Natsume   Disney Interactive Studios\n",
       "36                  Data East          Paradox Interactive\n",
       "37       Jaleco Entertainment                          SNK\n",
       "38                 EA Tiburon                  Codemasters\n",
       "39               IE Institute                  NIS America\n",
       "40        Intelligent Systems                      Sunsoft\n",
       "41                     Takara                   Tecmo Koei\n",
       "42                        MTO                        Tecmo\n",
       "43                Codemasters                      Natsume\n",
       "44                        TBD                       Jaleco\n",
       "45  Irem Software Engineering                  Aksys Games\n",
       "46   Nihon Falcom Corporation                    LucasArts\n",
       "47                        THQ                   Infogrames\n",
       "48                    Level 5          Crave Entertainment\n",
       "49            Digital Eclipse                       Agetec"
      ]
     },
     "execution_count": 5,
     "metadata": {},
     "output_type": "execute_result"
    }
   ],
   "source": [
    "pd.DataFrame({'Develpers': top_dev,'Publishers': top_pub})"
   ]
  },
  {
   "cell_type": "markdown",
   "metadata": {},
   "source": [
    "#### Developers\n",
    "\n",
    "- There are several **Electronic Ars** studios with names 'EA \\****' > Transform into `Electronic Arts`.\n",
    "\n",
    "- **Nintendo**: idem > Transform into `Nintendo`.\n",
    "\n",
    "- **Ubisoft**: idem > Transform into `Ubisoft`.\n",
    "\n",
    "- **Konami**: idem > Transform into `Konami`.\n",
    "\n",
    "- **Sony**: has both developers containing `SCE` (Sony Computer Entertainment), `SIE` (Sony Interactive Entertainment) and `Sony` > Transform into `Sony Interactive Entertainment`.\n",
    "\n",
    "- There are several combinations of **Bandai** and **Namco**. Now they are **Bandai Namco** > Transform into `Bandai Namco`.\n",
    "\n",
    "- **Takara** & **Tomy**: idem > Transform into `Takara Tomy`.\n",
    "\n",
    "- **SquareSoft**, **Square** & **Enix** > Transform into `Square Enix`.\n",
    "\n",
    "\n",
    "#### Publishers\n",
    "\n",
    "- **Ubisoft**: same as in `Developers`.\n",
    "\n",
    "- **Bandai** & **Namco**: idem.\n",
    "\n",
    "- **Sony**: similar to what happened in `Developers`, but `SIE` doesn't affect.\n",
    "\n",
    "- **Square** & **Enix**: same as in `Developers`.\n",
    "\n",
    "- **Electronic Arts**: When looking for `EA`, only variants of `EA Sports` appear. > Unify them under `EA Sports`.\n",
    "\n",
    "- **Takara** & **Tomy**: same as in `Developers`.\n",
    "\n",
    "- **Microsoft Game Studios** > Transdform into`Microsoft`"
   ]
  },
  {
   "cell_type": "code",
   "execution_count": 6,
   "metadata": {},
   "outputs": [],
   "source": [
    "# Lists of redundant publishers\n",
    "\n",
    "pub_ubi = data.Publisher.value_counts().filter(like='Ubisoft').index.tolist()\n",
    "pub_bandai_namco = data.Publisher.value_counts().filter(like='Bandai').index.tolist() +\\\n",
    "                   data.Publisher.value_counts().filter(like='Namco').index.tolist()\n",
    "\n",
    "pub_sie = data.Publisher.value_counts().filter(like='Sony').index.tolist() +\\\n",
    "          data.Publisher.value_counts().filter(like='SCE').index.tolist()\n",
    "\n",
    "pub_square_e = data.Publisher.value_counts().filter(like='Square').index.tolist() +\\\n",
    "               data.Publisher.value_counts().filter(like='Enix').index.tolist()\n",
    "\n",
    "pub_ea_sports = data.Publisher.value_counts().filter(regex='^EA\\s').index.tolist()\n",
    "\n",
    "pub_t_tomy = data.Publisher.value_counts().filter(like='Takara').index.tolist() +\\\n",
    "             data.Publisher.value_counts().filter(like='Tomy').index.tolist()\n",
    "\n",
    "pub_ms = data.Publisher.value_counts().filter(like='Microsoft').index.tolist()\n",
    "\n",
    "\n",
    "# Dictionaries of redundant publishers with the correction as values\n",
    "\n",
    "pub_ubi = dict.fromkeys(pub_ubi, 'Ubisoft')\n",
    "pub_bandai_namco = dict.fromkeys(pub_bandai_namco, 'Bandai Namco')\n",
    "pub_sie = dict.fromkeys(pub_sie, 'Sony Interactive Entertainment')\n",
    "pub_square_e = dict.fromkeys(pub_square_e, 'Square Enix')\n",
    "pub_ea_sports = dict.fromkeys(pub_ea_sports, 'EA Sports')\n",
    "pub_t_tomy = dict.fromkeys(pub_t_tomy, 'Takara Tomy')\n",
    "pub_ms = dict.fromkeys(pub_ms, 'Microsoft')"
   ]
  },
  {
   "cell_type": "code",
   "execution_count": 7,
   "metadata": {},
   "outputs": [],
   "source": [
    "# Lists of redundant developers\n",
    "\n",
    "dev_electronic_arts = data.Developer.value_counts().filter(regex='^EA\\s').index.tolist()\n",
    "dev_nintendo = data.Developer.value_counts().filter(like='Nintendo').index.tolist()\n",
    "dev_ubi = data.Developer.value_counts().filter(like='Ubisoft').index.tolist()\n",
    "\n",
    "dev_bandai_namco = data.Developer.value_counts().filter(like='Bandai').index.tolist() +\\\n",
    "                   data.Developer.value_counts().filter(like='Namco').index.tolist()\n",
    "\n",
    "dev_konami = data.Developer.value_counts().filter(like='Konami').index.tolist()\n",
    "\n",
    "dev_t_tomy = data.Developer.value_counts().filter(like='Takara').index.tolist() +\\\n",
    "             data.Developer.value_counts().filter(like='Tomy').index.tolist()\n",
    "\n",
    "dev_sie = data.Developer.value_counts().filter(like='SCE').index.tolist() +\\\n",
    "          data.Developer.value_counts().filter(regex='^SIE\\s').index.tolist() +\\\n",
    "          data.Developer.value_counts().filter(like='Sony').index.tolist()\n",
    "\n",
    "dev_square_e = data.Developer.value_counts().filter(like='SquareSoft').index.tolist() +\\\n",
    "               data.Developer.value_counts().filter(regex='^Square\\s').index.tolist() +\\\n",
    "               data.Developer.value_counts().filter(like='Enix').index.tolist()\n",
    "\n",
    "# Dictionaries of redundant developers with the correction as values\n",
    "\n",
    "dev_electronic_arts = dict.fromkeys(dev_electronic_arts, 'Electronic Arts')\n",
    "dev_nintendo = dict.fromkeys(dev_nintendo, 'Nintendo')\n",
    "dev_ubi = dict.fromkeys(dev_ubi, 'Ubisoft')\n",
    "dev_bandai_namco = dict.fromkeys(dev_bandai_namco, 'Bandai Namco')\n",
    "dev_konami = dict.fromkeys(dev_konami, 'Konami')\n",
    "dev_t_tomy = dict.fromkeys(dev_t_tomy, 'Takara Tomy')\n",
    "dev_sie = dict.fromkeys(dev_sie, 'Sony Interactive Entertainment')\n",
    "dev_square_e = dict.fromkeys(dev_square_e, 'Square Enix')"
   ]
  },
  {
   "cell_type": "markdown",
   "metadata": {},
   "source": [
    "### 0.1.1. Functions"
   ]
  },
  {
   "cell_type": "code",
   "execution_count": 8,
   "metadata": {},
   "outputs": [],
   "source": [
    "# Functions we are going to use\n",
    "\n",
    "def merge_dicts(*dict_args):\n",
    "    \"\"\"\n",
    "    Given any number of dictionaries, merge them into a new dictionaty.\n",
    "    \"\"\"\n",
    "    result = {}\n",
    "    \n",
    "    for dictionary in dict_args:\n",
    "        result.update(dictionary)\n",
    "        \n",
    "    return result\n",
    "\n",
    "#------------------------------------------------------------------------------------------------------------------------------------------------------------------------------------------------\n",
    "\n",
    "def combine_redundant(x, **kwargs):\n",
    "    \n",
    "    '''\n",
    "    Combines redundant columns using a dictionary (for Developers and Publishers in this case).\n",
    "    '''\n",
    "    \n",
    "    a_dict = kwargs['kwargs']\n",
    "    result = x\n",
    "    value = a_dict.get(x)\n",
    "    \n",
    "    if value != None:      \n",
    "        result = value \n",
    "    \n",
    "    return result\n",
    "\n",
    "#------------------------------------------------------------------------------------------------------------------------------------------------------------------------------------------------\n",
    "\n",
    "def convert_other(x, top_vals, to_drop):\n",
    "    \n",
    "    '''\n",
    "    Converts non-top_vals values for x to 'Other'.\n",
    "    '''\n",
    "    \n",
    "    result = x\n",
    "    top_vals = top_vals.copy()\n",
    "    top_vals.remove(to_drop)\n",
    "    \n",
    "    if x not in top_vals:\n",
    "        result = 'Other'\n",
    "    \n",
    "    return result"
   ]
  },
  {
   "cell_type": "markdown",
   "metadata": {},
   "source": [
    "### 0.1.2. Merging Dictionaries & Value Transformation"
   ]
  },
  {
   "cell_type": "code",
   "execution_count": 9,
   "metadata": {},
   "outputs": [],
   "source": [
    "# Merging the different dictionaries into one single dictionary\n",
    "pubs = merge_dicts(pub_ubi, pub_bandai_namco, pub_sie,\n",
    "                   pub_square_e, pub_ea_sports, pub_t_tomy, pub_ms)\n",
    "\n",
    "devs = merge_dicts(dev_electronic_arts, dev_nintendo, dev_ubi, dev_bandai_namco,\n",
    "                   dev_konami, dev_t_tomy, dev_sie, dev_square_e)"
   ]
  },
  {
   "cell_type": "code",
   "execution_count": 10,
   "metadata": {},
   "outputs": [],
   "source": [
    "# Transforming redundant values\n",
    "\n",
    "data.Publisher = data.Publisher.apply(combine_redundant, kwargs=pubs)\n",
    "data.Developer = data.Developer.apply(combine_redundant, kwargs=devs)\n",
    "\n",
    "# We are going to use only the top 30 values of each category\n",
    "\n",
    "top_vals_pub = list(data.Publisher.value_counts()[:30].index)\n",
    "top_vals_dev = list(data.Developer.value_counts()[:30].index)\n",
    "\n",
    "#--------------------------------------------------------------------------------------------------\n",
    "\n",
    "data.Publisher = data.Publisher.apply(convert_other, top_vals = top_vals_pub, to_drop = 'Unknown')\n",
    "data.Developer = data.Developer.apply(convert_other, top_vals = top_vals_dev, to_drop = 'Unknown')"
   ]
  },
  {
   "cell_type": "markdown",
   "metadata": {},
   "source": [
    "### 0.1.3. Target Encoding Columns\n",
    "\n",
    "We are not dropping the original columns so that whenever we give them an input we can assign the correct encoded value."
   ]
  },
  {
   "cell_type": "code",
   "execution_count": 11,
   "metadata": {},
   "outputs": [],
   "source": [
    "from category_encoders import TargetEncoder\n",
    "\n",
    "te_pub = TargetEncoder()\n",
    "data['Publisher_enc'] = te_pub.fit_transform(data['Publisher'], data['Sales_total'])\n",
    "\n",
    "#-----------------------------------------------------------------------------------\n",
    "\n",
    "te_dev = TargetEncoder()\n",
    "data['Developer_enc'] = te_dev.fit_transform(data['Developer'], data['Sales_total'])"
   ]
  },
  {
   "cell_type": "code",
   "execution_count": 12,
   "metadata": {},
   "outputs": [
    {
     "data": {
      "text/html": [
       "<div>\n",
       "<style scoped>\n",
       "    .dataframe tbody tr th:only-of-type {\n",
       "        vertical-align: middle;\n",
       "    }\n",
       "\n",
       "    .dataframe tbody tr th {\n",
       "        vertical-align: top;\n",
       "    }\n",
       "\n",
       "    .dataframe thead th {\n",
       "        text-align: right;\n",
       "    }\n",
       "</style>\n",
       "<table border=\"1\" class=\"dataframe\">\n",
       "  <thead>\n",
       "    <tr style=\"text-align: right;\">\n",
       "      <th></th>\n",
       "      <th>Title</th>\n",
       "      <th>Publisher</th>\n",
       "      <th>Developer</th>\n",
       "      <th>Hit</th>\n",
       "      <th>Sales_total</th>\n",
       "      <th>Suggest_count</th>\n",
       "      <th>P_Microsoft</th>\n",
       "      <th>P_Nintendo</th>\n",
       "      <th>P_Other</th>\n",
       "      <th>P_PC</th>\n",
       "      <th>...</th>\n",
       "      <th>T_1st_Person</th>\n",
       "      <th>T_3rd_Person</th>\n",
       "      <th>T_Fantasy</th>\n",
       "      <th>T_Female_Protagonist</th>\n",
       "      <th>T_Hard</th>\n",
       "      <th>T_Pixel_Graphics</th>\n",
       "      <th>Release_Y</th>\n",
       "      <th>Release_M</th>\n",
       "      <th>Publisher_enc</th>\n",
       "      <th>Developer_enc</th>\n",
       "    </tr>\n",
       "  </thead>\n",
       "  <tbody>\n",
       "    <tr>\n",
       "      <th>0</th>\n",
       "      <td>\"Nuke It\"</td>\n",
       "      <td>Other</td>\n",
       "      <td>Other</td>\n",
       "      <td>0.0</td>\n",
       "      <td>0.060714</td>\n",
       "      <td>NaN</td>\n",
       "      <td>0</td>\n",
       "      <td>0</td>\n",
       "      <td>0</td>\n",
       "      <td>1</td>\n",
       "      <td>...</td>\n",
       "      <td>0</td>\n",
       "      <td>0</td>\n",
       "      <td>0</td>\n",
       "      <td>0</td>\n",
       "      <td>0</td>\n",
       "      <td>0</td>\n",
       "      <td>1998</td>\n",
       "      <td>1</td>\n",
       "      <td>0.313024</td>\n",
       "      <td>0.266744</td>\n",
       "    </tr>\n",
       "    <tr>\n",
       "      <th>1</th>\n",
       "      <td>#IDARB</td>\n",
       "      <td>Other</td>\n",
       "      <td>Other</td>\n",
       "      <td>0.0</td>\n",
       "      <td>0.085000</td>\n",
       "      <td>182.0</td>\n",
       "      <td>1</td>\n",
       "      <td>0</td>\n",
       "      <td>0</td>\n",
       "      <td>0</td>\n",
       "      <td>...</td>\n",
       "      <td>0</td>\n",
       "      <td>0</td>\n",
       "      <td>0</td>\n",
       "      <td>0</td>\n",
       "      <td>0</td>\n",
       "      <td>0</td>\n",
       "      <td>2015</td>\n",
       "      <td>1</td>\n",
       "      <td>0.313024</td>\n",
       "      <td>0.266744</td>\n",
       "    </tr>\n",
       "    <tr>\n",
       "      <th>2</th>\n",
       "      <td>#killallzombies</td>\n",
       "      <td>Other</td>\n",
       "      <td>Other</td>\n",
       "      <td>0.0</td>\n",
       "      <td>0.085000</td>\n",
       "      <td>NaN</td>\n",
       "      <td>0</td>\n",
       "      <td>0</td>\n",
       "      <td>0</td>\n",
       "      <td>0</td>\n",
       "      <td>...</td>\n",
       "      <td>0</td>\n",
       "      <td>0</td>\n",
       "      <td>0</td>\n",
       "      <td>0</td>\n",
       "      <td>0</td>\n",
       "      <td>0</td>\n",
       "      <td>2015</td>\n",
       "      <td>1</td>\n",
       "      <td>0.313024</td>\n",
       "      <td>0.266744</td>\n",
       "    </tr>\n",
       "    <tr>\n",
       "      <th>3</th>\n",
       "      <td>'70s Robot Anime: Geppy-X</td>\n",
       "      <td>Other</td>\n",
       "      <td>Other</td>\n",
       "      <td>0.0</td>\n",
       "      <td>0.060714</td>\n",
       "      <td>NaN</td>\n",
       "      <td>0</td>\n",
       "      <td>0</td>\n",
       "      <td>0</td>\n",
       "      <td>0</td>\n",
       "      <td>...</td>\n",
       "      <td>0</td>\n",
       "      <td>0</td>\n",
       "      <td>0</td>\n",
       "      <td>0</td>\n",
       "      <td>0</td>\n",
       "      <td>0</td>\n",
       "      <td>1999</td>\n",
       "      <td>5</td>\n",
       "      <td>0.313024</td>\n",
       "      <td>0.266744</td>\n",
       "    </tr>\n",
       "    <tr>\n",
       "      <th>4</th>\n",
       "      <td>'98 Koshien</td>\n",
       "      <td>Other</td>\n",
       "      <td>Other</td>\n",
       "      <td>0.0</td>\n",
       "      <td>0.146429</td>\n",
       "      <td>NaN</td>\n",
       "      <td>0</td>\n",
       "      <td>0</td>\n",
       "      <td>0</td>\n",
       "      <td>0</td>\n",
       "      <td>...</td>\n",
       "      <td>0</td>\n",
       "      <td>0</td>\n",
       "      <td>0</td>\n",
       "      <td>0</td>\n",
       "      <td>0</td>\n",
       "      <td>0</td>\n",
       "      <td>1998</td>\n",
       "      <td>6</td>\n",
       "      <td>0.313024</td>\n",
       "      <td>0.266744</td>\n",
       "    </tr>\n",
       "    <tr>\n",
       "      <th>...</th>\n",
       "      <td>...</td>\n",
       "      <td>...</td>\n",
       "      <td>...</td>\n",
       "      <td>...</td>\n",
       "      <td>...</td>\n",
       "      <td>...</td>\n",
       "      <td>...</td>\n",
       "      <td>...</td>\n",
       "      <td>...</td>\n",
       "      <td>...</td>\n",
       "      <td>...</td>\n",
       "      <td>...</td>\n",
       "      <td>...</td>\n",
       "      <td>...</td>\n",
       "      <td>...</td>\n",
       "      <td>...</td>\n",
       "      <td>...</td>\n",
       "      <td>...</td>\n",
       "      <td>...</td>\n",
       "      <td>...</td>\n",
       "      <td>...</td>\n",
       "    </tr>\n",
       "    <tr>\n",
       "      <th>37440</th>\n",
       "      <td>yOm</td>\n",
       "      <td>Microsoft</td>\n",
       "      <td>Other</td>\n",
       "      <td>0.0</td>\n",
       "      <td>0.060714</td>\n",
       "      <td>NaN</td>\n",
       "      <td>1</td>\n",
       "      <td>0</td>\n",
       "      <td>0</td>\n",
       "      <td>0</td>\n",
       "      <td>...</td>\n",
       "      <td>0</td>\n",
       "      <td>0</td>\n",
       "      <td>0</td>\n",
       "      <td>0</td>\n",
       "      <td>0</td>\n",
       "      <td>0</td>\n",
       "      <td>2009</td>\n",
       "      <td>10</td>\n",
       "      <td>0.132461</td>\n",
       "      <td>0.266744</td>\n",
       "    </tr>\n",
       "    <tr>\n",
       "      <th>37441</th>\n",
       "      <td>yOm_fury</td>\n",
       "      <td>Microsoft</td>\n",
       "      <td>Other</td>\n",
       "      <td>0.0</td>\n",
       "      <td>0.060714</td>\n",
       "      <td>NaN</td>\n",
       "      <td>1</td>\n",
       "      <td>0</td>\n",
       "      <td>0</td>\n",
       "      <td>0</td>\n",
       "      <td>...</td>\n",
       "      <td>0</td>\n",
       "      <td>0</td>\n",
       "      <td>0</td>\n",
       "      <td>0</td>\n",
       "      <td>0</td>\n",
       "      <td>0</td>\n",
       "      <td>2009</td>\n",
       "      <td>12</td>\n",
       "      <td>0.132461</td>\n",
       "      <td>0.266744</td>\n",
       "    </tr>\n",
       "    <tr>\n",
       "      <th>37442</th>\n",
       "      <td>¡Shin Chan Flipa en colores!</td>\n",
       "      <td>505 Games</td>\n",
       "      <td>Other</td>\n",
       "      <td>0.0</td>\n",
       "      <td>0.050000</td>\n",
       "      <td>NaN</td>\n",
       "      <td>0</td>\n",
       "      <td>1</td>\n",
       "      <td>0</td>\n",
       "      <td>0</td>\n",
       "      <td>...</td>\n",
       "      <td>0</td>\n",
       "      <td>0</td>\n",
       "      <td>0</td>\n",
       "      <td>0</td>\n",
       "      <td>0</td>\n",
       "      <td>0</td>\n",
       "      <td>2007</td>\n",
       "      <td>11</td>\n",
       "      <td>0.204492</td>\n",
       "      <td>0.266744</td>\n",
       "    </tr>\n",
       "    <tr>\n",
       "      <th>37443</th>\n",
       "      <td>じんるいのみなさまへ</td>\n",
       "      <td>Other</td>\n",
       "      <td>Nippon Ichi Software</td>\n",
       "      <td>0.0</td>\n",
       "      <td>0.546426</td>\n",
       "      <td>NaN</td>\n",
       "      <td>0</td>\n",
       "      <td>1</td>\n",
       "      <td>0</td>\n",
       "      <td>0</td>\n",
       "      <td>...</td>\n",
       "      <td>0</td>\n",
       "      <td>0</td>\n",
       "      <td>0</td>\n",
       "      <td>0</td>\n",
       "      <td>0</td>\n",
       "      <td>0</td>\n",
       "      <td>0</td>\n",
       "      <td>0</td>\n",
       "      <td>0.313024</td>\n",
       "      <td>0.123779</td>\n",
       "    </tr>\n",
       "    <tr>\n",
       "      <th>37444</th>\n",
       "      <td>レミロア~少女と異世界と魔導書</td>\n",
       "      <td>Other</td>\n",
       "      <td>Other</td>\n",
       "      <td>0.0</td>\n",
       "      <td>0.546426</td>\n",
       "      <td>NaN</td>\n",
       "      <td>0</td>\n",
       "      <td>1</td>\n",
       "      <td>0</td>\n",
       "      <td>0</td>\n",
       "      <td>...</td>\n",
       "      <td>0</td>\n",
       "      <td>0</td>\n",
       "      <td>0</td>\n",
       "      <td>0</td>\n",
       "      <td>0</td>\n",
       "      <td>0</td>\n",
       "      <td>0</td>\n",
       "      <td>0</td>\n",
       "      <td>0.313024</td>\n",
       "      <td>0.266744</td>\n",
       "    </tr>\n",
       "  </tbody>\n",
       "</table>\n",
       "<p>37445 rows × 76 columns</p>\n",
       "</div>"
      ],
      "text/plain": [
       "                              Title  Publisher             Developer  Hit  \\\n",
       "0                         \"Nuke It\"      Other                 Other  0.0   \n",
       "1                            #IDARB      Other                 Other  0.0   \n",
       "2                   #killallzombies      Other                 Other  0.0   \n",
       "3         '70s Robot Anime: Geppy-X      Other                 Other  0.0   \n",
       "4                       '98 Koshien      Other                 Other  0.0   \n",
       "...                             ...        ...                   ...  ...   \n",
       "37440                           yOm  Microsoft                 Other  0.0   \n",
       "37441                      yOm_fury  Microsoft                 Other  0.0   \n",
       "37442  ¡Shin Chan Flipa en colores!  505 Games                 Other  0.0   \n",
       "37443                    じんるいのみなさまへ      Other  Nippon Ichi Software  0.0   \n",
       "37444               レミロア~少女と異世界と魔導書      Other                 Other  0.0   \n",
       "\n",
       "       Sales_total  Suggest_count  P_Microsoft  P_Nintendo  P_Other  P_PC  \\\n",
       "0         0.060714            NaN            0           0        0     1   \n",
       "1         0.085000          182.0            1           0        0     0   \n",
       "2         0.085000            NaN            0           0        0     0   \n",
       "3         0.060714            NaN            0           0        0     0   \n",
       "4         0.146429            NaN            0           0        0     0   \n",
       "...            ...            ...          ...         ...      ...   ...   \n",
       "37440     0.060714            NaN            1           0        0     0   \n",
       "37441     0.060714            NaN            1           0        0     0   \n",
       "37442     0.050000            NaN            0           1        0     0   \n",
       "37443     0.546426            NaN            0           1        0     0   \n",
       "37444     0.546426            NaN            0           1        0     0   \n",
       "\n",
       "       ...  T_1st_Person  T_3rd_Person  T_Fantasy  T_Female_Protagonist  \\\n",
       "0      ...             0             0          0                     0   \n",
       "1      ...             0             0          0                     0   \n",
       "2      ...             0             0          0                     0   \n",
       "3      ...             0             0          0                     0   \n",
       "4      ...             0             0          0                     0   \n",
       "...    ...           ...           ...        ...                   ...   \n",
       "37440  ...             0             0          0                     0   \n",
       "37441  ...             0             0          0                     0   \n",
       "37442  ...             0             0          0                     0   \n",
       "37443  ...             0             0          0                     0   \n",
       "37444  ...             0             0          0                     0   \n",
       "\n",
       "       T_Hard  T_Pixel_Graphics  Release_Y  Release_M  Publisher_enc  \\\n",
       "0           0                 0       1998          1       0.313024   \n",
       "1           0                 0       2015          1       0.313024   \n",
       "2           0                 0       2015          1       0.313024   \n",
       "3           0                 0       1999          5       0.313024   \n",
       "4           0                 0       1998          6       0.313024   \n",
       "...       ...               ...        ...        ...            ...   \n",
       "37440       0                 0       2009         10       0.132461   \n",
       "37441       0                 0       2009         12       0.132461   \n",
       "37442       0                 0       2007         11       0.204492   \n",
       "37443       0                 0          0          0       0.313024   \n",
       "37444       0                 0          0          0       0.313024   \n",
       "\n",
       "       Developer_enc  \n",
       "0           0.266744  \n",
       "1           0.266744  \n",
       "2           0.266744  \n",
       "3           0.266744  \n",
       "4           0.266744  \n",
       "...              ...  \n",
       "37440       0.266744  \n",
       "37441       0.266744  \n",
       "37442       0.266744  \n",
       "37443       0.123779  \n",
       "37444       0.266744  \n",
       "\n",
       "[37445 rows x 76 columns]"
      ]
     },
     "execution_count": 12,
     "metadata": {},
     "output_type": "execute_result"
    }
   ],
   "source": [
    "data"
   ]
  },
  {
   "cell_type": "markdown",
   "metadata": {},
   "source": [
    "---\n",
    "## 0.2. Missing Values\n",
    "\n",
    "Let's see what to do with the NaN values.\n",
    "\n",
    "### 0.2.1. Filling Strategy for Missing Values\n",
    "\n",
    "Missing values found in: `Suggestion_count`, `C_Score` and `U_Score` columns.\n",
    "\n",
    "We could do the following with the missing values:\n",
    "\n",
    "- First, separate the dataframe into 2 dataframes. One has `Sales_total` > 0 and the other, the rest.\n",
    "\n",
    "    - We want to do this as 2/3 of the dataframe has sales <= 0, which drags the different quantiles near 0.\n",
    "    - And we want relevant information in games having sales > 0.\n",
    "    - We can assign 0 to missing values where sales <= 0.\n",
    "    \n",
    "\n",
    "- We will fill `NaN`s with 0 in the dataframe with sales <= 0.\n",
    "\n",
    "- We then perform the next transformation to the dataframe with sales > 0, filling NaNs as follows:\n",
    "\n",
    "    - 10 <= `Sales_total` ---> `Suggest_count`/ `C_Score`/ `U_Score` => Max\n",
    "\n",
    "    - Quantile 75 <= `Sales_total` < 10 ---> `Suggest_count`/ `C_Score`/ `U_Score` => Quantile 75\n",
    "\n",
    "    - Median <= `Sales_total` < Quantile 75 ---> `Suggest_count`/ `C_Score`/ `U_Score` => Quantile 50\n",
    "\n",
    "    - Quantile 25 <= `Sales_total` < Median ---> `Suggest_count`/ `C_Score`/ `U_Score` => Quantile 25\n",
    "\n",
    "    - 0 <= `Sales_total` < Quantile 25 ---> `Suggest_count`/ `C_Score`/ `U_Score` => Min"
   ]
  },
  {
   "cell_type": "markdown",
   "metadata": {},
   "source": [
    "### 0.2.1.1. Splitting the Dataframe"
   ]
  },
  {
   "cell_type": "code",
   "execution_count": 13,
   "metadata": {},
   "outputs": [],
   "source": [
    "zero_sales = data.index[data['Sales_total'] <= 0].tolist()\n",
    "non_zero_sales = data.index[data['Sales_total'] > 0].tolist()\n",
    "\n",
    "data_non_zero = data.drop(index = zero_sales)\n",
    "data_zero = data.drop(index = non_zero_sales).fillna(0)"
   ]
  },
  {
   "cell_type": "markdown",
   "metadata": {},
   "source": [
    "### 0.2.1.2. Functions"
   ]
  },
  {
   "cell_type": "code",
   "execution_count": 14,
   "metadata": {},
   "outputs": [],
   "source": [
    "def binner(x, lim_1, lim_2, lim_3, val_bin1, val_bin2, val_bin3, val_bin4, val_bin5, lim_min = 0, lim_max = 10):\n",
    "    \n",
    "    '''\n",
    "    Given a numeric value x and a series of numeric values, it will return another numeric value depending on in which of the 5 bins x it falls.\n",
    "    \n",
    "    x: Value we want to put into a bin.\n",
    "    -----------------------------------------------------------\n",
    "    lim_min: Lowest limit of the bins (default = 0).\n",
    "    lim_1: First limit of the bins.\n",
    "    lim_2: Second limit of the bins.\n",
    "    lim_3: Third limit of the bins.\n",
    "    lim_max: Biggest limit of the bins (default = 10).\n",
    "    -----------------------------------------------------------\n",
    "    val_bin1: Value returned when x falls in the 1st bin.\n",
    "    val_bin2: Value returned when x falls in the 2nd bin.\n",
    "    val_bin3: Value returned when x falls in the 3rd bin.\n",
    "    val_bin4: Value returned when x falls in the 4th bin.\n",
    "    val_bin5: Value returned when x falls in the 5th bin.\n",
    "    '''\n",
    "    \n",
    "    if lim_min < x < lim_1:\n",
    "        result = val_bin1\n",
    "        \n",
    "    elif lim_1 <= x < lim_2:\n",
    "        result = val_bin2\n",
    "        \n",
    "    elif lim_2 <= x < lim_3:\n",
    "        result = val_bin3\n",
    "        \n",
    "    elif lim_3 <= x < lim_max:\n",
    "        result = val_bin4\n",
    "    \n",
    "    elif 10 <= x:\n",
    "        result = val_bin5\n",
    "    \n",
    "    return result\n",
    "\n",
    "#---------------------------------------------------------------------------------------------------------------------------------------------------------------------------------\n",
    "\n",
    "def fillna_col(df, col):\n",
    "    \n",
    "    '''\n",
    "    Given a pd.DataFrame() and a column of interest, returns the same pd.DataFrame() object, which column of interest contains numeric values only on rows where there was a NaN.\n",
    "    Calls the binner() function to decide what numeric values shoud go as output.\n",
    "    \n",
    "    df: The dataframe object we want to work with.\n",
    "    col: A string with the name of the column of interest.\n",
    "    '''\n",
    "    \n",
    "    sales_q25 = df.Sales_total.quantile(0.25)\n",
    "    sales_med = df.Sales_total.median()\n",
    "    sales_q75 = df.Sales_total.quantile(0.75)\n",
    "    \n",
    "    col_min = df[col].min()\n",
    "    col_q25 = df[col].quantile(0.25)\n",
    "    col_med = df[col].median()\n",
    "    col_q75 = df[col].quantile(0.75)\n",
    "    col_max = df[col].max()\n",
    "    \n",
    "    aux_df_out = df.Sales_total.apply(binner, args = (sales_q25, sales_med, sales_q75, col_min, col_q25, col_med, col_q75, col_max))\n",
    "    aux_df_filter = df.Suggest_count.isna()\n",
    "    \n",
    "    output = aux_df_out * aux_df_filter # We filter out the values where there is already a non-NaN value\n",
    "    \n",
    "    df[col] = output + df[col].fillna(0) # fillna(0) to convert NaNs to 0 so that we can perform the addition\n",
    "    \n",
    "    return df"
   ]
  },
  {
   "cell_type": "markdown",
   "metadata": {},
   "source": [
    "### 0.2.1.3. Apllying Transformation\n",
    "\n",
    "We will merge both dataframes to recover the original dataframe."
   ]
  },
  {
   "cell_type": "code",
   "execution_count": 15,
   "metadata": {},
   "outputs": [],
   "source": [
    "data_non_zero = fillna_col(data_non_zero, 'Suggest_count')\n",
    "data_non_zero = fillna_col(data_non_zero, 'C_Score')\n",
    "data_non_zero = fillna_col(data_non_zero, 'U_Score')\n",
    "\n",
    "data = pd.concat([data_non_zero, data_zero]).fillna(0)"
   ]
  },
  {
   "cell_type": "markdown",
   "metadata": {},
   "source": [
    "### 0.2.2. Train Test Split\n",
    "\n",
    "We separate the dataframe into 2 dataframes, one containing the independent variables (features) and the other with the dependent variables (target)\n",
    "\n",
    "We have to train test split before doing the feature selection to prevent information leakage from the test set if done after."
   ]
  },
  {
   "cell_type": "code",
   "execution_count": 16,
   "metadata": {},
   "outputs": [],
   "source": [
    "features = data[data.columns[5:]].copy()\n",
    "target = data[['Hit', 'Sales_total']].copy()\n",
    "\n",
    "# Train Test Split\n",
    "x_train, x_test, y_train, y_test = train_test_split(features, target, train_size = 0.5, random_state=27)"
   ]
  },
  {
   "cell_type": "markdown",
   "metadata": {},
   "source": [
    "---\n",
    "# 1. Feature Selection\n",
    "\n",
    "We are going to check the correlation between the features to see which features should be removed."
   ]
  },
  {
   "cell_type": "code",
   "execution_count": 17,
   "metadata": {},
   "outputs": [
    {
     "data": {
      "image/png": "[encoded data removed]",
      "text/plain": [
       "<Figure size 864x720 with 2 Axes>"
      ]
     },
     "metadata": {
      "needs_background": "light"
     },
     "output_type": "display_data"
    }
   ],
   "source": [
    "plt.figure(figsize = (12,10))\n",
    "\n",
    "corr = x_train.corr()\n",
    "sns.heatmap(corr, cmap = plt.cm.CMRmap_r)\n",
    "plt.show()"
   ]
  },
  {
   "cell_type": "markdown",
   "metadata": {},
   "source": [
    "## 1.1. Checking Highly Correlated Values\n",
    "\n",
    "Let's check which columns have correlation greater than 0.8 an to which column/s.\n",
    "\n",
    "### 1.1.1. Functions\n",
    "\n",
    "We are going to create a function to look for features getting a correlation greater than a threshold we define.\n",
    "\n",
    "We can also take negatively correlated values by doing the absolute value of the correlation."
   ]
  },
  {
   "cell_type": "code",
   "execution_count": 18,
   "metadata": {},
   "outputs": [],
   "source": [
    "def correlation(dataset, threshold, neg_corr_important = False):\n",
    "    \n",
    "    '''\n",
    "    Given a dataset and a threshold, returns the column names for those scoring a correlation greater than the threshold.\n",
    "    If neg_corr_important is set to True, it will return the absolute value of the correlations, thus taking high negative correlations into account.\n",
    "    \n",
    "    dataset: A pd.DataFrame() object.\n",
    "    threshold: The value we want the threshold to be\n",
    "    '''\n",
    "    \n",
    "    col_corr = [] # Set of all the names of correlated columns\n",
    "    corr_matrix = dataset.corr()\n",
    "    \n",
    "    for i in range(len(corr_matrix.columns)):\n",
    "        \n",
    "        for j in range(i):\n",
    "            \n",
    "            if neg_corr_important == False:\n",
    "            \n",
    "                if corr_matrix.iloc[i, j] > threshold:\n",
    "                    colname = corr_matrix.columns[i] # Getting the name of column\n",
    "                    col_corr.append(colname)\n",
    "                    \n",
    "            else:\n",
    "                \n",
    "                if abs(corr_matrix.iloc[i, j]) > threshold: # We are interested in absolute coeff value\n",
    "                    colname = corr_matrix.columns[i] # Getting the name of column\n",
    "                    col_corr.append(colname)\n",
    "        \n",
    "    return col_corr"
   ]
  },
  {
   "cell_type": "code",
   "execution_count": 19,
   "metadata": {},
   "outputs": [
    {
     "data": {
      "text/plain": [
       "['U_Score', 'G_Other', 'T_Singleplayer']"
      ]
     },
     "execution_count": 19,
     "metadata": {},
     "output_type": "execute_result"
    }
   ],
   "source": [
    "correlation(x_train, 0.8)"
   ]
  },
  {
   "cell_type": "code",
   "execution_count": 20,
   "metadata": {},
   "outputs": [
    {
     "data": {
      "text/plain": [
       "C_Score    0.841045\n",
       "U_Score    1.000000\n",
       "Name: U_Score, dtype: float64"
      ]
     },
     "execution_count": 20,
     "metadata": {},
     "output_type": "execute_result"
    }
   ],
   "source": [
    "corr[corr['U_Score'] > 0.8].U_Score"
   ]
  },
  {
   "cell_type": "code",
   "execution_count": 21,
   "metadata": {},
   "outputs": [
    {
     "data": {
      "text/plain": [
       "S_Steam           0.819019\n",
       "T_Singleplayer    1.000000\n",
       "Name: T_Singleplayer, dtype: float64"
      ]
     },
     "execution_count": 21,
     "metadata": {},
     "output_type": "execute_result"
    }
   ],
   "source": [
    "corr[corr['T_Singleplayer'] > 0.8].T_Singleplayer"
   ]
  },
  {
   "cell_type": "markdown",
   "metadata": {},
   "source": [
    "- We can see that `U_Score` and `C_Score` are highly correlated. This is understandable as in an ideal case, both scores should be similar.\n",
    "\n",
    "    - To tackle this particular problem, we can combine these columns into a new one, with the mean of them as the new value.\n",
    "    \n",
    "    - If one of the values are 0, wo will only sum the columns.\n",
    "\n",
    "- `T_Singleplayer` is highly correlated with `S_Steam`.\n",
    "\n",
    "    - To solve this, we should consider to remove either of them.\n",
    "    \n",
    "    - We are going to choose removing `S_Steam` as we could also consider removing the entire `S_` columns, as `S_Steam` was one of the main reasons to keep them (to know if a PC game was available on Steam).\n",
    "    \n",
    "    - Also because **Singleplayer** is much more wider than `S_Steam`."
   ]
  },
  {
   "cell_type": "markdown",
   "metadata": {},
   "source": [
    "## 1.2. Feature Removal/ Combination\n",
    "\n",
    "We proceed to apply the abovementioned changes:"
   ]
  },
  {
   "cell_type": "markdown",
   "metadata": {},
   "source": [
    "### 1.2.1. Functions"
   ]
  },
  {
   "cell_type": "code",
   "execution_count": 22,
   "metadata": {},
   "outputs": [],
   "source": [
    "# This function is to combine C_Score and U_Score\n",
    "\n",
    "def score_mean(c_score_col, u_score_col):\n",
    "    \n",
    "    '''\n",
    "    Given 2 score columns from a dataframe, returns a column with the mean of them if none of them contained a 0.\n",
    "    It will return the sum of the elements in the other case instead.\n",
    "    \n",
    "    c_score_col: The C_Score column from the dataframe.\n",
    "    u_score_col: The U_Score column from the dataframe.\n",
    "    '''\n",
    "    \n",
    "    c = (c_score_col > 0).astype(int)\n",
    "    u = (u_score_col > 0).astype(int)\n",
    "    \n",
    "    denom = (c + u).replace(0,1) # If one column has no value in it, we won't do the mean.\n",
    "    \n",
    "    scores = (c_score_col + u_score_col) / denom\n",
    "    \n",
    "    return scores"
   ]
  },
  {
   "cell_type": "markdown",
   "metadata": {},
   "source": [
    "### 1.2.2. Combining & Removing Features"
   ]
  },
  {
   "cell_type": "code",
   "execution_count": 23,
   "metadata": {},
   "outputs": [],
   "source": [
    "# Combinig and removing, part 1\n",
    "\n",
    "data['Scores'] = score_mean(data['C_Score'], data['U_Score'])\n",
    "data = data.drop(['C_Score', 'U_Score', 'S_Epic_Games', 'S_GOG', 'S_Nintendo_Store', 'S_PlayStation_Store',\n",
    "                  'S_Xbox_360_Store', 'S_Xbox_Store', 'S_itch.io', 'S_Steam'], axis = 1)"
   ]
  },
  {
   "cell_type": "markdown",
   "metadata": {},
   "source": [
    "Now that we no longer have highly correlated features, we are good to continue to the next step. However, let's check the features in case we can reduce them by combining them or removing them.\n",
    "\n",
    "We can start by checking other relatively high correlated features:"
   ]
  },
  {
   "cell_type": "code",
   "execution_count": 24,
   "metadata": {},
   "outputs": [],
   "source": [
    "# We do this again so that the recently combined/removed columns don't appear.\n",
    "\n",
    "features = data[data.columns[5:]].copy()\n",
    "target = data[['Hit', 'Sales_total']].copy()\n",
    "\n",
    "x_train, x_test, y_train, y_test = train_test_split(features, target, train_size = 0.5, random_state=27)\n",
    "corr = x_train.corr()"
   ]
  },
  {
   "cell_type": "code",
   "execution_count": 25,
   "metadata": {},
   "outputs": [
    {
     "data": {
      "text/plain": [
       "['G_Other']"
      ]
     },
     "execution_count": 25,
     "metadata": {},
     "output_type": "execute_result"
    }
   ],
   "source": [
    "correlation(x_train, 0.70)"
   ]
  },
  {
   "cell_type": "code",
   "execution_count": 26,
   "metadata": {},
   "outputs": [
    {
     "data": {
      "text/plain": [
       "U_Mixed    1.0\n",
       "Name: U_Mixed, dtype: float64"
      ]
     },
     "execution_count": 26,
     "metadata": {},
     "output_type": "execute_result"
    }
   ],
   "source": [
    "corr[corr['U_Mixed'] > 0.7].U_Mixed"
   ]
  },
  {
   "cell_type": "code",
   "execution_count": 27,
   "metadata": {},
   "outputs": [
    {
     "data": {
      "text/plain": [
       "U_Negative    1.0\n",
       "Name: U_Negative, dtype: float64"
      ]
     },
     "execution_count": 27,
     "metadata": {},
     "output_type": "execute_result"
    }
   ],
   "source": [
    "corr[corr['U_Negative'] > 0.7].U_Negative"
   ]
  },
  {
   "cell_type": "markdown",
   "metadata": {},
   "source": [
    "We can see that `U_Mixed` has a relatively high correlation to and `U_Negative`.\n",
    "\n",
    "What we could do here is the following:\n",
    "\n",
    "- Remove both `U_Mixed` and `C_Mixed`, as there is no point in keeping one if we are removing the other.\n",
    "\n",
    "- Combine `U_Positive` and `C_Positive` to get the total positives.\n",
    "\n",
    "- In the same way, combine `U_Negative` and `C_Negative`."
   ]
  },
  {
   "cell_type": "code",
   "execution_count": 28,
   "metadata": {},
   "outputs": [],
   "source": [
    "# Combining and removing, part 2\n",
    "\n",
    "data['Positives'] = data['C_Positive'] + data['U_Positive']\n",
    "data['Negatives'] = data['C_Negative'] + data['U_Negative']\n",
    "data = data.drop(['C_Mixed', 'U_Mixed', 'C_Positive', 'U_Positive', 'C_Negative', 'U_Negative'], axis = 1)"
   ]
  },
  {
   "cell_type": "markdown",
   "metadata": {},
   "source": [
    "Let's check that the new columns are not highly correlated to each other:"
   ]
  },
  {
   "cell_type": "code",
   "execution_count": 29,
   "metadata": {},
   "outputs": [
    {
     "data": {
      "text/plain": [
       "['G_Other']"
      ]
     },
     "execution_count": 29,
     "metadata": {},
     "output_type": "execute_result"
    }
   ],
   "source": [
    "features = data[data.columns[5:]].copy()\n",
    "target = data[['Hit', 'Sales_total']].copy()\n",
    "\n",
    "x_train, x_test, y_train, y_test = train_test_split(features, target, train_size = 0.5, random_state=27)\n",
    "corr = x_train.corr()\n",
    "\n",
    "correlation(x_train, 0.8)"
   ]
  },
  {
   "cell_type": "markdown",
   "metadata": {},
   "source": [
    "Let's check if we see other columns to combine:"
   ]
  },
  {
   "cell_type": "code",
   "execution_count": 30,
   "metadata": {},
   "outputs": [
    {
     "data": {
      "text/plain": [
       "Index(['Title', 'Publisher', 'Developer', 'Hit', 'Sales_total',\n",
       "       'Suggest_count', 'P_Microsoft', 'P_Nintendo', 'P_Other', 'P_PC',\n",
       "       'P_Sony', 'G_Action', 'G_Adventure', 'G_Arcade', 'G_Board_Games',\n",
       "       'G_Card', 'G_Casual', 'G_Educational', 'G_Family', 'G_Fighting',\n",
       "       'G_Indie', 'G_Massively_Multiplayer', 'G_Platformer', 'G_Puzzle',\n",
       "       'G_RPG', 'G_Racing', 'G_Shooter', 'G_Simulation', 'G_Sports',\n",
       "       'G_Strategy', 'G_Other', 'ESRB_All', 'ESRB_10+', 'ESRB_Teen',\n",
       "       'ESRB_17+', 'ESRB_18+', 'T_Singleplayer', 'T_Multiplayer', 'T_Co_Op',\n",
       "       'T_Online', 'T_Great_OST', 'T_Atmospheric', 'T_Violent', 'T_Story_Rich',\n",
       "       'T_2D', 'T_Funny', 'T_Horror', 'T_Retro', 'T_Sci_fi', 'T_Open_World',\n",
       "       'T_1st_Person', 'T_3rd_Person', 'T_Fantasy', 'T_Female_Protagonist',\n",
       "       'T_Hard', 'T_Pixel_Graphics', 'Release_Y', 'Release_M', 'Publisher_enc',\n",
       "       'Developer_enc', 'Scores', 'Positives', 'Negatives'],\n",
       "      dtype='object')"
      ]
     },
     "execution_count": 30,
     "metadata": {},
     "output_type": "execute_result"
    }
   ],
   "source": [
    "data.columns"
   ]
  },
  {
   "cell_type": "markdown",
   "metadata": {},
   "source": [
    "We could unify `G_Educational`, `G_Board_Games` and `G_Card` under the `G_Other` column, as they are usually a minor genre group.\n",
    "\n",
    "To do that, we would sum the 4 columns and convert any value > 1 to 1."
   ]
  },
  {
   "cell_type": "code",
   "execution_count": 31,
   "metadata": {},
   "outputs": [],
   "source": [
    "data['G_Other'] = data[['G_Other','G_Educational', 'G_Board_Games', 'G_Card']].sum(axis = 1)\\\n",
    "                                                                    .apply(lambda x: 1 if x >= 1 else 0)\n",
    "\n",
    "data = data.drop(['G_Educational', 'G_Board_Games', 'G_Card'], axis = 1)"
   ]
  },
  {
   "cell_type": "markdown",
   "metadata": {},
   "source": [
    "Let's check for correlations again."
   ]
  },
  {
   "cell_type": "code",
   "execution_count": 32,
   "metadata": {},
   "outputs": [
    {
     "data": {
      "text/plain": [
       "['G_Other']"
      ]
     },
     "execution_count": 32,
     "metadata": {},
     "output_type": "execute_result"
    }
   ],
   "source": [
    "features = data[data.columns[5:]].copy()\n",
    "target = data[['Hit', 'Sales_total']].copy()\n",
    "\n",
    "x_train, x_test, y_train, y_test = train_test_split(features, target, train_size = 0.5, random_state=27)\n",
    "corr = x_train.corr()\n",
    "\n",
    "correlation(x_train, 0.8)"
   ]
  },
  {
   "cell_type": "markdown",
   "metadata": {},
   "source": [
    "No columns above the threshold, thus we can continue with the next step after saving the dataset into a `.csv` file to use in the next notebook.\n",
    "\n",
    "The following steps will be ML algorithms testing and hyperparameter optimization (very time-consuming) and they do not modify the dataset, thus the saving now."
   ]
  },
  {
   "cell_type": "code",
   "execution_count": 33,
   "metadata": {},
   "outputs": [],
   "source": [
    "data.to_csv(\"Files/06_prepared_for_ml.csv\", encoding='utf-8', index=False)"
   ]
  },
  {
   "cell_type": "markdown",
   "metadata": {},
   "source": [
    "---\n",
    "# 2. Testing ML Algorithms - Cross Validation\n",
    "\n",
    "We are going to test and try different ML algorithms to decide wich one we are going to use (one for regression and one for classification).\n",
    "\n",
    "To evaluate how good every model is, we are going to use K-Fold Cross Validation and a variety of metrics.\n",
    "\n",
    "### 2.0.1. Functions"
   ]
  },
  {
   "cell_type": "code",
   "execution_count": 34,
   "metadata": {},
   "outputs": [],
   "source": [
    "def evaluate(model, x_train, x_test, y_train, y_test, X, Y, classification = True, k = 5):\n",
    "    \n",
    "    '''\n",
    "    Given an estimator and the dataset to train the estimator on, it makes a fit of the model on the data, calculates metrics for the prediction and also a K-Fold cross validation on them.\n",
    "    \n",
    "    model: The estimator/ model we want to fit on the data.\n",
    "    x_train: The train partitioned features dataset.\n",
    "    x_test: The test partitioned features dataset.\n",
    "    y_train: The train partitioned target dataset.\n",
    "    y_test: The test partitioned target dataset.\n",
    "    X: The full features dataset.\n",
    "    Y: The full target dataset.\n",
    "    classification: Whether the problem to solve is classification or regression. (Default = True)\n",
    "    k: The k of K-Fold cross validation. How many folds we want. (Default = 5)\n",
    "    '''\n",
    "\n",
    "    model.fit(x_train, y_train)\n",
    "    y_hat = model.predict(x_test)\n",
    "    \n",
    "    if classification:\n",
    "        \n",
    "        acc = accuracy_score(y_test, y_hat)\n",
    "        prec = precision_score(y_test, y_hat)\n",
    "        rec = recall_score(y_test, y_hat)\n",
    "        f1 = f1_score(y_test, y_hat)\n",
    "        auc = roc_auc_score(y_test, y_hat)\n",
    "        confusion = confusion_matrix(y_test, y_hat)\n",
    "\n",
    "        # K-Fold Cross Validation\n",
    "\n",
    "        acc_cv = cross_val_score(model, X, Y, cv = k, scoring = 'accuracy')\n",
    "        prec_cv = cross_val_score(model, X, Y, cv = k, scoring = 'precision')\n",
    "        rec_cv = cross_val_score(model, X, Y, cv = k, scoring = 'recall') \n",
    "        f1_cv = cross_val_score(model, X, Y, cv = k, scoring = 'f1') \n",
    "        auc_cv = cross_val_score(model, X, Y, cv = k, scoring = 'roc_auc') \n",
    "\n",
    "        print('========================================================================')\n",
    "        print(type(model).__name__)\n",
    "        print('========================================================================')\n",
    "        print('    Accuracy : %f   |  CV : %f (avg) [%f, %f]' % (acc, np.mean(acc_cv), min(acc_cv), max(acc_cv)))\n",
    "        print('   Precision : %f   |  CV : %f (avg) [%f, %f]' % (prec, np.mean(prec_cv), min(prec_cv), max(prec_cv)))\n",
    "        print('      Recall : %f   |  CV : %f (avg) [%f, %f]' % (rec, np.mean(rec_cv), min(rec_cv), max(rec_cv))) \n",
    "        print('    F1 Score : %f   |  CV : %f (avg) [%f, %f]' % (f1, np.mean(f1_cv), min(f1_cv), max(f1_cv)))      \n",
    "        print('     ROC AUC : %f   |  CV : %f (avg) [%f, %f] \\n' % (auc, np.mean(auc_cv), min(auc_cv), max(auc_cv))) \n",
    "        print(confusion) \n",
    "    \n",
    "    \n",
    "    # Regression\n",
    "    \n",
    "    else:\n",
    "        \n",
    "        mse = mean_squared_error(y_test, y_hat)\n",
    "        rmse = mean_squared_error(y_test, y_hat, squared = False)\n",
    "        mae = mean_absolute_error(y_test, y_hat)\n",
    "        mape = np.mean(np.abs(y_test - y_hat) / y_hat)\n",
    "        r2 = r2_score(y_test, y_hat)\n",
    "        ev = explained_variance_score(y_test, y_hat)\n",
    "\n",
    "        # K-Fold Cross Validation\n",
    "\n",
    "        mse_cv = cross_val_score(model, X, Y, cv = k, scoring = 'neg_mean_squared_error') # Values are inverted!\n",
    "        rmse_cv = cross_val_score(model, X, Y, cv = k, scoring = 'neg_root_mean_squared_error') # Values are inverted!\n",
    "        mae_cv = cross_val_score(model, X, Y, cv = k, scoring = 'neg_mean_absolute_error') # Values are inverted!\n",
    "        r2_cv = cross_val_score(model, X, Y, cv = k, scoring = 'r2')\n",
    "        ev_cv = cross_val_score(model, X, Y, cv = k, scoring = 'explained_variance')\n",
    "\n",
    "        print('=================================================================')\n",
    "        print(type(model).__name__)\n",
    "        print('=================================================================')\n",
    "        print('     MSE : %f   |  CV : %f (avg) [%f, %f]' % (mse, np.mean(abs(mse_cv)), abs(max(mse_cv)), abs(min(mse_cv))))\n",
    "        print('    RMSE : %f   |  CV : %f (avg) [%f, %f]' % (rmse, np.mean(abs(rmse_cv)), abs(max(rmse_cv)), abs(min(rmse_cv))))\n",
    "        print('     MAE : %f   |  CV : %f (avg) [%f, %f]' % (mae, np.mean(abs(mae_cv)), abs(max(mae_cv)), abs(min(mae_cv))))\n",
    "        print('    MAPE : %f   |------------------------------------------' % (mape))\n",
    "        print('      R2 : %f   |  CV : %f (avg) [%f, %f]' % (r2, np.mean(r2_cv), min(r2_cv), max(r2_cv)))\n",
    "        print('      EV : %f   |  CV : %f (avg) [%f, %f] \\n' % (ev, np.mean(ev_cv), min(ev_cv), max(ev_cv)))"
   ]
  },
  {
   "cell_type": "markdown",
   "metadata": {},
   "source": [
    "### 2.0.2. Train Test Split"
   ]
  },
  {
   "cell_type": "code",
   "execution_count": 35,
   "metadata": {},
   "outputs": [],
   "source": [
    "tts_prop = 0.75 # We define this variable outside so that we don't have to be chaning it over the entire notebook.\n",
    "rand_seed = 27"
   ]
  },
  {
   "cell_type": "code",
   "execution_count": 36,
   "metadata": {},
   "outputs": [],
   "source": [
    "y_clf = target['Hit']\n",
    "y_reg = target['Sales_total']\n",
    "\n",
    "x_train_clf, x_test_clf, y_train_clf, y_test_clf = train_test_split(features, y_clf, train_size = tts_prop, random_state = rand_seed)\n",
    "x_train_reg, x_test_reg, y_train_reg, y_test_reg = train_test_split(features, y_reg, train_size = tts_prop, random_state = rand_seed)"
   ]
  },
  {
   "cell_type": "markdown",
   "metadata": {},
   "source": [
    "### 2.0.3. Standardization with StandardScaler()\n",
    "\n",
    "We are going to perform a standardization preprocess to both train and test sets as we are going to use methods based on distances, which are sensitive to monotonic transformation on data."
   ]
  },
  {
   "cell_type": "code",
   "execution_count": 37,
   "metadata": {},
   "outputs": [],
   "source": [
    "scaler_clf = StandardScaler().fit(x_train_clf)\n",
    "scaler_reg = StandardScaler().fit(x_train_reg)\n",
    "\n",
    "x_train_clf = scaler_clf.transform(x_train_clf)\n",
    "x_test_clf = scaler_clf.transform(x_test_clf)\n",
    "\n",
    "x_train_reg = scaler_reg.transform(x_train_reg)\n",
    "x_test_reg = scaler_reg.transform(x_test_reg)"
   ]
  },
  {
   "cell_type": "markdown",
   "metadata": {},
   "source": [
    "## 2.1. Classification\n",
    "\n",
    "We want to know if, given a data point (a game), whether the product will be a hit or not (= will achieve at least 1M sales in the first year after the release)"
   ]
  },
  {
   "cell_type": "markdown",
   "metadata": {},
   "source": [
    "### 2.1.1. Model Training\n",
    "\n",
    "We are going to try the following models and see the metrics to decide which one we want to use."
   ]
  },
  {
   "cell_type": "code",
   "execution_count": 38,
   "metadata": {},
   "outputs": [],
   "source": [
    "log_r = LogisticRegression()\n",
    "knc = KNeighborsClassifier()\n",
    "tree_c = DecisionTreeClassifier()\n",
    "lin_svc = LinearSVC()\n",
    "svc = SVC(kernel = 'rbf')\n",
    "rfc = RandomForestClassifier()\n",
    "bagc = BaggingClassifier()\n",
    "abc = AdaBoostClassifier()\n",
    "gbc = GradientBoostingClassifier()\n",
    "xgbc = XGBClassifier(eval_metric = 'logloss')\n",
    "\n",
    "models = [log_r, knc, tree_c, lin_svc, rfc, bagc, abc, gbc, xgbc]"
   ]
  },
  {
   "cell_type": "code",
   "execution_count": 39,
   "metadata": {},
   "outputs": [
    {
     "name": "stdout",
     "output_type": "stream",
     "text": [
      "========================================================================\n",
      "LogisticRegression\n",
      "========================================================================\n",
      "    Accuracy : 0.956954   |  CV : 0.958125 (avg) [0.955668, 0.960208]\n",
      "   Precision : 0.720379   |  CV : 0.689098 (avg) [0.629032, 0.743421]\n",
      "      Recall : 0.306452   |  CV : 0.316460 (avg) [0.269129, 0.369393]\n",
      "    F1 Score : 0.429986   |  CV : 0.432670 (avg) [0.382739, 0.484429]\n",
      "     ROC AUC : 0.649898   |  CV : 0.894185 (avg) [0.885839, 0.900432] \n",
      "\n",
      "[[8807   59]\n",
      " [ 344  152]]\n",
      "========================================================================\n",
      "KNeighborsClassifier\n",
      "========================================================================\n",
      "    Accuracy : 0.952147   |  CV : 0.953745 (avg) [0.951128, 0.956202]\n",
      "   Precision : 0.620000   |  CV : 0.574306 (avg) [0.529954, 0.628141]\n",
      "      Recall : 0.250000   |  CV : 0.338063 (avg) [0.303430, 0.371053]\n",
      "    F1 Score : 0.356322   |  CV : 0.425176 (avg) [0.385906, 0.456311]\n",
      "     ROC AUC : 0.620714   |  CV : 0.817812 (avg) [0.796684, 0.835493] \n",
      "\n",
      "[[8790   76]\n",
      " [ 372  124]]\n",
      "========================================================================\n",
      "DecisionTreeClassifier\n",
      "========================================================================\n",
      "    Accuracy : 0.946593   |  CV : 0.946615 (avg) [0.944318, 0.950594]\n",
      "   Precision : 0.496032   |  CV : 0.476760 (avg) [0.454308, 0.512262]\n",
      "      Recall : 0.504032   |  CV : 0.465714 (avg) [0.453826, 0.490765]\n",
      "    F1 Score : 0.500000   |  CV : 0.471080 (avg) [0.452575, 0.512616]\n",
      "     ROC AUC : 0.737692   |  CV : 0.740797 (avg) [0.725317, 0.774651] \n",
      "\n",
      "[[8612  254]\n",
      " [ 246  250]]\n",
      "========================================================================\n",
      "LinearSVC\n",
      "========================================================================\n",
      "    Accuracy : 0.953963   |  CV : 0.904206 (avg) [0.799172, 0.958205]\n",
      "   Precision : 0.787611   |  CV : 0.409739 (avg) [0.223684, 0.604520]\n",
      "      Recall : 0.179435   |  CV : 0.292208 (avg) [0.089710, 0.638522]\n",
      "    F1 Score : 0.292282   |  CV : 0.360482 (avg) [0.137615, 0.483351]\n",
      "     ROC AUC : 0.588364   |  CV : 0.688317 (avg) [0.599067, 0.771901] \n",
      "\n",
      "[[8842   24]\n",
      " [ 407   89]]\n",
      "========================================================================\n",
      "RandomForestClassifier\n",
      "========================================================================\n",
      "    Accuracy : 0.961226   |  CV : 0.961063 (avg) [0.958339, 0.962879]\n",
      "   Precision : 0.738351   |  CV : 0.699436 (avg) [0.632075, 0.755208]\n",
      "      Recall : 0.415323   |  CV : 0.405048 (avg) [0.372032, 0.443272]\n",
      "    F1 Score : 0.531613   |  CV : 0.508949 (avg) [0.446701, 0.558065]\n",
      "     ROC AUC : 0.703544   |  CV : 0.942669 (avg) [0.934851, 0.952043] \n",
      "\n",
      "[[8793   73]\n",
      " [ 290  206]]\n",
      "========================================================================\n",
      "BaggingClassifier\n",
      "========================================================================\n",
      "    Accuracy : 0.958022   |  CV : 0.958446 (avg) [0.954333, 0.962078]\n",
      "   Precision : 0.645070   |  CV : 0.629766 (avg) [0.589212, 0.671815]\n",
      "      Recall : 0.461694   |  CV : 0.407679 (avg) [0.361478, 0.448549]\n",
      "    F1 Score : 0.538190   |  CV : 0.503393 (avg) [0.480392, 0.533123]\n",
      "     ROC AUC : 0.723741   |  CV : 0.891292 (avg) [0.878571, 0.906072] \n",
      "\n",
      "[[8740  126]\n",
      " [ 267  229]]\n",
      "========================================================================\n",
      "AdaBoostClassifier\n",
      "========================================================================\n",
      "    Accuracy : 0.955565   |  CV : 0.957751 (avg) [0.955535, 0.959941]\n",
      "   Precision : 0.660000   |  CV : 0.661707 (avg) [0.628866, 0.695000]\n",
      "      Recall : 0.332661   |  CV : 0.337034 (avg) [0.277045, 0.374670]\n",
      "    F1 Score : 0.442359   |  CV : 0.445998 (avg) [0.386740, 0.486301]\n",
      "     ROC AUC : 0.661537   |  CV : 0.946872 (avg) [0.942624, 0.953272] \n",
      "\n",
      "[[8781   85]\n",
      " [ 331  165]]\n",
      "========================================================================\n",
      "GradientBoostingClassifier\n",
      "========================================================================\n",
      "    Accuracy : 0.960051   |  CV : 0.961731 (avg) [0.958606, 0.964615]\n",
      "   Precision : 0.745968   |  CV : 0.727393 (avg) [0.676923, 0.790816]\n",
      "      Recall : 0.372984   |  CV : 0.391868 (avg) [0.348285, 0.430079]\n",
      "    F1 Score : 0.497312   |  CV : 0.508872 (avg) [0.459930, 0.549747]\n",
      "     ROC AUC : 0.682939   |  CV : 0.951313 (avg) [0.941210, 0.961084] \n",
      "\n",
      "[[8803   63]\n",
      " [ 311  185]]\n",
      "========================================================================\n",
      "XGBClassifier\n",
      "========================================================================\n",
      "    Accuracy : 0.963363   |  CV : 0.962345 (avg) [0.957671, 0.966084]\n",
      "   Precision : 0.735385   |  CV : 0.695108 (avg) [0.628099, 0.743191]\n",
      "      Recall : 0.481855   |  CV : 0.456744 (avg) [0.401055, 0.503958]\n",
      "    F1 Score : 0.582217   |  CV : 0.550971 (avg) [0.489533, 0.600629]\n",
      "     ROC AUC : 0.736077   |  CV : 0.956500 (avg) [0.952442, 0.961517] \n",
      "\n",
      "[[8780   86]\n",
      " [ 257  239]]\n"
     ]
    }
   ],
   "source": [
    "for model in models:\n",
    "    \n",
    "    evaluate(model, x_train_clf, x_test_clf, y_train_clf, y_test_clf, features, y_clf)"
   ]
  },
  {
   "cell_type": "markdown",
   "metadata": {},
   "source": [
    "### 2.1.2. Conclusion\n",
    "\n",
    "Comparing the metrics (min and max value for each of them in the K-fold cross validation), we can see that XGBoost is the best performing, as it has:\n",
    "\n",
    "- Has high values in every metric among all the models we tried.\n",
    "\n",
    "- Has the **highest average Precision, F1 score and ROC AUC**.\n",
    "\n",
    "    - In the Precision-Recall trade-off, we will choose ***Precision*** over recall. This is due to the nature of video games needing funds in advance to get developed.\n",
    "    \n",
    "    - Investors (if there are any) and/or publishers  risk losing money by funding them.\n",
    "    \n",
    "    - Let's imagine 2 possible scenarios:\n",
    "    \n",
    "        - **Scenario 1**: We prioritize Recall, so we will get a lot of False Positives for the sake of getting the most True Positives possible.\n",
    "        \n",
    "            - If we predict a game as a success and it results in it not being a hit, the cost is huge for the investors, publishers and developers.\n",
    "            - Prioritizing recall reduces precision, so this is something very likely to happen.\n",
    "            \n",
    "        - **Scenario 2**: We prioritize Precision, so we will get a lot of False Negatives for the sake of not getting  many False Positives.\n",
    "        \n",
    "            - If we predict a games as a non-success and it end up being a hit, the cost is much less than the first scenario.\n",
    "            - It would have been harder for the developers to find funding, but a hit is a hit.\n",
    "            - Moreover, if developers cancelled the project due to the prediction, at least they wouldn't have spent the money.\n",
    "            \n",
    "            \n",
    "    - Thus, maximizing precision is more important.\n",
    "    \n",
    "    - However, we choose this model due to the high score overall and because it also has the second highest average recall.\n",
    "\n",
    "- Has the highest Accuracy, but this happens due to **this dataset being imbalanced** (it's skewed towards the non-hits)."
   ]
  },
  {
   "cell_type": "markdown",
   "metadata": {},
   "source": [
    "## 2.2. Regression\n",
    "\n",
    "We want to know, given a video game product, it's estimated sales in the first year after release."
   ]
  },
  {
   "cell_type": "markdown",
   "metadata": {},
   "source": [
    "### 2.2.1. Model Training\n",
    "\n",
    "We are going to try the following models and see the metrics to decide which one we want to use."
   ]
  },
  {
   "cell_type": "code",
   "execution_count": 40,
   "metadata": {},
   "outputs": [],
   "source": [
    "lr = LinearRegression()\n",
    "rr = Ridge()\n",
    "lasso = Lasso()\n",
    "elast = ElasticNet()\n",
    "knr = KNeighborsRegressor()\n",
    "tree = DecisionTreeRegressor()\n",
    "lin_svc = LinearSVR()\n",
    "svr = SVR(kernel = 'rbf')\n",
    "rfr = RandomForestRegressor()\n",
    "bagr = BaggingRegressor()\n",
    "adar = AdaBoostRegressor()\n",
    "gbr = GradientBoostingRegressor()\n",
    "xgbr = XGBRegressor()\n",
    "\n",
    "models = [lr, rr, lasso, elast, knr, tree,  lin_svc, svr, rfr, bagr, adar, gbr, xgbr]"
   ]
  },
  {
   "cell_type": "code",
   "execution_count": 41,
   "metadata": {},
   "outputs": [
    {
     "name": "stdout",
     "output_type": "stream",
     "text": [
      "=================================================================\n",
      "LinearRegression\n",
      "=================================================================\n",
      "     MSE : 3.754942   |  CV : 2.029814 (avg) [0.848101, 4.135519]\n",
      "    RMSE : 1.937767   |  CV : 1.356747 (avg) [0.920924, 2.033597]\n",
      "     MAE : 0.313917   |  CV : 0.328029 (avg) [0.315580, 0.337675]\n",
      "    MAPE : 0.655164   |------------------------------------------\n",
      "      R2 : 0.104210   |  CV : 0.122238 (avg) [0.089900, 0.157655]\n",
      "      EV : 0.104700   |  CV : 0.123108 (avg) [0.092558, 0.157888] \n",
      "\n",
      "=================================================================\n",
      "Ridge\n",
      "=================================================================\n",
      "     MSE : 3.754950   |  CV : 2.029785 (avg) [0.848009, 4.135540]\n",
      "    RMSE : 1.937769   |  CV : 1.356732 (avg) [0.920874, 2.033603]\n",
      "     MAE : 0.313911   |  CV : 0.327951 (avg) [0.315513, 0.337594]\n",
      "    MAPE : 0.630136   |------------------------------------------\n",
      "      R2 : 0.104208   |  CV : 0.122266 (avg) [0.089930, 0.157679]\n",
      "      EV : 0.104698   |  CV : 0.123137 (avg) [0.092590, 0.157911] \n",
      "\n",
      "=================================================================\n",
      "Lasso\n",
      "=================================================================\n",
      "     MSE : 4.193981   |  CV : 2.105411 (avg) [0.874438, 4.281133]\n",
      "    RMSE : 2.047921   |  CV : 1.381454 (avg) [0.935114, 2.069090]\n",
      "     MAE : 0.367916   |  CV : 0.315476 (avg) [0.295295, 0.334594]\n",
      "    MAPE : 1.306450   |------------------------------------------\n",
      "      R2 : -0.000529   |  CV : 0.090630 (avg) [0.065962, 0.120258]\n",
      "      EV : -0.000000   |  CV : 0.092240 (avg) [0.070517, 0.120382] \n",
      "\n",
      "=================================================================\n",
      "ElasticNet\n",
      "=================================================================\n",
      "     MSE : 4.193981   |  CV : 2.105800 (avg) [0.876240, 4.281237]\n",
      "    RMSE : 2.047921   |  CV : 1.381682 (avg) [0.936077, 2.069115]\n",
      "     MAE : 0.367916   |  CV : 0.316574 (avg) [0.296803, 0.333671]\n",
      "    MAPE : 1.306450   |------------------------------------------\n",
      "      R2 : -0.000529   |  CV : 0.090179 (avg) [0.065468, 0.120110]\n",
      "      EV : -0.000000   |  CV : 0.091797 (avg) [0.070066, 0.120236] \n",
      "\n",
      "=================================================================\n",
      "KNeighborsRegressor\n",
      "=================================================================\n",
      "     MSE : 1.364058   |  CV : 0.844012 (avg) [0.486044, 1.499016]\n",
      "    RMSE : 1.167929   |  CV : 0.901258 (avg) [0.697169, 1.224343]\n",
      "     MAE : 0.184865   |  CV : 0.180604 (avg) [0.163775, 0.203429]\n",
      "    MAPE : inf   |------------------------------------------\n",
      "      R2 : 0.674586   |  CV : 0.561210 (avg) [0.285127, 0.735889]\n",
      "      EV : 0.675241   |  CV : 0.561387 (avg) [0.285210, 0.736220] \n",
      "\n",
      "=================================================================\n",
      "DecisionTreeRegressor\n",
      "=================================================================\n",
      "     MSE : 1.127335   |  CV : 1.215775 (avg) [0.639936, 2.960091]\n",
      "    RMSE : 1.061760   |  CV : 1.067042 (avg) [0.848246, 1.713300]\n",
      "     MAE : 0.186950   |  CV : 0.188514 (avg) [0.164750, 0.235199]\n",
      "    MAPE : inf   |------------------------------------------\n",
      "      R2 : 0.731059   |  CV : 0.415358 (avg) [0.222817, 0.677612]\n",
      "      EV : 0.731067   |  CV : 0.414809 (avg) [0.221604, 0.692805] \n",
      "\n",
      "=================================================================\n",
      "LinearSVR\n",
      "=================================================================\n",
      "     MSE : 3.985280   |  CV : 15.798095 (avg) [0.901806, 72.543880]\n",
      "    RMSE : 1.996317   |  CV : 2.045083 (avg) [1.144330, 3.314091]\n",
      "     MAE : 0.212431   |  CV : 0.596476 (avg) [0.371393, 0.845633]\n",
      "    MAPE : 0.325257   |------------------------------------------\n",
      "      R2 : 0.049260   |  CV : -0.965579 (avg) [-3.903104, 0.017731]\n",
      "      EV : 0.055644   |  CV : -0.486768 (avg) [-1.194840, 0.036406] \n",
      "\n",
      "=================================================================\n",
      "SVR\n",
      "=================================================================\n",
      "     MSE : 3.623806   |  CV : 2.153963 (avg) [0.874794, 4.430599]\n",
      "    RMSE : 1.903630   |  CV : 1.394050 (avg) [0.935304, 2.104899]\n",
      "     MAE : 0.235087   |  CV : 0.225325 (avg) [0.184135, 0.266756]\n",
      "    MAPE : 0.639901   |------------------------------------------\n",
      "      R2 : 0.135494   |  CV : 0.078328 (avg) [0.044756, 0.111484]\n",
      "      EV : 0.137040   |  CV : 0.081076 (avg) [0.047892, 0.112722] \n",
      "\n",
      "=================================================================\n",
      "RandomForestRegressor\n",
      "=================================================================\n",
      "     MSE : 0.876628   |  CV : 0.838038 (avg) [0.445758, 2.005352]\n",
      "    RMSE : 0.936284   |  CV : 0.870126 (avg) [0.653982, 1.406378]\n",
      "     MAE : 0.158847   |  CV : 0.154900 (avg) [0.137687, 0.184222]\n",
      "    MAPE : 0.429120   |------------------------------------------\n",
      "      R2 : 0.790869   |  CV : 0.616964 (avg) [0.426386, 0.791788]\n",
      "      EV : 0.790869   |  CV : 0.613041 (avg) [0.432988, 0.783714] \n",
      "\n",
      "=================================================================\n",
      "BaggingRegressor\n",
      "=================================================================\n",
      "     MSE : 0.928397   |  CV : 0.851611 (avg) [0.450387, 2.038256]\n",
      "    RMSE : 0.963533   |  CV : 0.898261 (avg) [0.668134, 1.444079]\n",
      "     MAE : 0.164226   |  CV : 0.160445 (avg) [0.143183, 0.187772]\n",
      "    MAPE : 0.463758   |------------------------------------------\n",
      "      R2 : 0.778519   |  CV : 0.596160 (avg) [0.420258, 0.787402]\n",
      "      EV : 0.778519   |  CV : 0.588404 (avg) [0.450445, 0.759282] \n",
      "\n",
      "=================================================================\n",
      "AdaBoostRegressor\n",
      "=================================================================\n",
      "     MSE : 0.998577   |  CV : 1.081384 (avg) [0.442807, 2.765316]\n",
      "    RMSE : 0.999288   |  CV : 0.980271 (avg) [0.718879, 1.547322]\n",
      "     MAE : 0.297961   |  CV : 0.300760 (avg) [0.247258, 0.392868]\n",
      "    MAPE : 0.959261   |------------------------------------------\n",
      "      R2 : 0.761776   |  CV : 0.565696 (avg) [0.357912, 0.737303]\n",
      "      EV : 0.761884   |  CV : 0.546316 (avg) [0.316364, 0.770564] \n",
      "\n",
      "=================================================================\n",
      "GradientBoostingRegressor\n",
      "=================================================================\n",
      "     MSE : 0.895186   |  CV : 0.774004 (avg) [0.444222, 1.755578]\n",
      "    RMSE : 0.946143   |  CV : 0.843918 (avg) [0.660656, 1.328204]\n",
      "     MAE : 0.172708   |  CV : 0.166827 (avg) [0.149920, 0.192893]\n",
      "    MAPE : 0.491125   |------------------------------------------\n",
      "      R2 : 0.786442   |  CV : 0.639894 (avg) [0.478382, 0.802518]\n",
      "      EV : 0.786483   |  CV : 0.635525 (avg) [0.454990, 0.804497] \n",
      "\n",
      "=================================================================\n",
      "XGBRegressor\n",
      "=================================================================\n",
      "     MSE : 0.902618   |  CV : 0.845306 (avg) [0.411064, 2.045943]\n",
      "    RMSE : 0.950062   |  CV : 0.874248 (avg) [0.641143, 1.430365]\n",
      "     MAE : 0.166277   |  CV : 0.160356 (avg) [0.138990, 0.188633]\n",
      "    MAPE : 0.465886   |------------------------------------------\n",
      "      R2 : 0.784669   |  CV : 0.608575 (avg) [0.397289, 0.794949]\n",
      "      EV : 0.784671   |  CV : 0.608623 (avg) [0.397358, 0.794976] \n",
      "\n"
     ]
    }
   ],
   "source": [
    "for model in models:\n",
    "    \n",
    "    evaluate(model, x_train_reg, x_test_reg, y_train_reg, y_test_reg, features, y_reg, classification = False)"
   ]
  },
  {
   "cell_type": "markdown",
   "metadata": {},
   "source": [
    "### 2.2.2. Conclusion\n",
    "\n",
    "Looking at the metrics, we conclude that GradientBoost and XGBoost are the best performing overall (even though they perform very poorly).\n",
    "\n",
    "We are going to choose XGBoostRegressor() for the hyperparameter optimization, as the differences between this estimator and GradientBoostingRegressor() is very small and XGBoost is usually faster than the other."
   ]
  },
  {
   "cell_type": "markdown",
   "metadata": {},
   "source": [
    "---\n",
    "# 3. Hyperparameter Optimization"
   ]
  },
  {
   "cell_type": "markdown",
   "metadata": {},
   "source": [
    "We don't need to apply `StandardScaler()` on the split data, as ensemble methods are insensitive to monotonic transformations.\n",
    "\n",
    "We used it before due to having methods based on distances, which are sensitive to monotonic transformations of their data."
   ]
  },
  {
   "cell_type": "markdown",
   "metadata": {},
   "source": [
    "### 3.0.1. Train Test Split"
   ]
  },
  {
   "cell_type": "code",
   "execution_count": 42,
   "metadata": {},
   "outputs": [],
   "source": [
    "y_clf = target['Hit']\n",
    "y_reg = target['Sales_total']\n",
    "\n",
    "x_train_clf, x_test_clf, y_train_clf, y_test_clf = train_test_split(features, y_clf, train_size = tts_prop, random_state = rand_seed)\n",
    "x_train_reg, x_test_reg, y_train_reg, y_test_reg = train_test_split(features, y_reg, train_size = tts_prop, random_state = rand_seed)"
   ]
  },
  {
   "cell_type": "markdown",
   "metadata": {},
   "source": [
    "## 3.1 Classification\n",
    "\n",
    "We are going to use `GridSearchCV()` to see the best parameters for the `XGBoostClassificator()` estimator."
   ]
  },
  {
   "cell_type": "markdown",
   "metadata": {},
   "source": [
    "### 3.1.1. The Imbalanced Dataset Problem in Classification\n",
    "\n",
    "One thing we have to take into account is that this **dataset is *slightly* imbalanced**, as the proportion of hits versus non-hits is logically relatively small.\n",
    "\n",
    "Let's see what is this proportion:"
   ]
  },
  {
   "cell_type": "code",
   "execution_count": 43,
   "metadata": {},
   "outputs": [
    {
     "data": {
      "text/plain": [
       "0.0    35549\n",
       "1.0     1896\n",
       "Name: Hit, dtype: int64"
      ]
     },
     "execution_count": 43,
     "metadata": {},
     "output_type": "execute_result"
    }
   ],
   "source": [
    "y_clf.value_counts()"
   ]
  },
  {
   "cell_type": "code",
   "execution_count": 44,
   "metadata": {},
   "outputs": [
    {
     "data": {
      "text/plain": [
       "18.74947257383966"
      ]
     },
     "execution_count": 44,
     "metadata": {},
     "output_type": "execute_result"
    }
   ],
   "source": [
    "estimate = (y_clf != 1).sum() / (y_clf == 1).sum()\n",
    "estimate"
   ]
  },
  {
   "cell_type": "markdown",
   "metadata": {},
   "source": [
    "As we can see, there are almost a proportion of hits:non-hits of 1:18.\n",
    "\n",
    "In order to address this problem, if wanted, XGBoost has 2 main options:\n",
    "\n",
    "- Modifying the `scale_pos_weight` hyperparameter value to the proportion we have just calculated above. \n",
    "\n",
    "- Using a technique called Synthetic Minority Over-sampling Technique (SMOTE).\n",
    "\n",
    "There are other methods like undersampling that can work. However, these techniques increase **Recall** and **ROC AUC** at the cost of **drastically reducing Precision**.\n",
    "\n",
    "We will show how it affects, but **we are not going to use neither of them for the final model**.\n",
    "\n",
    "### 3.1.2. Hyperparameter Optimization for XGBoostClassifier()\n",
    "\n",
    "These are the parameters we are going to try optimizing:\n",
    "\n",
    "- `learning_rate`: To make the model more rebust vs overfitting.\n",
    "\n",
    "- `max_depth`: Used to control over-fitting. The bigger this parameter, the higher the likelihood of over-fitting.\n",
    "\n",
    "- `min_child_weight`: Used to control over-fitting. Too high values can result in under-fitting.\n",
    "\n",
    "- `subsample` / `colsample_bytree`: Used to control over-fitting and to decorrelate the trees. The lower, the more conservative the model becomes (but at the risk of under-fitting).\n",
    "\n",
    "We are going to put `cv = 3` so that it doesn't take too long to fihish running the code."
   ]
  },
  {
   "cell_type": "code",
   "execution_count": 45,
   "metadata": {},
   "outputs": [],
   "source": [
    "## The number of possible values has gotten reduced after many tries to reduce the execution time.\n",
    "\n",
    "params = {\n",
    "            'learning_rate'    : [.01, .025, .05],\n",
    "            'max_depth'        : [3, 5, 7],\n",
    "            'min_child_weight' : [1, 3, 5, 7],\n",
    "            'subsample'        : [.5, .65],\n",
    "          }"
   ]
  },
  {
   "cell_type": "markdown",
   "metadata": {},
   "source": [
    "It is not shown here by result, but `estimate` never got selected when Grid Searching in the many tries we did. Furthermore, it was always 1, which is the default value.\n",
    "\n",
    "As we said, we want to maximize **precision**, so we are going to use precision as the scoring metric for the `GridSearchCV()`."
   ]
  },
  {
   "cell_type": "code",
   "execution_count": 46,
   "metadata": {},
   "outputs": [],
   "source": [
    "clf = XGBClassifier(eval_metric = 'logloss')\n",
    "\n",
    "grid_search_clf = GridSearchCV(clf, param_grid = params, scoring = ['precision','f1'], refit = 'precision', n_jobs = 1, cv = 3, verbose = 1)"
   ]
  },
  {
   "cell_type": "code",
   "execution_count": 47,
   "metadata": {},
   "outputs": [
    {
     "name": "stdout",
     "output_type": "stream",
     "text": [
      "Fitting 3 folds for each of 72 candidates, totalling 216 fits\n",
      "CPU times: user 23min 13s, sys: 3min 2s, total: 26min 15s\n",
      "Wall time: 9min 54s\n"
     ]
    },
    {
     "data": {
      "text/plain": [
       "GridSearchCV(cv=3,\n",
       "             estimator=XGBClassifier(base_score=None, booster=None,\n",
       "                                     colsample_bylevel=None,\n",
       "                                     colsample_bynode=None,\n",
       "                                     colsample_bytree=None,\n",
       "                                     eval_metric='logloss', gamma=None,\n",
       "                                     gpu_id=None, importance_type='gain',\n",
       "                                     interaction_constraints=None,\n",
       "                                     learning_rate=None, max_delta_step=None,\n",
       "                                     max_depth=None, min_child_weight=None,\n",
       "                                     missing=nan, monotone_constraints=None,\n",
       "                                     n...\n",
       "                                     num_parallel_tree=None, random_state=None,\n",
       "                                     reg_alpha=None, reg_lambda=None,\n",
       "                                     scale_pos_weight=None, subsample=None,\n",
       "                                     tree_method=None, validate_parameters=None,\n",
       "                                     verbosity=None),\n",
       "             n_jobs=1,\n",
       "             param_grid={'learning_rate': [0.01, 0.025, 0.05],\n",
       "                         'max_depth': [3, 5, 7],\n",
       "                         'min_child_weight': [1, 3, 5, 7],\n",
       "                         'subsample': [0.5, 0.65]},\n",
       "             refit='precision', scoring=['precision', 'f1'], verbose=1)"
      ]
     },
     "execution_count": 47,
     "metadata": {},
     "output_type": "execute_result"
    }
   ],
   "source": [
    "%%time\n",
    "\n",
    "grid_search_clf.fit(features, y_clf)"
   ]
  },
  {
   "cell_type": "code",
   "execution_count": 48,
   "metadata": {},
   "outputs": [
    {
     "data": {
      "text/plain": [
       "{'learning_rate': 0.025,\n",
       " 'max_depth': 3,\n",
       " 'min_child_weight': 3,\n",
       " 'subsample': 0.65}"
      ]
     },
     "execution_count": 48,
     "metadata": {},
     "output_type": "execute_result"
    }
   ],
   "source": [
    "grid_search_clf.best_params_"
   ]
  },
  {
   "cell_type": "code",
   "execution_count": 49,
   "metadata": {},
   "outputs": [
    {
     "data": {
      "text/plain": [
       "XGBClassifier(base_score=0.5, booster='gbtree', colsample_bylevel=1,\n",
       "              colsample_bynode=1, colsample_bytree=1, eval_metric='logloss',\n",
       "              gamma=0, gpu_id=-1, importance_type='gain',\n",
       "              interaction_constraints='', learning_rate=0.025, max_delta_step=0,\n",
       "              max_depth=3, min_child_weight=3, missing=nan,\n",
       "              monotone_constraints='()', n_estimators=100, n_jobs=3,\n",
       "              num_parallel_tree=1, random_state=0, reg_alpha=0, reg_lambda=1,\n",
       "              scale_pos_weight=1, subsample=0.65, tree_method='exact',\n",
       "              validate_parameters=1, verbosity=None)"
      ]
     },
     "execution_count": 49,
     "metadata": {},
     "output_type": "execute_result"
    }
   ],
   "source": [
    "grid_search_clf.best_estimator_"
   ]
  },
  {
   "cell_type": "code",
   "execution_count": 50,
   "metadata": {},
   "outputs": [],
   "source": [
    "xgbc_optimized = XGBClassifier(eval_metric = 'logloss').set_params(**grid_search_clf.best_params_)"
   ]
  },
  {
   "cell_type": "code",
   "execution_count": 51,
   "metadata": {},
   "outputs": [
    {
     "name": "stdout",
     "output_type": "stream",
     "text": [
      "========================================================================\n",
      "XGBClassifier\n",
      "========================================================================\n",
      "    Accuracy : 0.956633   |  CV : 0.958179 (avg) [0.955401, 0.959808]\n",
      "   Precision : 0.812500   |  CV : 0.773391 (avg) [0.682927, 0.861111]\n",
      "      Recall : 0.235887   |  CV : 0.249482 (avg) [0.221636, 0.306069]\n",
      "    F1 Score : 0.365625   |  CV : 0.375768 (avg) [0.334661, 0.431227]\n",
      "     ROC AUC : 0.616421   |  CV : 0.935852 (avg) [0.926240, 0.948073] \n",
      "\n",
      "[[8839   27]\n",
      " [ 379  117]]\n"
     ]
    }
   ],
   "source": [
    "evaluate(xgbc_optimized, x_train_clf, x_test_clf, y_train_clf, y_test_clf, features, y_clf)"
   ]
  },
  {
   "cell_type": "markdown",
   "metadata": {},
   "source": [
    "### 3.1.3. Example of SMOTE\n",
    "\n",
    "As we said above, this technique increases Recall at the cost of reducing Precision, as we show below:"
   ]
  },
  {
   "cell_type": "code",
   "execution_count": 52,
   "metadata": {},
   "outputs": [],
   "source": [
    "sm = SMOTE(random_state = rand_seed)\n",
    "x_train_sm, y_train_sm = sm.fit_resample(x_train_clf, y_train_clf)"
   ]
  },
  {
   "cell_type": "code",
   "execution_count": 53,
   "metadata": {},
   "outputs": [],
   "source": [
    "xgbc_optimized_sm = XGBClassifier(eval_metric = 'logloss').set_params(**grid_search_clf.best_params_)"
   ]
  },
  {
   "cell_type": "code",
   "execution_count": 54,
   "metadata": {},
   "outputs": [
    {
     "name": "stdout",
     "output_type": "stream",
     "text": [
      "========================================================================\n",
      "XGBClassifier\n",
      "========================================================================\n",
      "    Accuracy : 0.830378   |  CV : 0.958179 (avg) [0.955401, 0.959808]\n",
      "   Precision : 0.221713   |  CV : 0.773391 (avg) [0.682927, 0.861111]\n",
      "      Recall : 0.877016   |  CV : 0.249482 (avg) [0.221636, 0.306069]\n",
      "    F1 Score : 0.353946   |  CV : 0.375768 (avg) [0.334661, 0.431227]\n",
      "     ROC AUC : 0.852393   |  CV : 0.935852 (avg) [0.926240, 0.948073] \n",
      "\n",
      "[[7339 1527]\n",
      " [  61  435]]\n"
     ]
    }
   ],
   "source": [
    "evaluate(xgbc_optimized_sm, x_train_sm, x_test_clf, y_train_sm, y_test_clf, features, y_clf)"
   ]
  },
  {
   "cell_type": "markdown",
   "metadata": {},
   "source": [
    "Recall and ROC AUC got increased 24-64% **at the cost of dropping precision by 59%.**"
   ]
  },
  {
   "cell_type": "markdown",
   "metadata": {},
   "source": [
    "### 3.1.4. Conclusion\n",
    "\n",
    "As we explained before, applying SMOTE improved our metrics overall but it obliterated the model's precision, which was the most important metric. Thus, we are not going to use this techique. However, it's something to consider whenever we get an imbalanced dataset and we want to iprove our recall."
   ]
  },
  {
   "cell_type": "markdown",
   "metadata": {},
   "source": [
    "## 3.2. Regression\n",
    "\n",
    "We are going to use `GridSearchCV()` to see the best parameters for the `XGBoostRegressor()` and `GradientBoostingRegressor()` estimators."
   ]
  },
  {
   "cell_type": "markdown",
   "metadata": {},
   "source": [
    "### 3.2.1. Hyperparameter Optimization for XGBoostRegressor() and GradientBoostingRegressor()\n",
    "\n",
    "For **XGBoostRegressor()**, we are going to use the same parameters, with slightly different options, we used for its Classification counterpart."
   ]
  },
  {
   "cell_type": "code",
   "execution_count": 72,
   "metadata": {},
   "outputs": [],
   "source": [
    "## The number of possible values has gotten reduced after many tries to reduce the execution time.\n",
    "params = {\n",
    "            'learning_rate'    : [.01, .025, .05, .1],\n",
    "            'max_depth'        : [3, 5, 7],\n",
    "            'min_child_weight' : [1, 3, 5, 7],\n",
    "            'subsample'        : [.5, .55, .6],\n",
    "          }"
   ]
  },
  {
   "cell_type": "code",
   "execution_count": 73,
   "metadata": {},
   "outputs": [
    {
     "data": {
      "text/plain": [
       "(0.0, 91.428576)"
      ]
     },
     "execution_count": 73,
     "metadata": {},
     "output_type": "execute_result"
    }
   ],
   "source": [
    "(y_reg.unique().min(), y_reg.unique().max()) # Min and max sales"
   ]
  },
  {
   "cell_type": "markdown",
   "metadata": {},
   "source": [
    "Games has a very wide range of sales values (in our case, from 0 to 91.4M sales).\n",
    "\n",
    "Even though MAE is the best in terms of interpretability, it doesn't capture the great range of the output.\n",
    "\n",
    "Thus, we are going to use `RMSE` (negative in the cross validation because the smaller, the better) to find the best hyperparameters for regression."
   ]
  },
  {
   "cell_type": "code",
   "execution_count": 74,
   "metadata": {},
   "outputs": [],
   "source": [
    "reg = XGBRegressor()\n",
    "\n",
    "grid_search_reg = GridSearchCV(reg, param_grid = params, scoring = 'neg_root_mean_squared_error', n_jobs = 1, cv = 3, verbose = 1)"
   ]
  },
  {
   "cell_type": "code",
   "execution_count": 75,
   "metadata": {},
   "outputs": [
    {
     "name": "stdout",
     "output_type": "stream",
     "text": [
      "Fitting 3 folds for each of 144 candidates, totalling 432 fits\n"
     ]
    },
    {
     "data": {
      "text/plain": [
       "GridSearchCV(cv=3,\n",
       "             estimator=XGBRegressor(base_score=None, booster=None,\n",
       "                                    colsample_bylevel=None,\n",
       "                                    colsample_bynode=None,\n",
       "                                    colsample_bytree=None, gamma=None,\n",
       "                                    gpu_id=None, importance_type='gain',\n",
       "                                    interaction_constraints=None,\n",
       "                                    learning_rate=None, max_delta_step=None,\n",
       "                                    max_depth=None, min_child_weight=None,\n",
       "                                    missing=nan, monotone_constraints=None,\n",
       "                                    n_estimators=100, n_jobs=...\n",
       "                                    num_parallel_tree=None, random_state=None,\n",
       "                                    reg_alpha=None, reg_lambda=None,\n",
       "                                    scale_pos_weight=None, subsample=None,\n",
       "                                    tree_method=None, validate_parameters=None,\n",
       "                                    verbosity=None),\n",
       "             n_jobs=1,\n",
       "             param_grid={'learning_rate': [0.01, 0.025, 0.05, 0.1],\n",
       "                         'max_depth': [3, 5, 7],\n",
       "                         'min_child_weight': [1, 3, 5, 7],\n",
       "                         'subsample': [0.5, 0.55, 0.6]},\n",
       "             scoring='neg_root_mean_squared_error', verbose=1)"
      ]
     },
     "execution_count": 75,
     "metadata": {},
     "output_type": "execute_result"
    }
   ],
   "source": [
    "grid_search_reg.fit(features, y_reg)"
   ]
  },
  {
   "cell_type": "code",
   "execution_count": 76,
   "metadata": {},
   "outputs": [
    {
     "data": {
      "text/plain": [
       "{'learning_rate': 0.05,\n",
       " 'max_depth': 7,\n",
       " 'min_child_weight': 3,\n",
       " 'subsample': 0.6}"
      ]
     },
     "execution_count": 76,
     "metadata": {},
     "output_type": "execute_result"
    }
   ],
   "source": [
    "grid_search_reg.best_params_"
   ]
  },
  {
   "cell_type": "code",
   "execution_count": 77,
   "metadata": {},
   "outputs": [
    {
     "data": {
      "text/plain": [
       "XGBRegressor(base_score=0.5, booster='gbtree', colsample_bylevel=1,\n",
       "             colsample_bynode=1, colsample_bytree=1, gamma=0, gpu_id=-1,\n",
       "             importance_type='gain', interaction_constraints='',\n",
       "             learning_rate=0.05, max_delta_step=0, max_depth=7,\n",
       "             min_child_weight=3, missing=nan, monotone_constraints='()',\n",
       "             n_estimators=100, n_jobs=3, num_parallel_tree=1, random_state=0,\n",
       "             reg_alpha=0, reg_lambda=1, scale_pos_weight=1, subsample=0.6,\n",
       "             tree_method='exact', validate_parameters=1, verbosity=None)"
      ]
     },
     "execution_count": 77,
     "metadata": {},
     "output_type": "execute_result"
    }
   ],
   "source": [
    "grid_search_reg.best_estimator_"
   ]
  },
  {
   "cell_type": "code",
   "execution_count": 78,
   "metadata": {},
   "outputs": [],
   "source": [
    "xgbr_optimized = XGBRegressor().set_params(**grid_search_reg.best_params_)"
   ]
  },
  {
   "cell_type": "code",
   "execution_count": 79,
   "metadata": {},
   "outputs": [
    {
     "name": "stdout",
     "output_type": "stream",
     "text": [
      "=================================================================\n",
      "XGBRegressor\n",
      "=================================================================\n",
      "     MSE : 0.986603   |  CV : 0.742011 (avg) [0.423727, 1.587005]\n",
      "    RMSE : 0.993279   |  CV : 0.832025 (avg) [0.650943, 1.259764]\n",
      "     MAE : 0.169374   |  CV : 0.159404 (avg) [0.140219, 0.179862]\n",
      "    MAPE : 0.477122   |------------------------------------------\n",
      "      R2 : 0.764633   |  CV : 0.640816 (avg) [0.438428, 0.789747]\n",
      "      EV : 0.764674   |  CV : 0.640946 (avg) [0.438704, 0.789797] \n",
      "\n"
     ]
    }
   ],
   "source": [
    "evaluate(xgbr_optimized, x_train_reg, x_test_reg, y_train_reg, y_test_reg, features, y_reg, classification = False)"
   ]
  },
  {
   "cell_type": "markdown",
   "metadata": {},
   "source": [
    "---\n",
    "# 4. Save Estimators \n",
    "\n",
    "We are going to use Pickle to save the classifier and regressor models so that we can use them for the deployment."
   ]
  },
  {
   "cell_type": "code",
   "execution_count": 63,
   "metadata": {},
   "outputs": [],
   "source": [
    "import pickle\n",
    "\n",
    "clf_file = 'Files/XGBClassifier_untuned.sav'\n",
    "clf_file_tuned = 'Files/XGBClassifier_tuned.sav'\n",
    "reg_file = 'Files/XGBRegressor_untuned.sav'\n",
    "reg_file_tuned = 'Files/XGBRegressor_tuned.sav'\n",
    "\n",
    "clf_out = open(clf_file, 'wb')\n",
    "clf_out_tuned = open(clf_file_tuned, 'wb')\n",
    "reg_out = open(reg_file, 'wb')\n",
    "reg_out_tuned = open(reg_file_tuned, 'wb')\n",
    "\n",
    "pickle.dump(xgbc, clf_out)\n",
    "pickle.dump(xgbc_optimized, clf_out_tuned)\n",
    "pickle.dump(xgbr, reg_out)\n",
    "pickle.dump(xgbr_optimized, reg_out_tuned)\n",
    "\n",
    "clf_out.close()\n",
    "clf_out_tuned.close()\n",
    "reg_out.close()\n",
    "reg_out_tuned.close()"
   ]
  }
 ],
 "metadata": {
  "kernelspec": {
   "display_name": "Python 3",
   "language": "python",
   "name": "python3"
  },
  "language_info": {
   "codemirror_mode": {
    "name": "ipython",
    "version": 3
   },
   "file_extension": ".py",
   "mimetype": "text/x-python",
   "name": "python",
   "nbconvert_exporter": "python",
   "pygments_lexer": "ipython3",
   "version": "3.7.10"
  }
 },
 "nbformat": 4,
 "nbformat_minor": 2
}
